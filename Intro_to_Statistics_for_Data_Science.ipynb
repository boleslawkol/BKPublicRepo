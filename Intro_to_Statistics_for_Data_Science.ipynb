{
  "nbformat": 4,
  "nbformat_minor": 0,
  "metadata": {
    "colab": {
      "provenance": [],
      "toc_visible": true,
      "include_colab_link": true
    },
    "kernelspec": {
      "name": "python3",
      "display_name": "Python 3"
    },
    "language_info": {
      "name": "python"
    }
  },
  "cells": [
    {
      "cell_type": "markdown",
      "metadata": {
        "id": "view-in-github",
        "colab_type": "text"
      },
      "source": [
        "<a href=\"https://colab.research.google.com/github/boleslawkol/Purdue-Notebooks/blob/main/Intro_to_Statistics_for_Data_Science.ipynb\" target=\"_parent\"><img src=\"https://colab.research.google.com/assets/colab-badge.svg\" alt=\"Open In Colab\"/></a>"
      ]
    },
    {
      "cell_type": "markdown",
      "source": [
        "# Introduction to Statistics\n",
        "## What Is Statistics?\n",
        "**Definition:** Statistics is a field that deals with the collection, analysis, interpretation, presentation, and organization of data.\n",
        "\n",
        "Example:\n",
        "- Consider the following dataset, representing ages of 10 people:"
      ],
      "metadata": {
        "id": "9EnKIbC8ioiN"
      }
    },
    {
      "cell_type": "code",
      "source": [
        "# Required Python imports\n",
        "\n",
        "import numpy as np\n",
        "import pandas as pd\n",
        "import matplotlib.pyplot as plt\n",
        "import seaborn as sns"
      ],
      "metadata": {
        "id": "mvUD19o3xxF5"
      },
      "execution_count": null,
      "outputs": []
    },
    {
      "cell_type": "code",
      "source": [
        "ages = [25, 30, 35, 40, 45, 25, 30, 40, 50, 60]\n",
        "ages_array = np.array(ages)"
      ],
      "metadata": {
        "id": "AyeRJeFtujiY"
      },
      "execution_count": null,
      "outputs": []
    },
    {
      "cell_type": "markdown",
      "source": [
        "Using Python's Numpy library, we can easily compute the mean of these ages:\n"
      ],
      "metadata": {
        "id": "eoCUfiHSupox"
      }
    },
    {
      "cell_type": "code",
      "source": [
        "ages_array.mean()"
      ],
      "metadata": {
        "colab": {
          "base_uri": "https://localhost:8080/"
        },
        "id": "vzOZaD14ulVy",
        "outputId": "d2c050e8-8e34-4f79-d5ff-c927eaaa290a"
      },
      "execution_count": null,
      "outputs": [
        {
          "output_type": "execute_result",
          "data": {
            "text/plain": [
              "38.0"
            ]
          },
          "metadata": {},
          "execution_count": 3
        }
      ]
    },
    {
      "cell_type": "code",
      "source": [
        "ages_array.std()"
      ],
      "metadata": {
        "colab": {
          "base_uri": "https://localhost:8080/"
        },
        "id": "iRfftg_1rawj",
        "outputId": "84b357d1-d646-4bae-f7c3-48758518312c"
      },
      "execution_count": null,
      "outputs": [
        {
          "output_type": "execute_result",
          "data": {
            "text/plain": [
              "10.770329614269007"
            ]
          },
          "metadata": {},
          "execution_count": 5
        }
      ]
    },
    {
      "cell_type": "code",
      "source": [
        "ages_array.min()"
      ],
      "metadata": {
        "colab": {
          "base_uri": "https://localhost:8080/"
        },
        "id": "2oAfnLS9rk2t",
        "outputId": "57989a51-1bcd-4330-a277-06e01be24e25"
      },
      "execution_count": null,
      "outputs": [
        {
          "output_type": "execute_result",
          "data": {
            "text/plain": [
              "25"
            ]
          },
          "metadata": {},
          "execution_count": 6
        }
      ]
    },
    {
      "cell_type": "markdown",
      "source": [
        "## Why Statistics?\n",
        "Statistics help us:\n",
        "\n",
        "- Make sense of large datasets.\n",
        "- Make decisions based on data.\n",
        "- Predict future outcomes."
      ],
      "metadata": {
        "id": "CraO9oHWisQj"
      }
    },
    {
      "cell_type": "markdown",
      "source": [
        "Difference Between Population and Sample\n",
        "- Population: Refers to the entire set of items or individuals of interest.\n",
        "- Sample: A subset chosen from the population."
      ],
      "metadata": {
        "id": "9CzAD7bVisw6"
      }
    },
    {
      "cell_type": "code",
      "source": [
        "# Entire dataset (Population)\n",
        "population = [1, 2, 3, 4, 5, 6, 7, 8, 9, 10]\n",
        "\n",
        "# Subset of the dataset (Sample)\n",
        "sample = [3, 5, 7, 9]\n"
      ],
      "metadata": {
        "id": "B8jblODRvIoi"
      },
      "execution_count": null,
      "outputs": []
    },
    {
      "cell_type": "markdown",
      "source": [
        "## Different Types of Statistics\n",
        "\n",
        "1. **Descriptive Statistics:** Describes and summarizes data.\n",
        "2. **Inferential Statistics:** Makes predictions or inferences about a population based on a sample.\n"
      ],
      "metadata": {
        "id": "89iHQWmyis6V"
      }
    },
    {
      "cell_type": "markdown",
      "source": [
        "**Example of Descriptive Statistics:**"
      ],
      "metadata": {
        "id": "lFVLK2A6itEO"
      }
    },
    {
      "cell_type": "code",
      "source": [
        "# Using the ages dataset from before\n",
        "median_age = np.median(ages_array)\n",
        "mean_age = np.mean(ages_array)\n",
        "print(\"Median:\", median_age)\n",
        "print(\"Mean:\", mean_age)\n"
      ],
      "metadata": {
        "colab": {
          "base_uri": "https://localhost:8080/"
        },
        "id": "jGSNPH-3vWE3",
        "outputId": "79f3f162-5b59-4a14-bed9-056e6bbb8aad"
      },
      "execution_count": null,
      "outputs": [
        {
          "output_type": "stream",
          "name": "stdout",
          "text": [
            "Median: 37.5\n",
            "Mean: 38.0\n"
          ]
        }
      ]
    },
    {
      "cell_type": "markdown",
      "source": [
        "## Importance of Statistical Concepts in Data Science\n",
        "Data Science heavily relies on statistical concepts for:\n",
        "\n",
        "- Data exploration.\n",
        "- Data analysis.\n",
        "- Building predictive models.\n",
        "- Testing hypotheses."
      ],
      "metadata": {
        "id": "8PtmMj4uitKw"
      }
    },
    {
      "cell_type": "markdown",
      "source": [
        "## Why Statistics Is Vital for Business Success\n",
        "1. **Data-Driven Decisions:** Statistics help businesses base their decisions on empirical evidence.\n",
        "2. **Predictive Analysis:** Predicting future trends.\n",
        "3. **Optimization:** Streamlining operations and maximizing profit."
      ],
      "metadata": {
        "id": "dSk8YK3vitNi"
      }
    },
    {
      "cell_type": "markdown",
      "source": [
        "## Case Studies of Statistics Use in Business\n",
        "- Netflix: Uses statistics to recommend shows to its users.\n",
        "- Amazon: Uses statistics for product recommendations and demand forecasting.\n"
      ],
      "metadata": {
        "id": "rAGBzQBritP_"
      }
    },
    {
      "cell_type": "markdown",
      "source": [
        "## References:\n",
        "\n",
        "- Statistics by Robert S. Witte\n",
        "- Naked Statistics by Charles Wheelan"
      ],
      "metadata": {
        "id": "5yJkOc79itS2"
      }
    },
    {
      "cell_type": "markdown",
      "source": [
        "## Analogies to Make Concepts Clear\n",
        "- **Statistics vs. a Language:** Just as we use languages to communicate, statistics is a language to communicate with data.\n",
        "- **Population vs. Sample:** Think of the population as the entire ocean, and the sample as a bucket of water from the ocean."
      ],
      "metadata": {
        "id": "joqQaZjAitVg"
      }
    },
    {
      "cell_type": "markdown",
      "source": [],
      "metadata": {
        "id": "ZvNW4T3EitYL"
      }
    },
    {
      "cell_type": "markdown",
      "source": [],
      "metadata": {
        "id": "xvXd83ZPitbD"
      }
    },
    {
      "cell_type": "markdown",
      "source": [],
      "metadata": {
        "id": "Ejikiy-Aitg7"
      }
    },
    {
      "cell_type": "markdown",
      "source": [],
      "metadata": {
        "id": "9ShyLylPitjf"
      }
    },
    {
      "cell_type": "markdown",
      "source": [],
      "metadata": {
        "id": "RO_DIS41itmE"
      }
    },
    {
      "cell_type": "markdown",
      "source": [],
      "metadata": {
        "id": "fcTTF25OitpB"
      }
    },
    {
      "cell_type": "markdown",
      "source": [],
      "metadata": {
        "id": "Ob43EqH0itrf"
      }
    },
    {
      "cell_type": "markdown",
      "source": [
        "# Data Visualization\n",
        "Data visualization is the graphical representation of information and data. By using visual elements like charts, graphs, and maps, data visualization tools provide an accessible way to see and understand trends, outliers, and patterns in data.\n",
        "\n",
        "- https://www.data-to-viz.com/\n",
        "- https://python-graph-gallery.com/"
      ],
      "metadata": {
        "id": "xyz3S1snittz"
      }
    },
    {
      "cell_type": "markdown",
      "source": [
        "## Basic Charts\n"
      ],
      "metadata": {
        "id": "92wfdGyxyQam"
      }
    },
    {
      "cell_type": "markdown",
      "source": [
        "###1. Line Chart\n",
        "Useful for visualizing data that changes continuously over intervals or time."
      ],
      "metadata": {
        "id": "9VMtyv7Mybyn"
      }
    },
    {
      "cell_type": "code",
      "source": [
        "# Sample Data\n",
        "x = np.linspace(0, 10, 100)\n",
        "y = np.sin(x)\n",
        "\n",
        "plt.plot(x, y)\n",
        "plt.title(\"Line Chart of sin(x)\")\n",
        "plt.show()\n"
      ],
      "metadata": {
        "colab": {
          "base_uri": "https://localhost:8080/",
          "height": 452
        },
        "id": "L6ApRSsziqyZ",
        "outputId": "a685e6f4-c2a8-4307-fd82-c1d71754305b"
      },
      "execution_count": null,
      "outputs": [
        {
          "output_type": "display_data",
          "data": {
            "text/plain": [
              "<Figure size 640x480 with 1 Axes>"
            ],
            "image/png": "[encoded data removed]"
          },
          "metadata": {}
        }
      ]
    },
    {
      "cell_type": "markdown",
      "source": [
        "**Plotting a line chart with matplotlib**"
      ],
      "metadata": {
        "id": "HTJuCcjG9crD"
      }
    },
    {
      "cell_type": "code",
      "source": [
        "x = [1,2,3,4,5]\n",
        "y = [1, 4, 9, 16, 25]\n",
        "\n",
        "plt.plot(x, y, marker=\"*\")\n",
        "plt.xlabel(\"x-axis\")\n",
        "plt.ylabel(\"y-axis\")\n",
        "plt.title(\"Basic line chart\")"
      ],
      "metadata": {
        "colab": {
          "base_uri": "https://localhost:8080/",
          "height": 489
        },
        "id": "d7CHx4gj9qu1",
        "outputId": "dce7bb9f-272a-4856-c81d-6f33c6a2526b"
      },
      "execution_count": null,
      "outputs": [
        {
          "output_type": "execute_result",
          "data": {
            "text/plain": [
              "Text(0.5, 1.0, 'Basic line chart')"
            ]
          },
          "metadata": {},
          "execution_count": 8
        },
        {
          "output_type": "display_data",
          "data": {
            "text/plain": [
              "<Figure size 640x480 with 1 Axes>"
            ],
            "image/png": "[encoded data removed]"
          },
          "metadata": {}
        }
      ]
    },
    {
      "cell_type": "markdown",
      "source": [
        "Plotting wth seaborn"
      ],
      "metadata": {
        "id": "VPwth3ExuVuH"
      }
    },
    {
      "cell_type": "code",
      "source": [
        "import matplotlib.pyplot as plt\n",
        "import seaborn as sns\n",
        "import pandas as pd\n",
        "\n",
        "# Sample data\n",
        "data = {\n",
        "    'Month': list(range(1, 25)),\n",
        "    'Sales_2019': [150, 160, 165, 170, 180, 185, 190, 200, 210, 220, 230, 240, 250, 260, 265, 270, 280, 285, 290, 300, 310, 320, 330, 340],\n",
        "    'Sales_2020': [155, 165, 170, 175, 185, 190, 195, 205, 215, 225, 235, 245, 255, 265, 270, 275, 285, 290, 295, 305, 315, 325, 335, 345]\n",
        "}\n",
        "\n",
        "df = pd.DataFrame(data)"
      ],
      "metadata": {
        "id": "n8tOW5RAubBv"
      },
      "execution_count": null,
      "outputs": []
    },
    {
      "cell_type": "code",
      "source": [
        "sns.lineplot(x ='Month', y='Sales_2019', data=df, label=\"2019\", marker='+')\n",
        "sns.lineplot(x ='Month', y='Sales_2020', data=df, label=\"2020\")\n",
        "plt.xlabel(\"Month\")\n",
        "plt.ylabel(\"Sales ($)\")\n",
        "plt.title(\"Monthly Sales Data\")\n",
        "plt.legend()\n",
        "plt.grid(True)\n",
        "plt.show()"
      ],
      "metadata": {
        "colab": {
          "base_uri": "https://localhost:8080/",
          "height": 472
        },
        "id": "2PIwy3WpuyRN",
        "outputId": "39f981a5-3d34-426a-fa11-ee3068a98605"
      },
      "execution_count": null,
      "outputs": [
        {
          "output_type": "display_data",
          "data": {
            "text/plain": [
              "<Figure size 640x480 with 1 Axes>"
            ],
            "image/png": "[encoded data removed]"
          },
          "metadata": {}
        }
      ]
    },
    {
      "cell_type": "markdown",
      "source": [
        "**Insights:**\n",
        "- ***Trend:*** upward trend in sales for both 2019 and 2020\n",
        "- ***Pattern:*** there seems to be seasonality where lower sales take place during the first months fo each year.\n",
        "- ***Outliers:*** there are no visible outliers in either 2019 or 2020"
      ],
      "metadata": {
        "id": "aQlxJL21v09A"
      }
    },
    {
      "cell_type": "markdown",
      "source": [
        "### Data science example\n",
        "Visualize how sales change month over month"
      ],
      "metadata": {
        "id": "4pQ2GwIo-V1r"
      }
    },
    {
      "cell_type": "code",
      "source": [
        "months = [1,2,3,4,5,6,7,8,9,10,11,12]\n",
        "sales_2020 = [200, 220, 250, 275, 300, 320, 360, 370, 400, 420, 450, 480]\n",
        "sales_2021 = [220, 240, 255, 285, 320, 340, 370, 390, 410, 440, 460, 500]"
      ],
      "metadata": {
        "id": "rXnWxHSr-er1"
      },
      "execution_count": null,
      "outputs": []
    },
    {
      "cell_type": "code",
      "source": [
        "plt.plot(months, sales_2020, marker ='o', label='2020')\n",
        "plt.plot(months, sales_2021, marker ='x', label='2021')\n",
        "plt.xlabel(\"Month\")\n",
        "plt.ylabel(\"Sales ($)\")\n",
        "plt.title(\"Monthly Sales Data\")\n",
        "plt.legend()\n",
        "plt.grid(True)\n",
        "plt.show()"
      ],
      "metadata": {
        "colab": {
          "base_uri": "https://localhost:8080/",
          "height": 472
        },
        "id": "22sJ0szU-1Ur",
        "outputId": "3edcb26f-968d-42a0-8c27-49f30ce6e9bc"
      },
      "execution_count": null,
      "outputs": [
        {
          "output_type": "display_data",
          "data": {
            "text/plain": [
              "<Figure size 640x480 with 1 Axes>"
            ],
            "image/png": "[encoded data removed]"
          },
          "metadata": {}
        }
      ]
    },
    {
      "cell_type": "code",
      "source": [],
      "metadata": {
        "id": "gEuvIbll-Uzz"
      },
      "execution_count": null,
      "outputs": []
    },
    {
      "cell_type": "markdown",
      "source": [
        "### 2. Bar Chart\n",
        "Great for comparing categorical data."
      ],
      "metadata": {
        "id": "l-1EBmSIyXTF"
      }
    },
    {
      "cell_type": "code",
      "source": [
        "# Sample Data\n",
        "categories = [\"A\", \"B\", \"C\", \"D\"]\n",
        "values = [10, 23, 17, 8]\n",
        "\n",
        "plt.bar(categories, values)\n",
        "plt.title(\"Bar Chart of Categories\")\n",
        "plt.show()\n"
      ],
      "metadata": {
        "colab": {
          "base_uri": "https://localhost:8080/",
          "height": 452
        },
        "id": "y-vpKI9Diq9l",
        "outputId": "43ece736-5a68-44c5-8849-3761b75baa61"
      },
      "execution_count": null,
      "outputs": [
        {
          "output_type": "display_data",
          "data": {
            "text/plain": [
              "<Figure size 640x480 with 1 Axes>"
            ],
            "image/png": "[encoded data removed]"
          },
          "metadata": {}
        }
      ]
    },
    {
      "cell_type": "markdown",
      "source": [
        "### Data science example\n",
        "Visualize the mode popular programming languages\n"
      ],
      "metadata": {
        "id": "U1pZw8UXDXo2"
      }
    },
    {
      "cell_type": "code",
      "source": [
        "languages = [\"python\", \"java\", \"C++\", \"Julia\", \"golang\"]\n",
        "vote = [85, 70, 65, 20, 80]"
      ],
      "metadata": {
        "id": "D8Fcwz3gD7Dz"
      },
      "execution_count": null,
      "outputs": []
    },
    {
      "cell_type": "code",
      "source": [
        "plt.bar(languages, vote, color=['blue', 'green', 'yellow', 'red', 'purple'])\n",
        "plt.xlabel(\"Programming Language\")\n",
        "plt.ylabel(\"Number of Votes\")\n",
        "plt.title(\"Favorite programming languages\")\n",
        "plt.show()"
      ],
      "metadata": {
        "colab": {
          "base_uri": "https://localhost:8080/",
          "height": 472
        },
        "id": "R4SdO47KD7_M",
        "outputId": "e2365a25-388c-4b8f-b57e-f3b9c8f78979"
      },
      "execution_count": null,
      "outputs": [
        {
          "output_type": "display_data",
          "data": {
            "text/plain": [
              "<Figure size 640x480 with 1 Axes>"
            ],
            "image/png": "[encoded data removed]"
          },
          "metadata": {}
        }
      ]
    },
    {
      "cell_type": "markdown",
      "source": [
        "Bar plot using seaborn"
      ],
      "metadata": {
        "id": "ZYpa2jngyV1v"
      }
    },
    {
      "cell_type": "code",
      "source": [
        "sns.barplot(x=languages, y=vote, palette=\"Blues_d\")"
      ],
      "metadata": {
        "colab": {
          "base_uri": "https://localhost:8080/",
          "height": 447
        },
        "id": "UwPs3fNayVTK",
        "outputId": "3ff39247-2cea-4f07-a26b-dcfce668df9b"
      },
      "execution_count": null,
      "outputs": [
        {
          "output_type": "execute_result",
          "data": {
            "text/plain": [
              "<Axes: >"
            ]
          },
          "metadata": {},
          "execution_count": 14
        },
        {
          "output_type": "display_data",
          "data": {
            "text/plain": [
              "<Figure size 640x480 with 1 Axes>"
            ],
            "image/png": "[encoded data removed]"
          },
          "metadata": {}
        }
      ]
    },
    {
      "cell_type": "markdown",
      "source": [
        "**Insights:**\n",
        "- ***Height (vertical)/length (horizontal):*** for comparison between categories' values\n",
        "- ***Understand categories:*** to assess which categories perform best\n",
        "- ***Look for anomalies:*** look for bars that are significantly shorter or taller"
      ],
      "metadata": {
        "id": "OJQ1-TjTzdeS"
      }
    },
    {
      "cell_type": "markdown",
      "source": [
        "### 3. Scatter Plot\n",
        "Ideal for showing relationship between two numeric variables."
      ],
      "metadata": {
        "id": "eOUupVNUyjyf"
      }
    },
    {
      "cell_type": "code",
      "source": [
        "# Sample Data\n",
        "x = np.random.rand(50)\n",
        "y = x + np.random.rand(50) * 0.1\n",
        "\n",
        "plt.scatter(x, y)\n",
        "plt.title(\"Scatter Plot of x and y\")\n",
        "plt.show()\n"
      ],
      "metadata": {
        "colab": {
          "base_uri": "https://localhost:8080/",
          "height": 452
        },
        "id": "WERiq_NiyeuX",
        "outputId": "d4e51ccc-7278-40a6-bf87-eb4cec9c2b51"
      },
      "execution_count": null,
      "outputs": [
        {
          "output_type": "display_data",
          "data": {
            "text/plain": [
              "<Figure size 640x480 with 1 Axes>"
            ],
            "image/png": "[encoded data removed]"
          },
          "metadata": {}
        }
      ]
    },
    {
      "cell_type": "code",
      "source": [
        "sns.scatterplot(x=x, y=y)\n",
        "plt.title(\"Scatter Plot of x and y\")"
      ],
      "metadata": {
        "colab": {
          "base_uri": "https://localhost:8080/",
          "height": 469
        },
        "id": "cjlvM0T52AZl",
        "outputId": "ec16b407-d66c-4c78-dc74-80b2412b30b5"
      },
      "execution_count": null,
      "outputs": [
        {
          "output_type": "execute_result",
          "data": {
            "text/plain": [
              "Text(0.5, 1.0, 'Scatter Plot of x and y')"
            ]
          },
          "metadata": {},
          "execution_count": 19
        },
        {
          "output_type": "display_data",
          "data": {
            "text/plain": [
              "<Figure size 640x480 with 1 Axes>"
            ],
            "image/png": "[encoded data removed]"
          },
          "metadata": {}
        }
      ]
    },
    {
      "cell_type": "markdown",
      "source": [
        "**Insights:**\n",
        "- ***Correlations:*** if points form a clear line it can show strong correlation between variable\n",
        "- ***Density:*** areas with higher densitity datapoints may indicate common combinations between variables\n",
        "- ***Outlier detaction:*** point far from the general cluster"
      ],
      "metadata": {
        "id": "3V2zBBBx2SJa"
      }
    },
    {
      "cell_type": "markdown",
      "source": [
        "### Data science example\n",
        "Visualize the relationship between age and salary"
      ],
      "metadata": {
        "id": "WCJzd7AaF5Ip"
      }
    },
    {
      "cell_type": "code",
      "source": [
        "ages = [25, 30, 35, 40, 45, 50, 55, 60, 65, 70]\n",
        "salaries = [50000, 55000, 60000, 65000, 70000, 75000, 80000, 85000, 90000, 95000]"
      ],
      "metadata": {
        "id": "YFyiu6uKF3rm"
      },
      "execution_count": null,
      "outputs": []
    },
    {
      "cell_type": "code",
      "source": [
        "plt.scatter(ages, salaries, color = 'blue', edgecolors='black', alpha = 0.6)\n",
        "plt.xlabel(\"Age\")\n",
        "plt.ylabel(\"Salary\")\n",
        "plt.title(\"Relationship between age and salary\")\n",
        "plt.grid(True)\n",
        "plt.show()"
      ],
      "metadata": {
        "colab": {
          "base_uri": "https://localhost:8080/",
          "height": 472
        },
        "id": "ftYrqXloFxae",
        "outputId": "b80bba06-e004-4acc-e1c3-d68b6338db79"
      },
      "execution_count": null,
      "outputs": [
        {
          "output_type": "display_data",
          "data": {
            "text/plain": [
              "<Figure size 640x480 with 1 Axes>"
            ],
            "image/png": "[encoded data removed]"
          },
          "metadata": {}
        }
      ]
    },
    {
      "cell_type": "markdown",
      "source": [
        "## Advanced Charts\n"
      ],
      "metadata": {
        "id": "9EdufQ6-yuBb"
      }
    },
    {
      "cell_type": "markdown",
      "source": [
        "### 1. Box Plot\n",
        "Displays distribution of data based on the five number summary: minimum, first quartile, median, third quartile, and maximum."
      ],
      "metadata": {
        "id": "3D-Q0JoNyt-8"
      }
    },
    {
      "cell_type": "code",
      "source": [
        "data = np.random.rand(50)\n",
        "\n",
        "plt.boxplot(data)\n",
        "plt.title(\"Box Plot\")\n",
        "plt.show()\n"
      ],
      "metadata": {
        "colab": {
          "base_uri": "https://localhost:8080/",
          "height": 452
        },
        "id": "j1Tr7Q0My8Zh",
        "outputId": "3ed1cbd3-09bd-403b-e809-1ad816ebd022"
      },
      "execution_count": null,
      "outputs": [
        {
          "output_type": "display_data",
          "data": {
            "text/plain": [
              "<Figure size 640x480 with 1 Axes>"
            ],
            "image/png": "[encoded data removed]"
          },
          "metadata": {}
        }
      ]
    },
    {
      "cell_type": "code",
      "source": [
        "sns.boxplot(data)\n"
      ],
      "metadata": {
        "colab": {
          "base_uri": "https://localhost:8080/",
          "height": 447
        },
        "id": "9tvWVdOp4cDf",
        "outputId": "566d6f23-e1f0-4722-aafd-b83323ad19c8"
      },
      "execution_count": null,
      "outputs": [
        {
          "output_type": "execute_result",
          "data": {
            "text/plain": [
              "<Axes: >"
            ]
          },
          "metadata": {},
          "execution_count": 23
        },
        {
          "output_type": "display_data",
          "data": {
            "text/plain": [
              "<Figure size 640x480 with 1 Axes>"
            ],
            "image/png": "[encoded data removed]"
          },
          "metadata": {}
        }
      ]
    },
    {
      "cell_type": "markdown",
      "source": [
        "**Insigts:**\n",
        "- ***Box components:*** median (central line), IQR, whiskers, outliers\n",
        "- ***Distribution:*** longer boxes/whiskers represent a larger spread of data\n",
        "- ***Symemetry:*** if the median is centered at the middle of the box you may have normally distributed data. If the median is closer to Q1 or Q3, the distribution is skewed\n",
        "- ***Comparison:*** medians, spreads and outliers across categories"
      ],
      "metadata": {
        "id": "4t7sPrQH4im3"
      }
    },
    {
      "cell_type": "markdown",
      "source": [
        "### 2. Histogram\n",
        "Displays frequency distribution of a data set."
      ],
      "metadata": {
        "id": "N-6SjSKtyt8Y"
      }
    },
    {
      "cell_type": "code",
      "source": [
        "data = np.random.randn(1000)\n",
        "\n",
        "plt.hist(data, bins='sqrt')\n",
        "plt.title(\"Histogram\")\n",
        "plt.show()\n"
      ],
      "metadata": {
        "colab": {
          "base_uri": "https://localhost:8080/",
          "height": 452
        },
        "id": "9TRX843RynZN",
        "outputId": "2afd2ac6-da42-4588-a074-57979a634845"
      },
      "execution_count": null,
      "outputs": [
        {
          "output_type": "display_data",
          "data": {
            "text/plain": [
              "<Figure size 640x480 with 1 Axes>"
            ],
            "image/png": "[encoded data removed]"
          },
          "metadata": {}
        }
      ]
    },
    {
      "cell_type": "markdown",
      "source": [
        "**Insights**\n",
        "- ***Height of bars:*** to find points with highest and lowest frequency\n",
        "- ***Skewness:*** look for tails\n",
        "- ***Modality:*** is your data unimodal, bimodal, multi-modal\n",
        "- ***Spread and tendency:*** Wider spreads indicate more variation. The central location of the peak indicates the data's central tendency."
      ],
      "metadata": {
        "id": "oR_GaULy7wpd"
      }
    },
    {
      "cell_type": "markdown",
      "source": [
        "### 3. Violin Plot\n",
        "Combines aspects of box plots and histograms. Useful for seeing the density of data."
      ],
      "metadata": {
        "id": "gI5CIXRizG5p"
      }
    },
    {
      "cell_type": "code",
      "source": [
        "sns.violinplot(data)\n",
        "plt.title(\"Violin Plot\")\n",
        "plt.show()\n"
      ],
      "metadata": {
        "colab": {
          "base_uri": "https://localhost:8080/",
          "height": 452
        },
        "id": "x3XXasPUzGMz",
        "outputId": "fb0d3e6d-0d90-4318-ec93-8d3624544fc1"
      },
      "execution_count": null,
      "outputs": [
        {
          "output_type": "display_data",
          "data": {
            "text/plain": [
              "<Figure size 640x480 with 1 Axes>"
            ],
            "image/png": "[encoded data removed]"
          },
          "metadata": {}
        }
      ]
    },
    {
      "cell_type": "code",
      "source": [
        "sns.violinplot(data)"
      ],
      "metadata": {
        "colab": {
          "base_uri": "https://localhost:8080/",
          "height": 447
        },
        "id": "QxmlK4sK9Ym7",
        "outputId": "db04e4fe-4990-4b52-8362-903d145e3f27"
      },
      "execution_count": null,
      "outputs": [
        {
          "output_type": "execute_result",
          "data": {
            "text/plain": [
              "<Axes: >"
            ]
          },
          "metadata": {},
          "execution_count": 26
        },
        {
          "output_type": "display_data",
          "data": {
            "text/plain": [
              "<Figure size 640x480 with 1 Axes>"
            ],
            "image/png": "[encoded data removed]"
          },
          "metadata": {}
        }
      ]
    },
    {
      "cell_type": "code",
      "source": [
        "df = sns.load_dataset('tips')\n",
        "\n",
        "sns.violinplot(x=\"day\", y=\"total_bill\", hue=\"smoker\", data=df, palette=\"Pastel1\",split=True)"
      ],
      "metadata": {
        "colab": {
          "base_uri": "https://localhost:8080/",
          "height": 466
        },
        "id": "1qm2-tEK-fjU",
        "outputId": "01faf496-30d5-415a-aed4-b9442099958b"
      },
      "execution_count": null,
      "outputs": [
        {
          "output_type": "execute_result",
          "data": {
            "text/plain": [
              "<Axes: xlabel='day', ylabel='total_bill'>"
            ]
          },
          "metadata": {},
          "execution_count": 30
        },
        {
          "output_type": "display_data",
          "data": {
            "text/plain": [
              "<Figure size 640x480 with 1 Axes>"
            ],
            "image/png": "[encoded data removed]"
          },
          "metadata": {}
        }
      ]
    },
    {
      "cell_type": "code",
      "source": [
        "from sklearn.datasets import load_diabetes\n",
        "\n",
        "diabetes = load_diabetes()\n",
        "X, y = diabetes.data, diabetes.target"
      ],
      "metadata": {
        "id": "rxcKbGHsUzV7"
      },
      "execution_count": null,
      "outputs": []
    },
    {
      "cell_type": "code",
      "source": [
        "import pandas as pd\n",
        "\n",
        "X_df = pd.DataFrame(X, columns=diabetes.feature_names)"
      ],
      "metadata": {
        "id": "bQ6FtYYQVIUi"
      },
      "execution_count": null,
      "outputs": []
    },
    {
      "cell_type": "code",
      "source": [
        "sns.heatmap(X_df.corr(), annot=True)"
      ],
      "metadata": {
        "colab": {
          "base_uri": "https://localhost:8080/",
          "height": 452
        },
        "id": "-AUeZdM9VU_Z",
        "outputId": "13e4fd77-c666-4fd2-8213-52c855933617"
      },
      "execution_count": null,
      "outputs": [
        {
          "output_type": "execute_result",
          "data": {
            "text/plain": [
              "<Axes: >"
            ]
          },
          "metadata": {},
          "execution_count": 51
        },
        {
          "output_type": "display_data",
          "data": {
            "text/plain": [
              "<Figure size 640x480 with 2 Axes>"
            ],
            "image/png": "[encoded data removed]"
          },
          "metadata": {}
        }
      ]
    },
    {
      "cell_type": "code",
      "source": [
        "X = np.random.normal(size=10000)\n",
        "y = 3 * X + np.random.normal(size=10000)"
      ],
      "metadata": {
        "id": "N-UKtS3wX-fw"
      },
      "execution_count": null,
      "outputs": []
    },
    {
      "cell_type": "markdown",
      "source": [
        "**Insights:**\n",
        "- ***Intensity:***\n",
        "- ***Patterns:***\n",
        "- ***Anomalies:***\n",
        "- ***Comparisons:***\n"
      ],
      "metadata": {
        "id": "6bQOCPo3AxYN"
      }
    },
    {
      "cell_type": "code",
      "source": [
        "plt.scatter(X,y)"
      ],
      "metadata": {
        "colab": {
          "base_uri": "https://localhost:8080/",
          "height": 447
        },
        "id": "Rdqouf77ZMMp",
        "outputId": "7bfdea0c-4f4d-4dae-cd18-5662836e32a4"
      },
      "execution_count": null,
      "outputs": [
        {
          "output_type": "execute_result",
          "data": {
            "text/plain": [
              "<matplotlib.collections.PathCollection at 0x79026492d840>"
            ]
          },
          "metadata": {},
          "execution_count": 32
        },
        {
          "output_type": "display_data",
          "data": {
            "text/plain": [
              "<Figure size 640x480 with 1 Axes>"
            ],
            "image/png": "[encoded data removed]"
          },
          "metadata": {}
        }
      ]
    },
    {
      "cell_type": "code",
      "source": [
        "sns.jointplot(x=X, y=y, kind='hex')"
      ],
      "metadata": {
        "colab": {
          "base_uri": "https://localhost:8080/",
          "height": 624
        },
        "id": "PfOSlljPYZpy",
        "outputId": "a59dc843-d055-4f04-e83a-cd522827b35b"
      },
      "execution_count": null,
      "outputs": [
        {
          "output_type": "execute_result",
          "data": {
            "text/plain": [
              "<seaborn.axisgrid.JointGrid at 0x7902669af820>"
            ]
          },
          "metadata": {},
          "execution_count": 33
        },
        {
          "output_type": "display_data",
          "data": {
            "text/plain": [
              "<Figure size 600x600 with 3 Axes>"
            ],
            "image/png": "[encoded data removed]"
          },
          "metadata": {}
        }
      ]
    },
    {
      "cell_type": "markdown",
      "source": [
        "## Interpretation of the Charts\n",
        "Each chart type offers different insights:\n",
        "\n",
        "- Line charts track changes over periods.\n",
        "- Bar charts compare quantities of different categories.\n",
        "- Scatter plots show relationships between two variables."
      ],
      "metadata": {
        "id": "Xyw2vjm6z6aK"
      }
    },
    {
      "cell_type": "markdown",
      "source": [
        "## Selecting the Appropriate Chart\n",
        "- **Purpose:** Start by understanding what you want to communicate.\n",
        "- **Data Type:** Numerical vs Categorical.\n",
        "- **Data Distribution:** Is it uniform, normal, skewed?"
      ],
      "metadata": {
        "id": "KXhBoKTL0F8e"
      }
    },
    {
      "cell_type": "markdown",
      "source": [
        "## Data Preprocessing: Dos and Don'ts\n",
        "### Dos:\n",
        "\n",
        "- Normalize and scale data for certain algorithms.\n",
        "- Handle missing values appropriately.\n",
        "- Deal with outliers if necessary.\n",
        "\n",
        "### Don'ts:\n",
        "\n",
        "- Avoid arbitrary transformations without business reasons.\n",
        "- Don't overprocess: Keep the raw data whenever possible."
      ],
      "metadata": {
        "id": "sCvs-_qL0O3e"
      }
    },
    {
      "cell_type": "markdown",
      "source": [
        "## Deciding which variables are relevant\n",
        "- **Correlation Analysis:** Check how variables relate to the target.\n",
        "- **Feature Importance:** Use algorithms that can rank importance of features."
      ],
      "metadata": {
        "id": "VITFdl0h0Xfx"
      }
    },
    {
      "cell_type": "markdown",
      "source": [
        "## References:\n",
        "\n",
        "- \"Python Data Science Handbook\" by Jake VanderPlas\n",
        "- \"Data Visualization with Python and JavaScript\" by Kyran Dale\n",
        "- https://www.data-to-viz.com/\n",
        "- https://python-graph-gallery.com/\n",
        "- https://www.storytellingwithdata.com/"
      ],
      "metadata": {
        "id": "EGhgrbzi0htu"
      }
    },
    {
      "cell_type": "markdown",
      "source": [
        "# Inferential Statistics"
      ],
      "metadata": {
        "id": "FFMlSJVxGrXJ"
      }
    },
    {
      "cell_type": "markdown",
      "source": [
        "## 1. Probability Distributions:\n",
        "\n",
        "### Discrete Distributions:\n",
        "- Binomial\n",
        "- Poisson\n",
        "- Geometric\n",
        "- Negative Binomial\n",
        "\n",
        "### Continuous Distributions:\n",
        "- Normal\n",
        "- Exponential\n",
        "- Chi-square\n",
        "- t-distribution\n",
        "- F-distribution."
      ],
      "metadata": {
        "id": "6TQpNlT_GwsR"
      }
    },
    {
      "cell_type": "markdown",
      "source": [
        "### Discrete Distributions"
      ],
      "metadata": {
        "id": "DPRWxAaORbqu"
      }
    },
    {
      "cell_type": "markdown",
      "source": [
        "#### Binomial\n",
        "\n",
        "A distribution that describes the number of successes in a fixed number of Bernoulli trials with the same probability of success"
      ],
      "metadata": {
        "id": "Q9Zx-T0vRt3A"
      }
    },
    {
      "cell_type": "markdown",
      "source": [
        "**Example:** Let's say you run an online ad campaign, and historically, 5% of viewers click on your ad. If 100 people view your ad, what's the probability that exactly 10 people click on it?"
      ],
      "metadata": {
        "id": "te7MgcGmS9La"
      }
    },
    {
      "cell_type": "code",
      "source": [
        "from scipy.stats import binom\n"
      ],
      "metadata": {
        "id": "ic54ygjHStZg"
      },
      "execution_count": null,
      "outputs": []
    },
    {
      "cell_type": "code",
      "source": [
        "# Parameters\n",
        "\n",
        "k = 10 # Number of successes we need the propability for\n",
        "n = 100 # trials\n",
        "p = 0.05 # Probability fo success"
      ],
      "metadata": {
        "id": "8fu0OYhvTwow"
      },
      "execution_count": null,
      "outputs": []
    },
    {
      "cell_type": "code",
      "source": [
        "# Probability of exactly 10 successes\n",
        "prob = binom.pmf(k, n, p)\n",
        "print (prob)\n"
      ],
      "metadata": {
        "colab": {
          "base_uri": "https://localhost:8080/"
        },
        "id": "rPc0Oa6sRsB9",
        "outputId": "71855228-a51e-4b2e-93fe-977a7afb595f"
      },
      "execution_count": null,
      "outputs": [
        {
          "output_type": "stream",
          "name": "stdout",
          "text": [
            "0.01671588409593141\n"
          ]
        }
      ]
    },
    {
      "cell_type": "markdown",
      "source": [
        "#### Poisson Distribution\n",
        "\n"
      ],
      "metadata": {
        "id": "7XAMGIfCVo1k"
      }
    },
    {
      "cell_type": "markdown",
      "source": [
        "**Example:** If a call center receives an average of 10 calls per hour, what's the probability they receive exactly 15 calls in a particular hour?"
      ],
      "metadata": {
        "id": "7cHa2jNHWDg_"
      }
    },
    {
      "cell_type": "code",
      "source": [
        "from scipy.stats import poisson"
      ],
      "metadata": {
        "id": "_BXDu-5cRq8m"
      },
      "execution_count": null,
      "outputs": []
    },
    {
      "cell_type": "code",
      "source": [
        "# Parameters\n",
        "\n",
        "k = 15\n",
        "avg_rate = 10"
      ],
      "metadata": {
        "id": "dwfslSqrWRyU"
      },
      "execution_count": null,
      "outputs": []
    },
    {
      "cell_type": "code",
      "source": [
        "# Probability of getting exactly 15 calls\n",
        "prob = poisson.pmf(15, avg_rate)\n",
        "print(prob)"
      ],
      "metadata": {
        "colab": {
          "base_uri": "https://localhost:8080/"
        },
        "id": "EtBlxwlMWqhJ",
        "outputId": "bba00a44-563f-434b-aab3-37254a5a65ff"
      },
      "execution_count": null,
      "outputs": [
        {
          "output_type": "stream",
          "name": "stdout",
          "text": [
            "0.034718069630684245\n"
          ]
        }
      ]
    },
    {
      "cell_type": "markdown",
      "source": [
        "#### Geometric Distribution\n",
        "\n",
        "Given chance of success for each trial, what is the chance of success at n-th trial"
      ],
      "metadata": {
        "id": "Aj1pFTfSXnsD"
      }
    },
    {
      "cell_type": "markdown",
      "source": [
        "**Example:** If there's a 10% chance you catch a fish with each cast, what's the probability you'll catch your first fish on your 5th cast?"
      ],
      "metadata": {
        "id": "GfdWyet8XnjN"
      }
    },
    {
      "cell_type": "code",
      "source": [
        "from scipy.stats import geom"
      ],
      "metadata": {
        "id": "PsY08ik7YPHp"
      },
      "execution_count": null,
      "outputs": []
    },
    {
      "cell_type": "code",
      "source": [
        "# Parameters\n",
        "\n",
        "k = 5 # the attempt we want to calculate the probability for\n",
        "p = 0.1 # probability of success for each trial\n"
      ],
      "metadata": {
        "id": "778xTTqVYTDW"
      },
      "execution_count": null,
      "outputs": []
    },
    {
      "cell_type": "code",
      "source": [
        "# Probability the first chance of success happens on the 5th trial\n",
        "\n",
        "prob = geom.pmf(k, p)\n",
        "print(prob)"
      ],
      "metadata": {
        "colab": {
          "base_uri": "https://localhost:8080/"
        },
        "id": "Z2vK8XGjYhpJ",
        "outputId": "3273c577-430d-4b4d-9f2a-2c38f529b7c9"
      },
      "execution_count": null,
      "outputs": [
        {
          "output_type": "stream",
          "name": "stdout",
          "text": [
            "0.06561\n"
          ]
        }
      ]
    },
    {
      "cell_type": "markdown",
      "source": [
        "#### Negative Binomial\n",
        "\n",
        "Given chance of success for each trial, what is the chance of k successes at n-th trial"
      ],
      "metadata": {
        "id": "r4lcHpORXLXA"
      }
    },
    {
      "cell_type": "markdown",
      "source": [
        "**Example:** If there's a 10% chance you catch a fish with each cast, what's the probability it takes you 10 casts to catch your 3rd fish?"
      ],
      "metadata": {
        "id": "jQLIQx3MZQXU"
      }
    },
    {
      "cell_type": "code",
      "source": [
        "from scipy.stats import nbinom"
      ],
      "metadata": {
        "id": "hnyoI1meZOxf"
      },
      "execution_count": null,
      "outputs": []
    },
    {
      "cell_type": "code",
      "source": [
        "# Parameters\n",
        "\n",
        "k = 10 # the attempt we want to calculate the probability for\n",
        "r = 3 # number of successes\n",
        "p = 0.1 # probability of successe"
      ],
      "metadata": {
        "id": "l-z6iP1vZ3Ty"
      },
      "execution_count": null,
      "outputs": []
    },
    {
      "cell_type": "code",
      "source": [
        "# Probability of a 3rd success occurs at 10th trial\n",
        "\n",
        "prob = nbinom.pmf(k-r,r,p )\n",
        "print(prob)"
      ],
      "metadata": {
        "colab": {
          "base_uri": "https://localhost:8080/"
        },
        "id": "ALF5BhRmaZkb",
        "outputId": "5b266dc9-ad66-411c-f4cd-736c513de29a"
      },
      "execution_count": null,
      "outputs": [
        {
          "output_type": "stream",
          "name": "stdout",
          "text": [
            "0.01721868840000001\n"
          ]
        }
      ]
    },
    {
      "cell_type": "markdown",
      "source": [
        "### Probability Mass Function"
      ],
      "metadata": {
        "id": "eD9IDDtv62Lv"
      }
    },
    {
      "cell_type": "markdown",
      "source": [
        "### Continuous Distributions"
      ],
      "metadata": {
        "id": "k4ZHmYBDbIJZ"
      }
    },
    {
      "cell_type": "markdown",
      "source": [
        "#### Normal Distributions"
      ],
      "metadata": {
        "id": "hYTxQtMEbO_1"
      }
    },
    {
      "cell_type": "markdown",
      "source": [
        "* **Definition:** A symmetrical bell-shaped distribution described by its mean (μ) and standard deviation (σ).\n",
        "\n",
        "* **Detailed Explanation:** The normal distribution is ubiquitous in statistics due to the Central Limit Theorem. Most natural phenomena that are the result of many small and independent random effects tend to be normally distributed.\n",
        "\n",
        "* **Analogies:** Think of people's heights. While there are extremes on both ends (very tall or very short people), most people cluster around the average."
      ],
      "metadata": {
        "id": "N_UkKI0xBl4h"
      }
    },
    {
      "cell_type": "markdown",
      "source": [
        "**Example:** IQ scores are (by design) distributed normally with an average of 100 and a standard deviation of 15. What's the probability that a randomly chosen person has an IQ between 85 and 115?"
      ],
      "metadata": {
        "id": "vCl3ev83bSVm"
      }
    },
    {
      "cell_type": "code",
      "source": [
        "from scipy.stats import norm"
      ],
      "metadata": {
        "id": "vYlsLspubRSZ"
      },
      "execution_count": null,
      "outputs": []
    },
    {
      "cell_type": "code",
      "source": [
        "# Parameters\n",
        "\n",
        "avg = 100\n",
        "sigma = 15\n",
        "upper_limit = 115\n",
        "lower_limit = 85"
      ],
      "metadata": {
        "id": "OSkBhApqb514"
      },
      "execution_count": null,
      "outputs": []
    },
    {
      "cell_type": "code",
      "source": [
        "# Probability of IQ between 85 and 115\n",
        "\n",
        "prob = norm.cdf(upper_limit, avg, sigma) - norm.cdf(lower_limit, avg, sigma)\n",
        "print(prob)"
      ],
      "metadata": {
        "colab": {
          "base_uri": "https://localhost:8080/"
        },
        "id": "c1VHhC0ZcItW",
        "outputId": "6990e3f6-9154-48ca-805b-6072fa7b576f"
      },
      "execution_count": null,
      "outputs": [
        {
          "output_type": "stream",
          "name": "stdout",
          "text": [
            "0.6826894921370859\n"
          ]
        }
      ]
    },
    {
      "cell_type": "markdown",
      "source": [
        "#### Exponential Distribution###"
      ],
      "metadata": {
        "id": "0dyndXjUCFOb"
      }
    },
    {
      "cell_type": "markdown",
      "source": [
        "* **Definition:** Describes the time between events in a Poisson point process, i.e., a process in which events occur continuously and independently at a constant average rate.\n",
        "\n",
        "* **Detailed Explanation:** It's often used to model the time elapsed in a Poisson process.\n",
        "\n",
        "* **Analogies:** Imagine the time you have to wait for a bus that comes on average every 10 minutes but without a strict schedule."
      ],
      "metadata": {
        "id": "K50aaWG-CL86"
      }
    },
    {
      "cell_type": "markdown",
      "source": [
        "Example: If customers arrive at a store on average every 5 minutes, what's the probability that the next customer arrives within the next 2 minutes?"
      ],
      "metadata": {
        "id": "dVttRSGxCX97"
      }
    },
    {
      "cell_type": "code",
      "source": [
        "from scipy.stats import expon\n",
        "\n",
        "# Parameters\n",
        "lambda_inv = 5  # Average rate\n",
        "\n",
        "# Probability of customer arriving in next 2 minutes\n",
        "prob = expon.cdf(2, scale=lambda_inv)\n",
        "print(prob)"
      ],
      "metadata": {
        "colab": {
          "base_uri": "https://localhost:8080/"
        },
        "id": "U5n8XHxGCWph",
        "outputId": "96c4d9af-3780-4986-a27e-a28147b56937"
      },
      "execution_count": null,
      "outputs": [
        {
          "output_type": "stream",
          "name": "stdout",
          "text": [
            "0.3296799539643607\n"
          ]
        }
      ]
    },
    {
      "cell_type": "markdown",
      "source": [
        "**Interpretation:**\n",
        "* ***Technical:*** \"Assuming a steady average arrival rate of one customer every 5 minutes, there's a X% chance the next customer arrives within 2 minutes.\"\n",
        "* ***Non-Technical:*** \"If customers usually come about every 5 minutes, there's a decent chance (32.97%) the next one will come within the next 2 minutes.\""
      ],
      "metadata": {
        "id": "t7O317MzCj6K"
      }
    },
    {
      "cell_type": "markdown",
      "source": [
        "### t-distribution"
      ],
      "metadata": {
        "id": "tnv_ghPTThGe"
      }
    },
    {
      "cell_type": "markdown",
      "source": [
        "## 2. Sampling\n",
        "\n",
        "- Random Sampling\n",
        "- Sampling Distribution\n",
        "- Central Limit Theorem\n",
        "- Sampling Error"
      ],
      "metadata": {
        "id": "qTCpEd3yGwkp"
      }
    },
    {
      "cell_type": "markdown",
      "source": [
        "### Random Sampling"
      ],
      "metadata": {
        "id": "MhBkbFEBvBq2"
      }
    },
    {
      "cell_type": "markdown",
      "source": [
        "- **Intuition:** Imagine you want to know the favorite flavor of ice cream in a town. Instead of asking everyone, you ask a few people but make sure anyone from the town has an equal chance to be asked.\n",
        "\n",
        "- **Definition:** Random sampling is a method where each member of a population has an equal chance of being selected in the sample.\n",
        "\n",
        "- **Detailed Explanation:** It's crucial in statistics because it ensures that the sample represents the population, which means the results are generalizable to the larger group.\n",
        "\n",
        "- **Analogies:** It's like picking names out of a hat. Every name has an equal chance of being chosen."
      ],
      "metadata": {
        "id": "WNBL11vTvBm4"
      }
    },
    {
      "cell_type": "markdown",
      "source": [
        "- **Example:**\n",
        "\n",
        "You want to understand the average processing time of a new AI algorithm across various machines. Instead of testing on all machines, you randomly pick a few to gauge the average."
      ],
      "metadata": {
        "id": "NSDV5kO3vBik"
      }
    },
    {
      "cell_type": "code",
      "source": [
        "import random\n",
        "\n",
        "# List of all machines\n",
        "machines = list(range(1, 101))  # Representing 100 machines\n",
        "\n",
        "# Randomly select 10 machines for testing\n",
        "sample_machines = random.sample(machines, 10)\n",
        "print(sample_machines)\n"
      ],
      "metadata": {
        "colab": {
          "base_uri": "https://localhost:8080/"
        },
        "id": "xJHP0twrvcDm",
        "outputId": "aa627ca0-a7e2-46f6-d82c-0fac91031307"
      },
      "execution_count": null,
      "outputs": [
        {
          "output_type": "stream",
          "name": "stdout",
          "text": [
            "[22, 96, 69, 87, 50, 61, 60, 8, 42, 19]\n"
          ]
        }
      ]
    },
    {
      "cell_type": "markdown",
      "source": [
        "- **When to Use:** Whenever you need a representative subset of a larger group without biases.\n",
        "\n",
        "\n"
      ],
      "metadata": {
        "id": "gfLMnu7QvBcB"
      }
    },
    {
      "cell_type": "markdown",
      "source": [
        "### Sampling Distribution"
      ],
      "metadata": {
        "id": "foHNk75lvBU5"
      }
    },
    {
      "cell_type": "markdown",
      "source": [
        "- **Intuition:** If you take multiple random samples and calculate a statistic (like mean) for each, you'll get a distribution of those statistics. This is the sampling distribution.\n",
        "\n",
        "- **Definition:** The sampling distribution is the distribution of a statistic (like the mean) calculated from multiple random samples of a population.\n",
        "\n",
        "- **Detailed Explanation:** It gives insights into how much a sample statistic varies across different samples.\n",
        "\n",
        "- **Analogies:** Think of archery. Each arrow hit is like a sample mean, and the spread of those hits shows the variability."
      ],
      "metadata": {
        "id": "d-k5UkWgvycy"
      }
    },
    {
      "cell_type": "markdown",
      "source": [
        "- **Example:**\n",
        "\n",
        "Analyzing the average accuracy of an AI model across different subsets of data."
      ],
      "metadata": {
        "id": "5lqPHGZ0vyZ-"
      }
    },
    {
      "cell_type": "code",
      "source": [
        "import numpy as np\n",
        "\n",
        "# Simulate accuracies of AI model over 1000 random samples\n",
        "sample_means = [np.mean(np.random.choice(range(85, 96), 30)) for _ in range(1000)]\n",
        "\n",
        "# This gives us a distribution of sample means\n",
        "print(np.mean(sample_means))\n"
      ],
      "metadata": {
        "colab": {
          "base_uri": "https://localhost:8080/"
        },
        "id": "9IssiBMmwujz",
        "outputId": "127c3379-468a-4764-bc33-bd538111d7aa"
      },
      "execution_count": null,
      "outputs": [
        {
          "output_type": "stream",
          "name": "stdout",
          "text": [
            "89.98206666666665\n"
          ]
        }
      ]
    },
    {
      "cell_type": "markdown",
      "source": [
        "- **When to Use:** When understanding the variability or distribution of a sample statistic.\n",
        "\n"
      ],
      "metadata": {
        "id": "MpYJaRNWvyXO"
      }
    },
    {
      "cell_type": "markdown",
      "source": [
        "### Central Limit Theorem (CLT)\n"
      ],
      "metadata": {
        "id": "zAgCmrnMvyUV"
      }
    },
    {
      "cell_type": "markdown",
      "source": [
        "- **Intuition:** Even if you start with a skewed or oddly-shaped distribution, the sampling distribution of the mean will be approximately normal if you take enough large samples.\n",
        "\n",
        "- **Definition:** CLT states that, for a large enough sample size, the sampling distribution of the mean will be approximately normal, regardless of the population's distribution.\n",
        "\n",
        "- **Detailed Explanation:** It's the foundation of many statistical procedures because it allows for normal distribution assumptions.\n",
        "\n",
        "- **Analogies:** Individual people's incomes might be skewed (few very rich people), but if you pick many samples of people and average their incomes, the distribution of those averages would be bell-shaped.\n",
        "\n",
        "- **Example:** Suppose you want to gauge the average error rate of a neural network across different training sets, where the errors have a skewed distribution."
      ],
      "metadata": {
        "id": "G0tSFxyFvyOb"
      }
    },
    {
      "cell_type": "code",
      "source": [
        "# Simulate a skewed error distribution\n",
        "errors = np.random.exponential(scale=0.5, size=10000)\n",
        "\n",
        "# Sampling distribution of the mean\n",
        "sample_means = [np.mean(np.random.choice(errors, 100)) for _ in range(1000)]\n",
        "\n",
        "# The distribution of these means will be approximately normal\n",
        "print(np.mean(sample_means))\n"
      ],
      "metadata": {
        "colab": {
          "base_uri": "https://localhost:8080/"
        },
        "id": "bxLhM-l9xJNb",
        "outputId": "152e9541-c7c8-40fd-a8f5-aa1e1b261ac0"
      },
      "execution_count": null,
      "outputs": [
        {
          "output_type": "stream",
          "name": "stdout",
          "text": [
            "0.4999953938358181\n"
          ]
        }
      ]
    },
    {
      "cell_type": "markdown",
      "source": [
        "- **When to Use:** In inferential statistics where the normality assumption is required.\n",
        "\n"
      ],
      "metadata": {
        "id": "Effsvt_FvyLx"
      }
    },
    {
      "cell_type": "markdown",
      "source": [
        "### Sampling Error"
      ],
      "metadata": {
        "id": "uptufY1kvyGP"
      }
    },
    {
      "cell_type": "markdown",
      "source": [
        "- **Intuition:** If you measure the height of some students in a school as a sample, their average height might not be exactly the same as the average height of all students. This difference is the sampling error.\n",
        "\n",
        "- **Definition:** Sampling error is the difference between a sample statistic (like a sample mean) and the actual population parameter (like the population mean).\n",
        "\n",
        "- **Detailed Explanation:** Every time you draw a sample from a population and compute a statistic, there's an inherent variability because the sample might not perfectly represent the entire population. This variability, or the \"gap\" between the statistic from your sample and the true parameter of your entire population, is termed the sampling error.\n",
        "\n",
        "- **Analogies:** If you took multiple photos of a scene from slightly different angles, each photo would capture the scene a bit differently. The variance in representations is akin to the sampling error."
      ],
      "metadata": {
        "id": "otQT4PspvyC8"
      }
    },
    {
      "cell_type": "markdown",
      "source": [
        "- **Example:**\n",
        "\n",
        "Let's say you have an AI model that categorizes images. You test it on a sample of 1,000 images and find its accuracy. If you then test it on the entire dataset of 1 million images, the accuracy might be a bit different. This difference is due to sampling error."
      ],
      "metadata": {
        "id": "g0F6yrQ-vx_4"
      }
    },
    {
      "cell_type": "code",
      "source": [
        "import numpy as np\n",
        "\n",
        "# Simulate true accuracy on the entire dataset\n",
        "true_accuracy = 0.92\n",
        "\n",
        "# Simulate accuracies on 100 different samples\n",
        "sample_accuracies = [np.mean(np.random.choice([0, 1], p=[0.08, 0.92], size=1000)) for _ in range(100)]\n",
        "\n",
        "# The difference between each sample accuracy and the true accuracy represents sampling error for each sample\n",
        "sampling_errors = [sample_accuracy - true_accuracy for sample_accuracy in sample_accuracies]\n",
        "\n",
        "print(\"Average Sampling Error:\", np.mean(sampling_errors))\n"
      ],
      "metadata": {
        "colab": {
          "base_uri": "https://localhost:8080/"
        },
        "id": "AFHopTMkx0fG",
        "outputId": "3b537a18-f24c-4764-9142-17d359568c31"
      },
      "execution_count": null,
      "outputs": [
        {
          "output_type": "stream",
          "name": "stdout",
          "text": [
            "Average Sampling Error: -0.0007400000000000006\n"
          ]
        }
      ]
    },
    {
      "cell_type": "markdown",
      "source": [
        "- **When to Use:** When discussing the accuracy or reliability of sample statistics in reflecting the overall population."
      ],
      "metadata": {
        "id": "dCefbjwOvx9I"
      }
    },
    {
      "cell_type": "markdown",
      "source": [],
      "metadata": {
        "id": "sq_dY-hZvx6D"
      }
    },
    {
      "cell_type": "markdown",
      "source": [],
      "metadata": {
        "id": "R94eA9alvx22"
      }
    },
    {
      "cell_type": "markdown",
      "source": [],
      "metadata": {
        "id": "iIpoB9l6vxzY"
      }
    },
    {
      "cell_type": "markdown",
      "source": [],
      "metadata": {
        "id": "dgifMyk-vxwH"
      }
    },
    {
      "cell_type": "markdown",
      "source": [
        "## 3. Point and Interval Estimations:\n",
        "\n",
        "- Confidence Intervals\n",
        "- Margin of Error\n",
        "- Estimation for means, proportions, and variances"
      ],
      "metadata": {
        "id": "P0D7wI-wGwhM"
      }
    },
    {
      "cell_type": "markdown",
      "source": [
        "### Confidence Intervals:\n",
        "\n",
        "- **Intuition:** Imagine you're trying to guess the age of a person. Instead of saying 25 years, you might say, \"I'm 95% sure they're between 22 and 28 years old.\" This range is your confidence interval.\n",
        "\n",
        "- **Definition:** A confidence interval is a range in which a population parameter, like a mean or proportion, is estimated to lie with a particular confidence level.\n",
        "\n",
        "- **Detailed Explanation:** It provides an interval estimate, giving a range of values that likely contain the population parameter, accompanied by a confidence level that quantifies the level of confidence that this interval contains the parameter.\n",
        "\n",
        "- **Analogies:** Like a weather forecast might say there's a 90% chance of rain tomorrow. In the same way, we're saying we're 90% (or 95% or 99%) confident that our range contains the true value."
      ],
      "metadata": {
        "id": "QA74FfN024Rs"
      }
    },
    {
      "cell_type": "markdown",
      "source": [
        "**Example:**\n",
        "\n",
        "Suppose an AI model processes images, and you want to determine its accuracy. After testing on a sample, you'll have an average accuracy, but it's useful to know the range where the true average accuracy of the model might lie."
      ],
      "metadata": {
        "id": "U6LuxZAL24NX"
      }
    },
    {
      "cell_type": "code",
      "source": [
        "import numpy as np\n",
        "import scipy.stats as stats\n",
        "\n",
        "# Simulate sample accuracies\n",
        "accuracies = np.random.normal(0.92, 0.05, 100)\n",
        "\n",
        "# Calculate 95% confidence interval for the mean accuracy\n",
        "confidence_level = 0.95\n",
        "degrees_freedom = len(accuracies) - 1\n",
        "mean = np.mean(accuracies)\n",
        "standard_error = np.std(accuracies) / np.sqrt(len(accuracies))\n",
        "confidence_interval = stats.t.interval(confidence_level, degrees_freedom, mean, standard_error)\n",
        "\n",
        "print(\"95% Confidence Interval for Accuracy:\", confidence_interval)\n"
      ],
      "metadata": {
        "colab": {
          "base_uri": "https://localhost:8080/"
        },
        "id": "0GbfIqkp3H-8",
        "outputId": "f3bcf496-8fff-4051-dc12-8d5165d839b4"
      },
      "execution_count": null,
      "outputs": [
        {
          "output_type": "stream",
          "name": "stdout",
          "text": [
            "95% Confidence Interval for Accuracy: (0.9102003178645349, 0.93059707160884)\n"
          ]
        }
      ]
    },
    {
      "cell_type": "markdown",
      "source": [
        "- Technical Interpretation: This interval tells us the range where we expect the true parameter to lie with a 95% confidence level.\n",
        "\n",
        "- Non-Technical Interpretation: \"Based on our tests, we're pretty sure (95% confident) the real average accuracy of the model is between these two numbers.\"\n",
        "\n",
        "- **When to Use:** When you want to provide a range estimate for a parameter rather than a single point estimate."
      ],
      "metadata": {
        "id": "2TITDzkp24Ej"
      }
    },
    {
      "cell_type": "markdown",
      "source": [
        "### Margin of Error\n",
        "\n",
        "- **Intuition:** If you're estimating the percentage of people who like a new AI feature and you say it's 70% ±3%, that ±3% is your margin of error.\n",
        "\n",
        "- **Definition:** The margin of error is the range above and below a point estimate that captures the true population parameter with a certain level of confidence.\n",
        "\n",
        "- **Detailed Explanation:** It quantifies the uncertainty in your estimate. A larger margin indicates more uncertainty, and a smaller one indicates more confidence in the point estimate.\n",
        "\n",
        "- **Analogies:** It's like saying, \"My car's gas tank will last around 300 miles, give or take 20 miles.\""
      ],
      "metadata": {
        "id": "BeHy3QTT23_K"
      }
    },
    {
      "cell_type": "markdown",
      "source": [
        "- **Example:**\n",
        "\n",
        "Using the same AI model accuracy scenario, the margin of error helps you know how much the true accuracy might differ from your sample's measured accuracy.\n"
      ],
      "metadata": {
        "id": "zJgYuosv236v"
      }
    },
    {
      "cell_type": "code",
      "source": [
        "# For the 95% confidence level\n",
        "alpha = 1 - confidence_level\n",
        "z_critical = stats.norm.ppf(1 - alpha/2)\n",
        "margin_of_error = z_critical * (np.std(accuracies) / np.sqrt(len(accuracies)))\n",
        "\n",
        "print(\"Margin of Error:\", margin_of_error)\n"
      ],
      "metadata": {
        "colab": {
          "base_uri": "https://localhost:8080/"
        },
        "id": "x4N8gDB93epx",
        "outputId": "97dda74c-4c10-4035-d2fb-2a2f5a14fb7c"
      },
      "execution_count": null,
      "outputs": [
        {
          "output_type": "stream",
          "name": "stdout",
          "text": [
            "Margin of Error: 0.010073722712119294\n"
          ]
        }
      ]
    },
    {
      "cell_type": "markdown",
      "source": [
        "- Technical Interpretation: It's the maximum amount we'd expect the sample estimate to differ from the population parameter.\n",
        "\n",
        "- Non-Technical Interpretation: \"When we say our model is 92% accurate, remember there's a small wiggle room; it might be a bit more or less accurate.\"\n",
        "\n",
        "- **When to Use:** When conveying the precision of a point estimate."
      ],
      "metadata": {
        "id": "9XnSGmPu2310"
      }
    },
    {
      "cell_type": "markdown",
      "source": [
        "### Estimation for Means, Proportions, and Variances:\n",
        "\n",
        "- **Intuition:** It's like trying to estimate the average height of students, the proportion of students wearing glasses, or how varied the heights are.\n",
        "\n",
        "- **Definition:** These are statistical methods to make point or interval estimates for population means, proportions, or variances using sample data.\n",
        "\n",
        "- **Detailed Explanation:** Each type of estimation focuses on a different type of parameter: 'means' look at averages, 'proportions' look at parts of a whole, and 'variances' look at the spread or variability.\n",
        "\n",
        "- **Analogies:** Estimating means is like trying to find the average grade in an AI course. Estimating proportions is like figuring out how many students passed the course. Estimating variances is like understanding how spread out the grades were."
      ],
      "metadata": {
        "id": "LHxX2DY723xk"
      }
    },
    {
      "cell_type": "markdown",
      "source": [
        "- **Example:**\n",
        "\n",
        "Suppose you have a dataset of user interactions with an AI tool. You want to estimate the average interaction time, the proportion of interactions exceeding 5 minutes, and the variance in interaction times."
      ],
      "metadata": {
        "id": "EWDlnrwF23tV"
      }
    },
    {
      "cell_type": "code",
      "source": [
        "# Simulate interaction times in seconds\n",
        "interaction_times = np.random.normal(200, 40, 1000)\n",
        "\n",
        "# Estimate for mean\n",
        "mean_estimate = np.mean(interaction_times)\n",
        "\n",
        "# Estimate for proportion exceeding 5 minutes (300 seconds)\n",
        "proportion_estimate = np.sum(interaction_times > 300) / len(interaction_times)\n",
        "\n",
        "# Estimate for variance\n",
        "variance_estimate = np.var(interaction_times)\n",
        "\n",
        "print(\"Mean Interaction Time:\", mean_estimate)\n",
        "print(\"Proportion Exceeding 5 minutes:\", proportion_estimate)\n",
        "print(\"Variance in Interaction Times:\", variance_estimate)\n"
      ],
      "metadata": {
        "colab": {
          "base_uri": "https://localhost:8080/"
        },
        "id": "0s_tvRtw30pa",
        "outputId": "fad2f11c-4dd6-49fd-c594-825cef3bd801"
      },
      "execution_count": null,
      "outputs": [
        {
          "output_type": "stream",
          "name": "stdout",
          "text": [
            "Mean Interaction Time: 200.926690935859\n",
            "Proportion Exceeding 5 minutes: 0.004\n",
            "Variance in Interaction Times: 1481.8782133766963\n"
          ]
        }
      ]
    },
    {
      "cell_type": "markdown",
      "source": [
        "- Technical Interpretation: These estimates help in understanding different aspects of the data: central tendency, relative frequencies, and spread.\n",
        "\n",
        "- Non-Technical Interpretation: \"On average, users spend this much time on the tool. This percentage of users spend more than 5 minutes. And, the variability in usage times is so-and-so.\"\n",
        "\n",
        "- **When to Use:** When analyzing and summarizing different aspects of data in a sample to make inferences about the larger population."
      ],
      "metadata": {
        "id": "AN0410Dy316N"
      }
    },
    {
      "cell_type": "markdown",
      "source": [
        "## 4. Hypothesis Testing:\n",
        "\n",
        "- Null and Alternative Hypotheses\n",
        "- Type I and Type II Errors\n",
        "- p-values\n",
        "- One-sample, two-sample tests\n",
        "- Tests for means, proportions, variances\n",
        "- Non-parametric tests like Wilcoxon, Mann-Whitney U, Kruskal-Wallis\n",
        "- Power and Sample Size Determination"
      ],
      "metadata": {
        "id": "EieLLZywGwdS"
      }
    },
    {
      "cell_type": "markdown",
      "source": [
        "#### Type I and Type II errors"
      ],
      "metadata": {
        "id": "viw5UlPKiekb"
      }
    },
    {
      "cell_type": "code",
      "source": [
        "from sklearn.metrics import confusion_matrix"
      ],
      "metadata": {
        "id": "IB93LwKjjNO4"
      },
      "execution_count": null,
      "outputs": []
    },
    {
      "cell_type": "code",
      "source": [
        "# Given actual vs predicted\n",
        "\n",
        "actual = [1,0,1,1,0,1,0,0,1,0]\n",
        "predicted = [1,0,0,1,0,1,0,1,1,0]"
      ],
      "metadata": {
        "id": "yFY_7vMkjfg_"
      },
      "execution_count": null,
      "outputs": []
    },
    {
      "cell_type": "code",
      "source": [
        "cm = confusion_matrix(actual, predicted)\n",
        "print(cm)"
      ],
      "metadata": {
        "colab": {
          "base_uri": "https://localhost:8080/"
        },
        "id": "OStILzSekHsu",
        "outputId": "561c8ea0-2ab3-4212-df70-c74067d9d02c"
      },
      "execution_count": null,
      "outputs": [
        {
          "output_type": "stream",
          "name": "stdout",
          "text": [
            "[[4 1]\n",
            " [1 4]]\n"
          ]
        }
      ]
    },
    {
      "cell_type": "code",
      "source": [
        "tn, fp, fn, tp = cm.ravel()\n",
        "\n",
        "print(f\"True Negatives (TN): {tn}\")\n",
        "print(f\"False Positives (FP or Type I Error): {fp}\")\n",
        "print(f\"False Negatives (FN or Type II Error): {fn}\")\n",
        "print(f\"True Positives (TP): {tp}\")\n",
        "\n"
      ],
      "metadata": {
        "colab": {
          "base_uri": "https://localhost:8080/"
        },
        "id": "DpE1TJN7kdea",
        "outputId": "5b21cba6-3808-42f1-e922-03bff2c19ddc"
      },
      "execution_count": null,
      "outputs": [
        {
          "output_type": "stream",
          "name": "stdout",
          "text": [
            "True Negatives (TN): 4\n",
            "False Positives (FP or Type I Error): 1\n",
            "False Negatives (FN or Type II Error): 1\n",
            "True Positives (TP): 4\n"
          ]
        }
      ]
    },
    {
      "cell_type": "markdown",
      "source": [
        "You are predicting a certain outcome (loan default) for 2 groups (A and B) under the following assumptions\n",
        "\n",
        "* 30% of group A individuals actually default\n",
        "* 10% of group B individuals actually default\n",
        "\n"
      ],
      "metadata": {
        "id": "39iLTj2zWWs4"
      }
    },
    {
      "cell_type": "markdown",
      "source": [
        "#### p-values"
      ],
      "metadata": {
        "id": "gI3GJrC9lf38"
      }
    },
    {
      "cell_type": "markdown",
      "source": [
        "**Example:** You test the drug and get a p-value"
      ],
      "metadata": {
        "id": "_CaUWTpvmd1z"
      }
    },
    {
      "cell_type": "code",
      "source": [
        "from scipy. stats import ttest_1samp\n",
        "import numpy as np"
      ],
      "metadata": {
        "id": "j-UKFlh8mhJJ"
      },
      "execution_count": null,
      "outputs": []
    },
    {
      "cell_type": "code",
      "source": [
        "# Sample data of blood pressure after taking the drug\n",
        "\n",
        "data = np.array([120, 122, 119, 115, 112, 118, 121, 117, 123, 125])\n",
        "h0 = 120\n",
        "# Null hypothesis: mean blood pressure = 120\n",
        "\n",
        "t_stat, p_val = ttest_1samp(data, h0)\n",
        "print(p_val)"
      ],
      "metadata": {
        "colab": {
          "base_uri": "https://localhost:8080/"
        },
        "id": "jHyaJZG3mmGw",
        "outputId": "8e89e90e-0602-44ca-bcbe-f081840e08eb"
      },
      "execution_count": null,
      "outputs": [
        {
          "output_type": "stream",
          "name": "stdout",
          "text": [
            "0.5308514338386561\n"
          ]
        }
      ]
    },
    {
      "cell_type": "markdown",
      "source": [
        "### Parametric"
      ],
      "metadata": {
        "id": "yEtfDP08a6eY"
      }
    },
    {
      "cell_type": "markdown",
      "source": [
        "#### One-sample, two-sample tests"
      ],
      "metadata": {
        "id": "CB7FRfYooaAa"
      }
    },
    {
      "cell_type": "markdown",
      "source": [
        "**Example:** You wonder if men and women have different average heights."
      ],
      "metadata": {
        "id": "fTySpBALovQR"
      }
    },
    {
      "cell_type": "code",
      "source": [
        "from scipy.stats import ttest_ind\n",
        "import numpy as np"
      ],
      "metadata": {
        "id": "co8XQhNvo0tB"
      },
      "execution_count": null,
      "outputs": []
    },
    {
      "cell_type": "code",
      "source": [
        "# Sample data\n",
        "\n",
        "men_heights = np.array([175, 179, 180, 172, 178, 182, 185, 173, 176])\n",
        "women_heights = np.array([165, 163, 167, 162, 164, 158, 161, 168, 163])"
      ],
      "metadata": {
        "id": "SCswPWh5obWa"
      },
      "execution_count": null,
      "outputs": []
    },
    {
      "cell_type": "code",
      "source": [
        "t_stat, p_val = ttest_ind(men_heights, women_heights)\n",
        "print(p_val)\n",
        "print(t_stat)\n"
      ],
      "metadata": {
        "colab": {
          "base_uri": "https://localhost:8080/"
        },
        "id": "wMR0tO6OpLjg",
        "outputId": "84de26df-9856-4540-f8cf-ed352adc8ac5"
      },
      "execution_count": null,
      "outputs": [
        {
          "output_type": "stream",
          "name": "stdout",
          "text": [
            "3.762165405534717e-07\n",
            "8.241507688499214\n"
          ]
        }
      ]
    },
    {
      "cell_type": "markdown",
      "source": [
        "### Tests for means, proportions, variances"
      ],
      "metadata": {
        "id": "sIo0RraIqnQ2"
      }
    },
    {
      "cell_type": "markdown",
      "source": [
        "### Non-parametric"
      ],
      "metadata": {
        "id": "m88KHC5-rPER"
      }
    },
    {
      "cell_type": "markdown",
      "source": [
        "##### Wilcoxon"
      ],
      "metadata": {
        "id": "w7a12onMsA2e"
      }
    },
    {
      "cell_type": "markdown",
      "source": [
        "**Example:** compare score before and after additional tutoring"
      ],
      "metadata": {
        "id": "gzHn6FURs9CG"
      }
    },
    {
      "cell_type": "code",
      "source": [
        "from scipy.stats import wilcoxon\n",
        "import numpy as np"
      ],
      "metadata": {
        "id": "XQUGVYwLseeT"
      },
      "execution_count": null,
      "outputs": []
    },
    {
      "cell_type": "code",
      "source": [
        "# Before and After sample scores\n",
        "\n",
        "pre_scores = np.array([20,21,22,19,18,21])\n",
        "post_scores = np.array([23,22,21,23,21,22])"
      ],
      "metadata": {
        "id": "mIqcMJOjs2Hy"
      },
      "execution_count": null,
      "outputs": []
    },
    {
      "cell_type": "code",
      "source": [
        "w_stat, p_val = wilcoxon(pre_scores, post_scores)\n",
        "print(p_val)"
      ],
      "metadata": {
        "colab": {
          "base_uri": "https://localhost:8080/"
        },
        "id": "m-N9DEwJtuSB",
        "outputId": "4b8412f7-442d-4c9b-d448-a117b08a8a45"
      },
      "execution_count": null,
      "outputs": [
        {
          "output_type": "stream",
          "name": "stdout",
          "text": [
            "0.09375\n"
          ]
        }
      ]
    },
    {
      "cell_type": "markdown",
      "source": [
        "##### Mann-Whitney U"
      ],
      "metadata": {
        "id": "MjAYjdaasFQ7"
      }
    },
    {
      "cell_type": "markdown",
      "source": [
        "**Example:**"
      ],
      "metadata": {
        "id": "Z7AImQapuYfn"
      }
    },
    {
      "cell_type": "code",
      "source": [
        "from scipy.stats import mannwhitneyu\n",
        "import numpy as np\n"
      ],
      "metadata": {
        "id": "OxBslNESvNVw"
      },
      "execution_count": null,
      "outputs": []
    },
    {
      "cell_type": "code",
      "source": [
        "group1 = np.array([5,7,8,4,6])\n",
        "group2 = np.array([10,11,9,12,11])"
      ],
      "metadata": {
        "id": "tRWTBvzevWrm"
      },
      "execution_count": null,
      "outputs": []
    },
    {
      "cell_type": "code",
      "source": [
        "u_stat, p_val = mannwhitneyu(group1, group2)\n",
        "print(p_val)"
      ],
      "metadata": {
        "colab": {
          "base_uri": "https://localhost:8080/"
        },
        "id": "gJRe9CG9vmZ9",
        "outputId": "acd3592f-cea2-4dbb-f352-4f7b3313789f"
      },
      "execution_count": null,
      "outputs": [
        {
          "output_type": "stream",
          "name": "stdout",
          "text": [
            "0.0119252335930176\n"
          ]
        }
      ]
    },
    {
      "cell_type": "markdown",
      "source": [
        "##### Kruskal-Wallis"
      ],
      "metadata": {
        "id": "Tro4J7hGsJHj"
      }
    },
    {
      "cell_type": "code",
      "source": [],
      "metadata": {
        "id": "x4NcMoePqo7Y"
      },
      "execution_count": null,
      "outputs": []
    },
    {
      "cell_type": "markdown",
      "source": [
        "## 5. ANOVA (Analysis of Variance):\n",
        "\n",
        "- One-way ANOVA\n",
        "- Two-way ANOVA with and without interaction\n",
        "- Multiple Comparison Procedures (e.g., Tukey's HSD)"
      ],
      "metadata": {
        "id": "WnAAFV1AGwZn"
      }
    },
    {
      "cell_type": "markdown",
      "source": [
        "### One-way ANOVA"
      ],
      "metadata": {
        "id": "PN9TnwSyElbS"
      }
    },
    {
      "cell_type": "markdown",
      "source": [
        "* **Intuition:** Want to see if the average (mean) of some numeric measure (like a test score) differs across more than two groups? Use One-way ANOVA.\n",
        "\n",
        "* **Definition:** A statistical method used to test if there are significant differences between the means of three or more independent groups.\n",
        "\n",
        "* **Detailed Explanation:** One-way ANOVA compares the means between the groups and determines whether any of those means are statistically significantly different from each other.\n",
        "\n",
        "* **Analogies:** Think of it like comparing the average scores of students from three different teaching methods to determine if one method is superior."
      ],
      "metadata": {
        "id": "NKE3b-LmErwE"
      }
    },
    {
      "cell_type": "markdown",
      "source": [
        "**Example:** Imagine three different training algorithms are used to enhance the performance of an AI model. You want to know if one training algorithm produces significantly better results than the others."
      ],
      "metadata": {
        "id": "axhxb7ivFL5-"
      }
    },
    {
      "cell_type": "code",
      "source": [
        "import numpy as np\n",
        "from scipy.stats import f_oneway\n",
        "\n",
        "# Sample data: scores of models trained with three different algorithms\n",
        "algo1_scores = np.array([85.5, 88.6, 84.1, 86.5, 87.2]) # SVM\n",
        "algo2_scores = np.array([89.5, 91.2, 89.1, 90.2, 91.1]) # Random Forest\n",
        "algo3_scores = np.array([80.5, 81.6, 82.1, 81.5, 83.5]) # Neural Network\n",
        "\n",
        "F, p = f_oneway(algo1_scores, algo2_scores, algo3_scores)\n",
        "\n",
        "print(\"p-value:\", p)"
      ],
      "metadata": {
        "colab": {
          "base_uri": "https://localhost:8080/"
        },
        "id": "m7_u8Xg3FT1x",
        "outputId": "b7c16d77-ee88-4fab-8f9d-f7b95dc67e84"
      },
      "execution_count": null,
      "outputs": [
        {
          "output_type": "stream",
          "name": "stdout",
          "text": [
            "p-value: 1.0962450489889884e-06\n"
          ]
        }
      ]
    },
    {
      "cell_type": "markdown",
      "source": [
        "**Interpretation**\n",
        "- ***Technical:*** If p < 0.05 (a commonly used significance level), there's a significant difference in the means of at least two groups.\n",
        "\n",
        "- ***Non-Technical:*** \"It's like comparing the effectiveness of three different teaching methods on students. If there's a significant difference, it means at least one method is notably better or worse than the others.\""
      ],
      "metadata": {
        "id": "WPSM8YYFFXIN"
      }
    },
    {
      "cell_type": "markdown",
      "source": [
        "**When to Use:** When you want to compare the means of more than two groups and the groups are independent."
      ],
      "metadata": {
        "id": "i-W3T_KNFrxT"
      }
    },
    {
      "cell_type": "markdown",
      "source": [
        "### Two-way ANOVA (without interaction)"
      ],
      "metadata": {
        "id": "hLI1lhBwGA7Z"
      }
    },
    {
      "cell_type": "markdown",
      "source": [
        "* **Intuition:** Want to see if the average (mean) of a numeric measure differs based on two different factors (like teaching method and student age group)? Use Two-way ANOVA without interaction.\n",
        "\n",
        "* **Definition:** Tests if there are any statistically significant differences between the means of independent groups based on two factors.\n",
        "\n",
        "* **Detailed Explanation:** It evaluates the influence of two different categorical variables on one dependent variable, without considering the combined effect of these factors.\n",
        "\n",
        "* **Analogies:** Like comparing test scores based on teaching methods and also based on different age groups, but not looking at how age group and teaching method combined might influence the scores.\n"
      ],
      "metadata": {
        "id": "Xw742G2JGA2I"
      }
    },
    {
      "cell_type": "markdown",
      "source": [
        "\n",
        "**Example:** Let's say you want to know if the performance of an AI model varies by training algorithm and data type (e.g., structured vs unstructured data)."
      ],
      "metadata": {
        "id": "2YvCU-tyGAy1"
      }
    },
    {
      "cell_type": "code",
      "source": [],
      "metadata": {
        "id": "7uOuF04tGcLZ"
      },
      "execution_count": null,
      "outputs": []
    },
    {
      "cell_type": "markdown",
      "source": [
        "**Interpretation:**\n",
        "\n",
        "* ***Technical:***\n",
        "* ***Non Technical:***\n"
      ],
      "metadata": {
        "id": "FsKdhup2GAvz"
      }
    },
    {
      "cell_type": "markdown",
      "source": [
        "**When to Use:** When you have two independent categorical variables and want to see their individual impact on a numeric dependent variable.\n",
        "\n"
      ],
      "metadata": {
        "id": "UJBQyDOSGAsd"
      }
    },
    {
      "cell_type": "markdown",
      "source": [
        "### Two-way ANOVA (with interaction)"
      ],
      "metadata": {
        "id": "nDipEQNeGApO"
      }
    },
    {
      "cell_type": "markdown",
      "source": [
        "- ***Intuition:*** Similar to the previous, but now we want to see if there's a combined effect of the two factors.\n",
        "\n",
        "- ***Detailed Explanation:*** It checks if there's an interaction between the two factors, meaning, the effect of one factor depends on the level of the other factor.\n",
        "\n",
        "- ***Analogies:*** Like observing if younger students benefit more from a digital textbook while older students benefit more from a traditional textbook.\n"
      ],
      "metadata": {
        "id": "xnSwWCD3GAlr"
      }
    },
    {
      "cell_type": "markdown",
      "source": [
        "**Example:** Suppose you want to know if the AI model's performance varies when trained on different sizes of datasets combined with different training algorithms."
      ],
      "metadata": {
        "id": "BrwwKcx8GAim"
      }
    },
    {
      "cell_type": "markdown",
      "source": [
        "**Interpretation**\n",
        "- ***Technical:***\n",
        "\n",
        "- ***Non-Technical:***\n"
      ],
      "metadata": {
        "id": "ljFdYhmSGAez"
      }
    },
    {
      "cell_type": "markdown",
      "source": [
        "\n",
        "***When to Use:*** When you suspect the effects of one categorical variable depend on the level of another categorical variable."
      ],
      "metadata": {
        "id": "iGX-wCljGAaO"
      }
    },
    {
      "cell_type": "markdown",
      "source": [
        "### Multiple Comparison Procedures (Tukey's HSD):"
      ],
      "metadata": {
        "id": "_Y4455XAHlIF"
      }
    },
    {
      "cell_type": "markdown",
      "source": [
        "- ***Intuition:*** After finding a significant result in ANOVA, you want to see which groups specifically differ from each other.\n",
        "\n",
        "- ***Definition:*** Post-hoc tests that determine which groups are different after ANOVA has identified significance.\n",
        "\n",
        "- ***Detailed Explanation:*** Tukey's HSD (Honest Significant Difference) is one such method that controls for Type I error when making multiple comparisons.\n",
        "\n",
        "- ***Analogies:*** After finding that some teaching methods are different, you use Tukey's HSD to pinpoint which methods are different from each other."
      ],
      "metadata": {
        "id": "rJLvmWvoHlE0"
      }
    },
    {
      "cell_type": "markdown",
      "source": [
        "**Example:** Imagine three different training algorithms are used to enhance the performance of an AI model. You want to know if one training algorithm produces significantly better results than the others."
      ],
      "metadata": {
        "id": "pf1BsnZuHk7X"
      }
    },
    {
      "cell_type": "code",
      "source": [
        "from statsmodels.stats.multicomp import pairwise_tukeyhsd\n",
        "import numpy as np\n",
        "\n",
        "\n",
        "\n",
        "# Sample data: scores of models trained with three different algorithms\n",
        "algo1_scores = np.array([85.5, 88.6, 84.1, 86.5, 87.2]) # SVM\n",
        "algo2_scores = np.array([89.5, 91.2, 89.1, 90.2, 91.1]) # RandomForest\n",
        "algo3_scores = np.array([80.5, 81.6, 82.1, 81.5, 83.5]) # Neural Network\n",
        "\n",
        "\n",
        "data = np.concatenate([algo1_scores, algo2_scores, algo3_scores])\n",
        "labels = ['algo1']*len(algo1_scores) + ['algo2']*len(algo2_scores) + ['algo3']*len(algo3_scores)\n",
        "\n",
        "tukey_result = pairwise_tukeyhsd(data, labels)\n",
        "\n",
        "print(tukey_result)\n"
      ],
      "metadata": {
        "colab": {
          "base_uri": "https://localhost:8080/"
        },
        "id": "vi4Sqg4cH47d",
        "outputId": "1582abe5-5c56-41ae-a334-218375ad2824"
      },
      "execution_count": null,
      "outputs": [
        {
          "output_type": "stream",
          "name": "stdout",
          "text": [
            " Multiple Comparison of Means - Tukey HSD, FWER=0.05 \n",
            "=====================================================\n",
            "group1 group2 meandiff p-adj   lower    upper  reject\n",
            "-----------------------------------------------------\n",
            " algo1  algo2     3.84 0.0013   1.6678  6.0122   True\n",
            " algo1  algo3    -4.54 0.0003  -6.7122 -2.3678   True\n",
            " algo2  algo3    -8.38    0.0 -10.5522 -6.2078   True\n",
            "-----------------------------------------------------\n"
          ]
        }
      ]
    },
    {
      "cell_type": "markdown",
      "source": [
        "**Interpretation**\n",
        "\n",
        "- ***Technical:*** If p < 0.05 (a commonly used significance level), there's a significant difference in the means of at least two groups.\n",
        "\n",
        "- ***Non-Technical:*** \"It's like comparing the effectiveness of three different teaching methods on students. If there's a significant difference, it means at least one method is notably better or worse than the others.\""
      ],
      "metadata": {
        "id": "GZu5QAk7Hk4T"
      }
    },
    {
      "cell_type": "markdown",
      "source": [
        "**When to Use:** When you want to compare the means of more than two groups and the groups are independent.\n",
        "\n"
      ],
      "metadata": {
        "id": "lWOaDRWrHk1A"
      }
    },
    {
      "cell_type": "markdown",
      "source": [
        "### Summary"
      ],
      "metadata": {
        "id": "ptQ2FNdgHkx3"
      }
    },
    {
      "cell_type": "markdown",
      "source": [
        "**When to use One-way ANOVA**\n",
        "\n",
        "-  You have ***one independent variable*** (or factor) with ***three or more levels*** (or groups) and a ***single dependent variable***.\n",
        "* You want to test if there is a statistically significant difference in the means of the dependent variable across the different levels of your single factor.\n",
        "- For example, comparing the average performance of AI models based on three different training algorithms (Algorithm A, Algorithm B, Algorithm C)."
      ],
      "metadata": {
        "id": "xi6v5wv8HkuD"
      }
    },
    {
      "cell_type": "markdown",
      "source": [
        "**When to use Two-way ANOVA (without interaction)**\n",
        "\n",
        "\n",
        "* You have ***two independent variables*** and a single ***dependent variable***.\n",
        "* You want to understand the separate impact of each independent variable on the dependent variable, without considering any combined effect."
      ],
      "metadata": {
        "id": "cT2A2wInHkq0"
      }
    },
    {
      "cell_type": "markdown",
      "source": [
        "**When to use Two-way ANOVA (with interaction)**\n",
        "\n",
        "* Again, you have ***two independent variables*** and a ***single dependent variable***.\n",
        "- You suspect that the effect of one independent variable might depend on the level of the other independent variable. In other words, you want to know if there's an interaction between the two independent variables."
      ],
      "metadata": {
        "id": "Z_CnmRByJro2"
      }
    },
    {
      "cell_type": "markdown",
      "source": [
        "**When to use Multiple Comparison Procedures (Tukey's HSD)**\n",
        "\n",
        "* After conducting an ANOVA test (be it one-way or two-way) and finding a significant effect, you'll often want to know which specific groups or levels differ from each other. This is where post-hoc tests like Tukey's HSD come into play.\n",
        "* These tests are used to pinpoint where the differences lie after ANOVA has identified that differences exist."
      ],
      "metadata": {
        "id": "Ib4bS79EKJs5"
      }
    },
    {
      "cell_type": "markdown",
      "source": [
        "## 6. Chi-Square Tests:\n",
        "\n",
        "- Test of Independence\n",
        "- Goodness-of-Fit Test\n",
        "- V-Cramer score"
      ],
      "metadata": {
        "id": "Bresfz0UGwWD"
      }
    },
    {
      "cell_type": "markdown",
      "source": [
        "#### Test of Independence"
      ],
      "metadata": {
        "id": "bvRrTTXjKsDt"
      }
    },
    {
      "cell_type": "markdown",
      "source": [
        "- ***Intuition:*** You want to know if there's a relationship between two categorical variables, like if the choice of an algorithm is influenced by the type of data.\n",
        "\n",
        "- ***Definition:*** A test that determines if two categorical variables are independent or associated.\n",
        "\n",
        "- ***Detailed Explanation:*** The test compares the observed frequencies of occurrences in a contingency table to the frequencies we would expect if the two variables were independent.\n",
        "\n",
        "- ***Analogies:*** Think of it as checking if the choice of a drink (tea, coffee, water) is independent of meal type (breakfast, lunch, dinner)."
      ],
      "metadata": {
        "id": "pZNmiimeKr_n"
      }
    },
    {
      "cell_type": "markdown",
      "source": [
        "**Example:** Suppose you want to see if the choice of a machine learning algorithm (like Decision Trees, Neural Networks, SVM) is independent of the type of data source (images, text, audio)."
      ],
      "metadata": {
        "id": "Bm5d2KzSKr7b"
      }
    },
    {
      "cell_type": "code",
      "source": [
        "import numpy as np\n",
        "from scipy.stats import chi2_contingency\n",
        "\n",
        "# Sample data: observed frequencies in a contingency table\n",
        "observed = np.array([\n",
        "    [30, 10, 10],  # Decision Trees\n",
        "    [10, 40, 10],  # Neural Networks\n",
        "    [10, 10, 30]   # SVM\n",
        "])\n",
        "\n",
        "chi2, p, _, _ = chi2_contingency(observed)\n",
        "\n",
        "print(\"p-value:\", p)\n",
        "print(\"chi2:\", chi2)\n"
      ],
      "metadata": {
        "colab": {
          "base_uri": "https://localhost:8080/"
        },
        "id": "TLkpxQxvK9Ju",
        "outputId": "2eba6c34-33cd-454a-c9d4-2a9507a202f8"
      },
      "execution_count": null,
      "outputs": [
        {
          "output_type": "stream",
          "name": "stdout",
          "text": [
            "p-value: 2.339480709450888e-12\n",
            "chi2: 60.44444444444444\n"
          ]
        }
      ]
    },
    {
      "cell_type": "code",
      "source": [],
      "metadata": {
        "id": "8fmd-PFBrX0G"
      },
      "execution_count": null,
      "outputs": []
    },
    {
      "cell_type": "markdown",
      "source": [
        "In this code, if the p-value is less than a significance level (usually 0.05), it suggests that the choice of algorithm is not independent of the data source."
      ],
      "metadata": {
        "id": "wjij2i_QKr3U"
      }
    },
    {
      "cell_type": "markdown",
      "source": [
        "**When to Use:** When you want to check the relationship or association between two categorical variables.\n",
        "\n"
      ],
      "metadata": {
        "id": "HGnEd5DHKrzM"
      }
    },
    {
      "cell_type": "markdown",
      "source": [
        "### Chi-Square Goodness-of-Fit Test\n",
        "\n"
      ],
      "metadata": {
        "id": "dZlTO-r8Kru1"
      }
    },
    {
      "cell_type": "markdown",
      "source": [
        "- ***Intuition:*** You want to see if your observed data matches what you'd expect under a particular distribution or based on certain proportions.\n",
        "\n",
        "- ***Definition:*** A test that determines if sample data matches a population for a categorical variable.\n",
        "\n",
        "- ***Detailed Explanation:*** It compares the observed frequencies in categories to the frequencies we would expect under a specified distribution.\n",
        "\n",
        "- ***Analogies:*** Imagine expecting equal sales for three different AI courses, and you want to check if the actual sales match this expectation."
      ],
      "metadata": {
        "id": "3CsJEqIvKrq8"
      }
    },
    {
      "cell_type": "markdown",
      "source": [
        "**Example:** You have an AI tool that's supposed to classify images into three categories equally. You want to test if the observed classifications match this expected distribution."
      ],
      "metadata": {
        "id": "bteW1KhEKrnI"
      }
    },
    {
      "cell_type": "code",
      "source": [
        "from scipy.stats import chisquare\n",
        "\n",
        "# Sample data: observed vs expected frequencies\n",
        "observed_freq = [50, 30, 20]\n",
        "expected_freq = [1/3 * sum(observed_freq)] * 3\n",
        "\n",
        "chi2, p = chisquare(observed_freq, expected_freq)\n",
        "\n",
        "print(\"p-value:\", p)\n",
        "print(\"chi2:\", chi2)"
      ],
      "metadata": {
        "colab": {
          "base_uri": "https://localhost:8080/"
        },
        "id": "5azsYbfmLv5j",
        "outputId": "ef6b2473-afa0-491b-9d52-27eced2e7108"
      },
      "execution_count": null,
      "outputs": [
        {
          "output_type": "stream",
          "name": "stdout",
          "text": [
            "p-value: 0.0009118819655545153\n",
            "chi2: 14.000000000000002\n"
          ]
        }
      ]
    },
    {
      "cell_type": "markdown",
      "source": [
        "This test checks if the observed frequencies significantly deviate from what was expected.\n"
      ],
      "metadata": {
        "id": "-kdPS3_7Krir"
      }
    },
    {
      "cell_type": "markdown",
      "source": [
        "**When to Use:** When you want to see if observed categorical data matches an expected distribution or set of proportions."
      ],
      "metadata": {
        "id": "mtxrqHCkL46K"
      }
    },
    {
      "cell_type": "markdown",
      "source": [
        "### V-Cramer Score"
      ],
      "metadata": {
        "id": "IZEiH561MAjN"
      }
    },
    {
      "cell_type": "markdown",
      "source": [
        "- ***Intuition:*** After establishing that two categorical variables are associated using the chi-square test, you want to know the strength of this relationship.\n",
        "\n",
        "- ***Definition:*** A measure of association between two nominal variables, providing a score between 0 (no association) and 1 (perfect association).\n",
        "\n",
        "- ***Detailed Explanation:*** It's a normalized version of the Chi-square statistic, allowing for comparison between datasets of different sizes.\n",
        "\n",
        "- ***Analogies:*** Knowing that height and weight are related is one thing; the correlation coefficient tells us how strongly they're related. Similarly, V-Cramer score tells us the strength of association between two categorical variables."
      ],
      "metadata": {
        "id": "XdO7cIvrMAfy"
      }
    },
    {
      "cell_type": "markdown",
      "source": [
        "**Example**"
      ],
      "metadata": {
        "id": "b_wnQm37MAcN"
      }
    },
    {
      "cell_type": "code",
      "source": [
        "import numpy as np\n",
        "from scipy.stats import chi2_contingency\n",
        "\n",
        "# Sample data: observed frequencies in a contingency table\n",
        "observed = np.array([\n",
        "    [30, 10, 10],  # Decision Trees\n",
        "    [10, 40, 10],  # Neural Networks\n",
        "    [10, 10, 30]   # SVM\n",
        "])\n",
        "\n",
        "def cramers_v(contingency_table):\n",
        "    chi2 = chi2_contingency(contingency_table)[0]\n",
        "    n = contingency_table.sum()\n",
        "    return np.sqrt(chi2 / (n * min(contingency_table.shape[0]-1, contingency_table.shape[1]-1)))\n",
        "\n",
        "score = cramers_v(observed)\n",
        "print(\"V-Cramer Score:\", score)\n"
      ],
      "metadata": {
        "colab": {
          "base_uri": "https://localhost:8080/"
        },
        "id": "yB7HixODMRwK",
        "outputId": "1dad0a7b-c9fd-4f0b-e26f-ceb7db858a8e"
      },
      "execution_count": null,
      "outputs": [
        {
          "output_type": "stream",
          "name": "stdout",
          "text": [
            "V-Cramer Score: 0.4346134936801766\n"
          ]
        }
      ]
    },
    {
      "cell_type": "markdown",
      "source": [
        "**When to Use:** When you've found a significant association between two categorical variables using the chi-square test and want to know the strength of this association."
      ],
      "metadata": {
        "id": "oU-P9sgIMAWO"
      }
    },
    {
      "cell_type": "markdown",
      "source": [
        "### Summary"
      ],
      "metadata": {
        "id": "9lWU0eNZM4um"
      }
    },
    {
      "cell_type": "markdown",
      "source": [
        "**When to Use Chi-Square Test of Independence**\n",
        "\n",
        "  - **Scenario**: You have two categorical variables, and you want to determine whether they are independent (no relationship) or associated (there's some relationship).\n",
        "  - **Purpose**: To ascertain if there's a relationship or association between two categorical variables.\n",
        "  - **Example**: Is there an association between the type of machine learning model (e.g., Decision Trees, Neural Networks, SVM) used and the type of data (e.g., image, text, audio)?\n",
        "  "
      ],
      "metadata": {
        "id": "97o-Ca0uM8B_"
      }
    },
    {
      "cell_type": "markdown",
      "source": [
        "**When to Use Chi-Square Goodness-of-Fit Test**\n",
        "\n",
        "  - **Scenario**: You have observed frequencies for different categories, and you have a set of expected frequencies (based on a hypothesis or prior knowledge). You want to see if the observed data fits the expected distribution.\n",
        "  - **Purpose**: To test if the observed distribution of a categorical variable matches an expected distribution.\n",
        "  - **Example**: You have an AI tool designed to classify data into three categories. If the tool is working perfectly, you might expect an even distribution across categories. The Goodness-of-Fit test can be used to check if the observed classifications deviate from this expected even distribution."
      ],
      "metadata": {
        "id": "snnjVauzNV3_"
      }
    },
    {
      "cell_type": "markdown",
      "source": [
        "\n",
        "**V-Cramer Score**\n",
        "\n",
        "  - **Scenario**: After determining that two categorical variables are associated (using the Test of Independence), you want to measure the strength of this association.\n",
        "  - **Purpose**: To quantify the strength of association between two categorical variables. While the Test of Independence can tell you if two variables are related, the V-Cramer score tells you how strongly they're related.\n",
        "  - **Example**: After establishing that there's a significant association between the choice of a machine learning model and the type of data, you might want to understand how strong this association is. A score close to 1 suggests a very strong relationship, while a score close to 0 suggests a weak relationship.\n"
      ],
      "metadata": {
        "id": "YLymgCo9NeFV"
      }
    },
    {
      "cell_type": "markdown",
      "source": [
        "## 7. Non-Parametric Statistics:\n",
        "\n",
        "- Spearman's Rank Correlation\n",
        "- Kendall's Tau\n",
        "- Runs Test"
      ],
      "metadata": {
        "id": "uBeusR9tGwSF"
      }
    },
    {
      "cell_type": "markdown",
      "source": [
        "### Spearman's Rank Correlation:\n",
        "\n"
      ],
      "metadata": {
        "id": "hAnoMyZfPLkM"
      }
    },
    {
      "cell_type": "markdown",
      "source": [
        "- ***Intuition:*** Sometimes data doesn't follow a perfect linear relationship but still moves in a synchronized manner. You want to measure this synchronization.\n",
        "\n",
        "- ***Definition:*** Spearman's Rank Correlation is a non-parametric measure that assesses how well the relationship between two variables can be described using a monotonic function.\n",
        "\n",
        "- ***Detailed Explanation:*** If both variables tend to increase or decrease together, Spearman's coefficient will be close to 1 or -1. It's based on ranking data points rather than their raw values.\n",
        "\n",
        "- ***Analogies:*** Imagine two dancers who are not perfectly synchronized in their steps (linear relationship), but if one goes faster, the other does too, and if one slows down, the other does as well (monotonic relationship)."
      ],
      "metadata": {
        "id": "BgS8G-8MPLgh"
      }
    },
    {
      "cell_type": "markdown",
      "source": [
        "**Example:**Suppose you want to see if the experience of a senior data scientist correlates with the complexity of projects they choose. Not necessarily linearly, but if one increases, does the other tend to do the same?"
      ],
      "metadata": {
        "id": "PG-uSZpWPLcv"
      }
    },
    {
      "cell_type": "code",
      "source": [
        "import numpy as np\n",
        "from scipy.stats import spearmanr\n",
        "\n",
        "# Sample data\n",
        "experience = [1, 2, 3, 4, 5]  # Years of experience\n",
        "project_complexity = [2, 3, 2.5, 4, 5]  # On a scale of 1-5\n",
        "\n",
        "corr, p = spearmanr(experience, project_complexity)\n",
        "print(\"Spearman's Rank Correlation:\", corr)\n"
      ],
      "metadata": {
        "colab": {
          "base_uri": "https://localhost:8080/"
        },
        "id": "6RjeniyroTNy",
        "outputId": "d43709fe-aff9-4d36-fdf3-ebdb12031242"
      },
      "execution_count": null,
      "outputs": [
        {
          "output_type": "stream",
          "name": "stdout",
          "text": [
            "Spearman's Rank Correlation: 0.8999999999999998\n"
          ]
        }
      ]
    },
    {
      "cell_type": "markdown",
      "source": [
        "Interpretation"
      ],
      "metadata": {
        "id": "hA_5ZapiPLZI"
      }
    },
    {
      "cell_type": "markdown",
      "source": [
        "**When to Use:** When you suspect a monotonic relationship between two variables but not necessarily a linear one."
      ],
      "metadata": {
        "id": "BU6tKxnZPLVb"
      }
    },
    {
      "cell_type": "markdown",
      "source": [
        "### Kendall's Tau\n",
        "\n"
      ],
      "metadata": {
        "id": "jjqjeQzSPLRl"
      }
    },
    {
      "cell_type": "markdown",
      "source": [
        "- Intuition: You want to measure the agreement between two rankings.\n",
        "\n",
        "- Definition: Kendall's Tau is a correlation measure for ordinal data that represents the difference between the number of concordant and discordant pairs.\n",
        "\n",
        "- Detailed Explanation: It calculates the number of pairs that are in the same order for both sets versus those in a different order.\n",
        "\n",
        "- Analogies: Consider two judges ranking contestants in a talent show. How often do they agree on the rankings versus disagree?"
      ],
      "metadata": {
        "id": "2AteNsegPLNu"
      }
    },
    {
      "cell_type": "markdown",
      "source": [
        "**Example:** Assessing if two senior data scientists tend to rank the importance of different AI techniques in a similar manner."
      ],
      "metadata": {
        "id": "54EdpYSOPLKS"
      }
    },
    {
      "cell_type": "code",
      "source": [
        "from scipy.stats import kendalltau\n",
        "\n",
        "# Sample rankings\n",
        "scientist1_rankings = [1, 2, 3, 4]\n",
        "scientist2_rankings = [2, 1, 4, 3]\n",
        "\n",
        "tau, p = kendalltau(scientist1_rankings, scientist2_rankings)\n",
        "print(\"Kendall's Tau:\", tau)\n"
      ],
      "metadata": {
        "colab": {
          "base_uri": "https://localhost:8080/"
        },
        "id": "aMPQTTyMpYjU",
        "outputId": "fe91dcf4-5c78-4d89-e565-bdf23d287e66"
      },
      "execution_count": null,
      "outputs": [
        {
          "output_type": "stream",
          "name": "stdout",
          "text": [
            "Kendall's Tau: 0.3333333333333334\n"
          ]
        }
      ]
    },
    {
      "cell_type": "markdown",
      "source": [
        "Interpretation"
      ],
      "metadata": {
        "id": "VvZ6ERqhPLGM"
      }
    },
    {
      "cell_type": "markdown",
      "source": [
        "**When to Use:** When you want to measure the agreement between two sets of rankings.\n",
        "\n"
      ],
      "metadata": {
        "id": "l5xSn6RTPLCQ"
      }
    },
    {
      "cell_type": "markdown",
      "source": [
        "###Runs Test\n"
      ],
      "metadata": {
        "id": "49mZPbSdpkql"
      }
    },
    {
      "cell_type": "markdown",
      "source": [
        "- Intuition: You want to check if a sequence of data points is random or exhibits some pattern.\n",
        "\n",
        "- Definition: A test that determines if the order of a sequence is random or not.\n",
        "\n",
        "- Detailed Explanation: It counts the number of \"runs\" in a sequence. A run is a succession of similar data points (either all increasing or all decreasing).\n",
        "\n",
        "- Analogies: Consider flipping a coin. If you get too many heads in a row, you might question if the coin is fair."
      ],
      "metadata": {
        "id": "oIAHLXBZpkl4"
      }
    },
    {
      "cell_type": "markdown",
      "source": [],
      "metadata": {
        "id": "TTLofBFKpkhT"
      }
    },
    {
      "cell_type": "markdown",
      "source": [
        "## 8. Bayesian Statistics\n",
        "\n",
        "- Bayes' Theorem\n",
        "- Prior and Posterior Distributions\n",
        "- Bayesian Inference and Estimation\n",
        "- Markov Chain Monte Carlo (MCMC)"
      ],
      "metadata": {
        "id": "03zx3Z-HGwOj"
      }
    },
    {
      "cell_type": "markdown",
      "source": [
        "## 9. Causal inference:\n",
        "\n",
        "- Randomized Control Trials (RCT)\n",
        "- Propensity Score\n",
        "- Instrumental Variables\n"
      ],
      "metadata": {
        "id": "-rjEdIQcN3xm"
      }
    },
    {
      "cell_type": "code",
      "source": [],
      "metadata": {
        "id": "M1j65G8fz6JC"
      },
      "execution_count": null,
      "outputs": []
    },
    {
      "cell_type": "code",
      "source": [
        "import numpy as np"
      ],
      "metadata": {
        "id": "pWb9PkeSzB6w"
      },
      "execution_count": null,
      "outputs": []
    },
    {
      "cell_type": "code",
      "source": [
        "vec1 = np.array([1,2,3,4])\n",
        "vec2 = np.array([2,2,3,4])"
      ],
      "metadata": {
        "id": "HX1Ffuv15fqE"
      },
      "execution_count": null,
      "outputs": []
    },
    {
      "cell_type": "code",
      "source": [],
      "metadata": {
        "id": "XtM4HfoF5ovM"
      },
      "execution_count": null,
      "outputs": []
    },
    {
      "cell_type": "markdown",
      "source": [
        "---"
      ],
      "metadata": {
        "id": "4R_PcVHpdCjF"
      }
    },
    {
      "cell_type": "markdown",
      "source": [
        "## Survival Analysis\n",
        "\n",
        "- Kaplan - Meier Estimation\n",
        "- Cox Proportional - Hazards model"
      ],
      "metadata": {
        "id": "t2D4BwIJdEK2"
      }
    },
    {
      "cell_type": "code",
      "source": [
        "!pip install Faker\n",
        "# Import necessary libraries\n",
        "import pandas as pd\n",
        "import numpy as np\n",
        "from faker import Faker\n",
        "\n",
        "# Set a random seed for reproducibility\n",
        "np.random.seed(42)\n",
        "fake = Faker()\n",
        "\n",
        "# Generate a dataframe for sales data\n",
        "num_records = 1000\n",
        "df_sales = pd.DataFrame({\n",
        "    'transaction_id': range(1, num_records + 1),\n",
        "    'store_id': np.random.choice(a=range(1, 21), size=num_records, replace=True),\n",
        "    'customer_id': np.random.randint(1000, 2000, size=num_records),\n",
        "    'customer_name': [fake.name() for _ in range(num_records)],\n",
        "    'credit_card_number': [fake.credit_card_number(card_type=None) for _ in range(num_records)],\n",
        "    'sales': np.random.normal(loc=100, scale=20, size=num_records).round(2),\n",
        "    'transaction_date': pd.date_range(start='2021-01-01', periods=num_records, freq='D').date\n",
        "})\n",
        "df_store_info = pd.DataFrame({\n",
        "    'store_id': range(1, 21),\n",
        "    'store_type': np.random.choice(['A', 'B', 'C'], size=20, replace=True),\n",
        "    'store_location': np.random.choice(['Urban', 'Suburban', 'Rural'], size=20, replace=True),\n",
        "    'number_of_employees': np.random.randint(5, 30, size=20)\n",
        "})\n",
        "\n",
        "### Data Cleaning Section Start ###\n",
        "print(\"Data Cleaning Section Start\")\n",
        "\n",
        "# Assuming df_sales and df_store_info are already defined as per the code provided earlier\n",
        "\n",
        "# Check for missing values in sales data and replace with \"missing\"\n",
        "missing_sales = df_sales.isnull().sum()\n",
        "print(\"Missing values in sales data before cleaning:\", missing_sales)\n",
        "df_sales.fillna(\"missing\", inplace=True)\n",
        "\n",
        "# Check for missing values in store information and replace with \"missing\"\n",
        "missing_store_info = df_store_info.isnull().sum()\n",
        "print(\"Missing values in store info data before cleaning:\", missing_store_info)\n",
        "df_store_info.fillna(\"missing\", inplace=True)\n",
        "\n",
        "# Check and remove duplicate rows in sales data\n",
        "duplicates_sales = df_sales.duplicated().sum()\n",
        "print(\"Duplicate records in sales data before removal:\", duplicates_sales)\n",
        "df_sales.drop_duplicates(inplace=True)\n",
        "\n",
        "# Check and remove duplicate rows in store information\n",
        "duplicates_store_info = df_store_info.duplicated().sum()\n",
        "print(\"Duplicate records in store info data before removal:\", duplicates_store_info)\n",
        "df_store_info.drop_duplicates(inplace=True)\n",
        "\n",
        "# Ensure transaction_date is datetime\n",
        "df_sales['transaction_date'] = pd.to_datetime(df_sales['transaction_date'])\n",
        "\n",
        "# Ensure store_id is categorical\n",
        "df_sales['store_id'] = df_sales['store_id'].astype('category')\n",
        "df_store_info['store_id'] = df_store_info['store_id'].astype('category')\n",
        "\n",
        "print(\"Data Cleaning Section End\")\n",
        "### Data Cleaning Section End ###\n",
        "\n",
        "### Data Integration Section Start ###\n",
        "print(\"\\nData Integration Section Start\")\n",
        "\n",
        "# Merging df_sales and df_store_info on store_id\n",
        "df_combined = pd.merge(df_sales, df_store_info, on='store_id', how='left')\n",
        "print(f\"Data merged on 'store_id'. The combined DataFrame now has {df_combined.shape[1]} columns.\")\n",
        "\n",
        "# Make sure the store_location is consistently formatted (e.g., all uppercase)\n",
        "df_combined['store_location'] = df_combined['store_location'].str.upper()\n",
        "print(\"Store location capitalization standardized.\")\n",
        "\n",
        "print(\"Data Integration Section End\")\n",
        "### Data Integration Section End ###\n",
        "\n",
        "### Data Reduction Section Start ###\n",
        "print(\"\\nData Reduction Section Start\")\n",
        "\n",
        "# Remove irrelevant data\n",
        "irrelevant_columns = ['credit_card_number']\n",
        "df_reduced = df_combined.drop(columns=irrelevant_columns)\n",
        "print(f\"Irrelevant columns removed: {irrelevant_columns}\")\n",
        "\n",
        "# Granularity - Aggregate sales data from daily to weekly sales\n",
        "df_reduced['transaction_week'] = df_reduced['transaction_date'].dt.isocalendar().week\n",
        "# Using observed=True to include only observed combinations in the result\n",
        "weekly_sales = df_reduced.groupby(['store_id', 'transaction_week'], observed=True)['sales'].sum().reset_index()\n",
        "print(\"Sales data aggregated from daily to weekly.\")\n",
        "\n",
        "\n",
        "# Remove constant and quasi-constant features\n",
        "threshold = 0.01  # Represents 1% variance\n",
        "quasi_constant_features = []\n",
        "for column in df_reduced.columns:\n",
        "    predominant = (df_reduced[column].value_counts(normalize=True).sort_values(ascending=False).values[0])\n",
        "    if predominant > 1 - threshold:\n",
        "        quasi_constant_features.append(column)\n",
        "\n",
        "df_reduced.drop(columns=quasi_constant_features, inplace=True)\n",
        "print(f\"Quasi-constant features removed: {quasi_constant_features}\")\n",
        "\n",
        "# Reduce memory allocation\n",
        "initial_memory = df_reduced.memory_usage(deep=True).sum()\n",
        "for column in df_reduced.select_dtypes(include=['int64']).columns:\n",
        "    df_reduced[column] = df_reduced[column].astype(np.int32)\n",
        "for column in df_reduced.select_dtypes(include=['float64']).columns:\n",
        "    df_reduced[column] = df_reduced[column].astype(np.float32)\n",
        "final_memory = df_reduced.memory_usage(deep=True).sum()\n",
        "memory_saved = initial_memory - final_memory\n",
        "print(f\"Memory usage reduced by {memory_saved / 1024:.2f} KB\")\n",
        "\n",
        "# Export reduced data to CSV\n",
        "df_reduced.to_csv('reduced_data.csv', index=False)\n",
        "\n",
        "print(\"Data Reduction Section End\")\n",
        "### Data Reduction Section End ###"
      ],
      "metadata": {
        "id": "ZO8kwKZB2EEH",
        "colab": {
          "base_uri": "https://localhost:8080/"
        },
        "outputId": "15480893-37d4-475b-9df4-32312a5d9b69"
      },
      "execution_count": null,
      "outputs": [
        {
          "output_type": "stream",
          "name": "stdout",
          "text": [
            "Collecting Faker\n",
            "  Downloading Faker-19.13.0-py3-none-any.whl (1.7 MB)\n",
            "\u001b[2K     \u001b[90m━━━━━━━━━━━━━━━━━━━━━━━━━━━━━━━━━━━━━━━━\u001b[0m \u001b[32m1.7/1.7 MB\u001b[0m \u001b[31m9.4 MB/s\u001b[0m eta \u001b[36m0:00:00\u001b[0m\n",
            "\u001b[?25hRequirement already satisfied: python-dateutil>=2.4 in /usr/local/lib/python3.10/dist-packages (from Faker) (2.8.2)\n",
            "Requirement already satisfied: six>=1.5 in /usr/local/lib/python3.10/dist-packages (from python-dateutil>=2.4->Faker) (1.16.0)\n",
            "Installing collected packages: Faker\n",
            "Successfully installed Faker-19.13.0\n",
            "Data Cleaning Section Start\n",
            "Missing values in sales data before cleaning: transaction_id        0\n",
            "store_id              0\n",
            "customer_id           0\n",
            "customer_name         0\n",
            "credit_card_number    0\n",
            "sales                 0\n",
            "transaction_date      0\n",
            "dtype: int64\n",
            "Missing values in store info data before cleaning: store_id               0\n",
            "store_type             0\n",
            "store_location         0\n",
            "number_of_employees    0\n",
            "dtype: int64\n",
            "Duplicate records in sales data before removal: 0\n",
            "Duplicate records in store info data before removal: 0\n",
            "Data Cleaning Section End\n",
            "\n",
            "Data Integration Section Start\n",
            "Data merged on 'store_id'. The combined DataFrame now has 10 columns.\n",
            "Store location capitalization standardized.\n",
            "Data Integration Section End\n",
            "\n",
            "Data Reduction Section Start\n",
            "Irrelevant columns removed: ['credit_card_number']\n",
            "Sales data aggregated from daily to weekly.\n",
            "Quasi-constant features removed: []\n",
            "Memory usage reduced by 15.62 KB\n",
            "Data Reduction Section End\n"
          ]
        }
      ]
    },
    {
      "cell_type": "code",
      "source": [],
      "metadata": {
        "id": "H_xRzCLs-FaV"
      },
      "execution_count": null,
      "outputs": []
    }
  ]
}