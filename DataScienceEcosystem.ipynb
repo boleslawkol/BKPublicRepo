{
 "cells": [
  {
   "cell_type": "markdown",
   "id": "5a84a924-bdf4-4694-ad54-82f95734616d",
   "metadata": {},
   "source": [
    "# Data Science Tools and Ecosystem"
   ]
  },
  {
   "cell_type": "markdown",
   "id": "e648f7ce-e430-499a-a21b-7a5bfc7d68b1",
   "metadata": {
    "tags": []
   },
   "source": [
    "**Objectives:**\n",
    "* Describe GitHub\n",
    "* Create a GitHub account\n",
    "* Add a project and repo"
   ]
  },
  {
   "cell_type": "markdown",
   "id": "cf299fff-e4a8-409d-9481-87dd2626098c",
   "metadata": {},
   "source": [
    "In this notebook, Data Science Tools and Ecosystem are summarized."
   ]
  },
  {
   "cell_type": "markdown",
   "id": "8c15653d-f1c6-4976-bc31-8ef0f9750eba",
   "metadata": {
    "tags": []
   },
   "source": [
    "Some of the popular languages that Data Scientists use are:\n",
    "1. Python\n",
    "2. R\n",
    "3. Julia"
   ]
  },
  {
   "cell_type": "markdown",
   "id": "4db346c9-80e2-48cb-9764-9898b879ff6a",
   "metadata": {},
   "source": [
    "Some of the commonly used libraries used by Data Scientists include:\n",
    "1. PyTorch\n",
    "2. Pandas\n",
    "3. TensorFlow"
   ]
  },
  {
   "cell_type": "markdown",
   "id": "52e677a2-0541-4beb-9490-b07e6aea9c81",
   "metadata": {},
   "source": [
    "|Data Science Tools|\n",
    "| --- |\n",
    "|Git|\n",
    "|Anaconda|\n",
    "|Visual Studio|"
   ]
  },
  {
   "cell_type": "markdown",
   "id": "bb77a3f4-5ac2-47a5-aee4-789419e31326",
   "metadata": {
    "tags": []
   },
   "source": [
    "### Below are a few examples of evaluating arithmetic expressions in Python"
   ]
  },
  {
   "cell_type": "code",
   "execution_count": 2,
   "id": "a4963d1a-4601-4eb1-a3ae-081354e23aa4",
   "metadata": {
    "tags": []
   },
   "outputs": [
    {
     "data": {
      "text/plain": [
       "17"
      ]
     },
     "execution_count": 2,
     "metadata": {},
     "output_type": "execute_result"
    }
   ],
   "source": [
    "# This a simple arithmetic expression to mutiply then add integers\n",
    "(3*4)+5"
   ]
  },
  {
   "cell_type": "code",
   "execution_count": 3,
   "id": "8f50085d-d0b7-4c2f-a9da-c3e177d8875f",
   "metadata": {
    "tags": []
   },
   "outputs": [
    {
     "data": {
      "text/plain": [
       "3.3333333333333335"
      ]
     },
     "execution_count": 3,
     "metadata": {},
     "output_type": "execute_result"
    }
   ],
   "source": [
    "# This will convert 200 minutes to hours by diving by 60\n",
    "200/60"
   ]
  },
  {
   "cell_type": "markdown",
   "id": "930edffc-4982-419e-b302-baabad281db5",
   "metadata": {},
   "source": [
    "## Author\n",
    "Boleslaw"
   ]
  },
  {
   "cell_type": "code",
   "execution_count": null,
   "id": "8e64f0e0-1354-4ec3-ad70-a557541a7559",
   "metadata": {},
   "outputs": [],
   "source": []
  }
 ],
 "metadata": {
  "kernelspec": {
   "display_name": "Python",
   "language": "python",
   "name": "conda-env-python-py"
  },
  "language_info": {
   "codemirror_mode": {
    "name": "ipython",
    "version": 3
   },
   "file_extension": ".py",
   "mimetype": "text/x-python",
   "name": "python",
   "nbconvert_exporter": "python",
   "pygments_lexer": "ipython3",
   "version": "3.7.12"
  }
 },
 "nbformat": 4,
 "nbformat_minor": 5
}
