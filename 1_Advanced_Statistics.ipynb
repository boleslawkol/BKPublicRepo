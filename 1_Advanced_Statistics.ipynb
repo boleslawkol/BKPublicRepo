{
  "cells": [
    {
      "cell_type": "markdown",
      "metadata": {
        "id": "view-in-github",
        "colab_type": "text"
      },
      "source": [
        "<a href=\"https://colab.research.google.com/github/boleslawkol/Purdue-Notebooks/blob/main/1_Advanced_Statistics.ipynb\" target=\"_parent\"><img src=\"https://colab.research.google.com/assets/colab-badge.svg\" alt=\"Open In Colab\"/></a>"
      ]
    },
    {
      "cell_type": "markdown",
      "id": "37a16fdd",
      "metadata": {
        "id": "37a16fdd"
      },
      "source": [
        "# <b>Advanced Statistics</b>"
      ]
    },
    {
      "cell_type": "markdown",
      "id": "8efc301d",
      "metadata": {
        "id": "8efc301d"
      },
      "source": [
        "## __Agenda__"
      ]
    },
    {
      "cell_type": "markdown",
      "id": "037e5b81",
      "metadata": {
        "id": "037e5b81"
      },
      "source": [
        "\n",
        "In this lesson, we will cover the following concepts with the help of examples:\n",
        "\n",
        "\n",
        "- Hypothesis Testing and Mechanism\n",
        "  * Introduction\n",
        "  * Hypothesis Components\n",
        "- Null and Alternative Hypothesis\n",
        "  * Hypothesis Testing\n",
        "  * Hypothesis Testing Outcomes: Type I and Type II Errors\n",
        "  * Steps Involved in Hypothesis Testing\n",
        "- Confidence Interval\n",
        "- Margin of Error\n",
        "- Confidence Levels\n",
        "- Z-Distribution (Standard Normal Distribution)\n",
        "- T-Distribution\n",
        "  * Plotting T and Z Distribution\n",
        "- T-Test\n",
        "- Z-Test\n",
        "- Choosing Between T-Test and Z-Test\n",
        "- P-Value\n",
        "  * Decision-Making Using P-Value\n",
        "- Chi-Square Distribution\n",
        "  * Chi-Square Test and Independence Test\n",
        "- Analysis of Variance or ANOVA\n",
        "  * How Does ANOVA Works?\n",
        "  * ANOVA Terminologies\n",
        "  * ANOVA Outcome\n",
        "  * Assumptions and Types of ANOVA\n",
        "  * Types of ANOVA\n",
        "- F-Distribution\n",
        "  * The Probability Density Function of F-Distribution\n",
        "  * Graph of F-Distribution’s PDF\n",
        "  * Description of F-Distribution\n",
        "- F-Test\n",
        "  * Comparing Two Variances\n",
        "  * Assumptions for F-Test\n",
        "  * Steps to Perform F-Test"
      ]
    },
    {
      "cell_type": "markdown",
      "id": "1de9882e",
      "metadata": {
        "id": "1de9882e"
      },
      "source": [
        "## __1. Hypothesis Testing and Mechanism__"
      ]
    },
    {
      "cell_type": "markdown",
      "id": "c1b75f09",
      "metadata": {
        "id": "c1b75f09"
      },
      "source": [
        "### __1.1 Introduction__"
      ]
    },
    {
      "cell_type": "markdown",
      "id": "2c4ad8b0",
      "metadata": {
        "id": "2c4ad8b0"
      },
      "source": [
        "It is a statement that proposes a possible explanation for an observed phenomenon or relationship, which can be tested through scientific investigation."
      ]
    },
    {
      "cell_type": "markdown",
      "id": "1b92f1a1",
      "metadata": {
        "id": "1b92f1a1"
      },
      "source": [
        "![involves.PNG](https://s3.us-east-1.amazonaws.com/static2.simplilearn.com/lms/testpaper_images/ADSP/Advanced_Statistics/involves.PNG)"
      ]
    },
    {
      "cell_type": "markdown",
      "id": "34702c48",
      "metadata": {
        "id": "34702c48"
      },
      "source": [
        "### __1.2 Hypothesis Components__"
      ]
    },
    {
      "cell_type": "markdown",
      "id": "a7807358",
      "metadata": {
        "id": "a7807358"
      },
      "source": [
        "A hypothesis has two components:\n",
        "    \n",
        "![Linear1hypothes.png](https://s3.us-east-1.amazonaws.com/static2.simplilearn.com/lms/testpaper_images/ADSP/Advanced_Statistics/Linear1hypothes.png)\n",
        "\n",
        "\n",
        "\n"
      ]
    },
    {
      "cell_type": "markdown",
      "id": "1b1a77c7",
      "metadata": {
        "id": "1b1a77c7"
      },
      "source": [
        "#### __Example:__"
      ]
    },
    {
      "cell_type": "markdown",
      "id": "9830f692",
      "metadata": {
        "id": "9830f692"
      },
      "source": [
        "If you do not clean the fish tank once every three days, the fish will probably not survive for more than three months.\n",
        "\n",
        "- __do not clean the fish tank once every three days__ is the independent variable.\n",
        "- __fish will probably not survive for more than three months__ is the dependent variable."
      ]
    },
    {
      "cell_type": "markdown",
      "id": "93625c0e",
      "metadata": {
        "id": "93625c0e"
      },
      "source": [
        "\n",
        "    \n",
        "\n",
        "\n",
        "\n",
        "A good hypothesis must:\n",
        "\n",
        "![3.PNG](https://s3.us-east-1.amazonaws.com/static2.simplilearn.com/lms/testpaper_images/ADSP/Advanced_Statistics/3.PNG)\n",
        "\n",
        "\n",
        "\n",
        "\n",
        "\n",
        "\n",
        "\n",
        "\n",
        "\n"
      ]
    },
    {
      "cell_type": "markdown",
      "id": "9a2058f7-e5a9-4449-8f40-a061e733f2f1",
      "metadata": {
        "id": "9a2058f7-e5a9-4449-8f40-a061e733f2f1"
      },
      "source": [
        "## __2. Null and Alternative Hypothesis__\n",
        "\n",
        "There are two types of hypotheses:\n",
        "\n",
        "1. Null hypothesis [$H_0$]\n",
        "2. Alternative hypothesis [$H_a$]\n"
      ]
    },
    {
      "cell_type": "markdown",
      "id": "1632173d-d83e-4c33-b8fb-e082b8ac58ca",
      "metadata": {
        "id": "1632173d-d83e-4c33-b8fb-e082b8ac58ca"
      },
      "source": [
        "### __Example 1__\n",
        "#### <b> Sales Promotion Drive</b>:\n",
        "\n",
        "Hypothesis: A sales promotion drive will increase the average monthly sales [µ] by 500 units.\n",
        "\n",
        "According to the hypothesis, the sales promotion drive will increase the average monthly sales (µ) by 500 units.\n",
        "\n",
        "According to the null hypothesis ($H_0$), the sales promotion drive has an insignificant impact on the average monthly sales.\n",
        "The historical average ($µ_0$ ) holds µ = $µ_0$.\n",
        "\n",
        "![nullhypotheses.PNG](https://s3.us-east-1.amazonaws.com/static2.simplilearn.com/lms/testpaper_images/ADSP/Advanced_Statistics/LinearRegression/nullhypotheses.PNG)\n",
        "\n",
        "According to the alternative hypothesis ($H_a$), the sales promotion drive has a significant impact on the average monthly\n",
        "sales. Thus, µ > µ0.\n",
        "\n",
        "![alternate.PNG](https://s3.us-east-1.amazonaws.com/static2.simplilearn.com/lms/testpaper_images/ADSP/Advanced_Statistics/LinearRegression/alternate.PNG)"
      ]
    },
    {
      "cell_type": "markdown",
      "id": "b707d1a4-9716-460f-9444-8d46ef0424b6",
      "metadata": {
        "id": "b707d1a4-9716-460f-9444-8d46ef0424b6"
      },
      "source": [
        "### __Example 2:__\n",
        "\n",
        "#### <b>Hourly Output of Two Machines</b>\n",
        "\n",
        "The null hypothesis is that the average hourly output of machine A (µ1) differs insignificantly from machine B (µ2).\n",
        "So, µ1 = µ2.\n",
        "\n",
        "![example2_part1.PNG](https://s3.us-east-1.amazonaws.com/static2.simplilearn.com/lms/testpaper_images/ADSP/Advanced_Statistics/LinearRegression/example2_part1.PNG)\n",
        "\n",
        "The alternative hypothesis is that the average hourly output of machine A (µ1) is significantly larger than that of\n",
        "machine B (µ2). So, µ1 > µ2.\n",
        "\n",
        "![example2_part2.PNG](https://s3.us-east-1.amazonaws.com/static2.simplilearn.com/lms/testpaper_images/ADSP/Advanced_Statistics/LinearRegression/example2_alternate.PNG)\n",
        "\n",
        "Generally, a null hypothesis is the negation of the assertion, while an alternative hypothesis is an assertion itself."
      ]
    },
    {
      "cell_type": "markdown",
      "id": "fbe0b7b3",
      "metadata": {
        "id": "fbe0b7b3"
      },
      "source": [
        "### __2.1 Hypothesis Testing__"
      ]
    },
    {
      "cell_type": "markdown",
      "id": "9b3ffc20",
      "metadata": {
        "id": "9b3ffc20"
      },
      "source": [
        "Hypothesis testing is a verification of the plausibility of a hypothesis using ‘sample data’. A sample data may come\n",
        "from a larger population of data or even from data-generating experimentation.\n",
        "\n",
        "A hypothesis test always involves four steps. These are:\n",
        "\n",
        "<b> 1. State the hypotheses:</b> A statement of the correctness of the two hypotheses (null or alternative)\n",
        "\n",
        "<b> 2. Set the criteria for a decision:</b> A plan that outlines how to evaluate data\n",
        "\n",
        "<b> 3. Compute sample statistics:</b> Execution of the plan to physically carry out the analysis\n",
        "\n",
        "<b> 4. Make a decision:</b> Analysis of the result that rejects the null hypothesis or states that the null hypothesis\n",
        "    is plausible"
      ]
    },
    {
      "cell_type": "markdown",
      "id": "1ae1eb3d",
      "metadata": {
        "id": "1ae1eb3d"
      },
      "source": [
        "### __2.2 Hypothesis Testing Outcomes: Type I and Type II Errors__\n"
      ]
    },
    {
      "cell_type": "markdown",
      "id": "084eb67d",
      "metadata": {
        "id": "084eb67d"
      },
      "source": [
        "There are four decisions and outcomes of hypothesis testing:\n",
        "\n",
        "![type12.PNG](https://s3.us-east-1.amazonaws.com/static2.simplilearn.com/lms/testpaper_images/ADSP/Advanced_Statistics/type12.PNG)\n",
        "\n",
        "\n",
        "1. $H_0$ (Null Hypothesis) is TRUE and it is rejected- **this is a Type I error**\n",
        "\n",
        "2. $H_0$ (Null Hypothesis) is TRUE and it is accepted- **correct decision**\n",
        "\n",
        "3. $H_0$ (Null Hypothesis) is FALSE and it is rejected- **correct decision**\n",
        "\n",
        "4. $H_0$ (Null Hypothesis) is FALSE and it is accepted- **this is a Type II error**\n",
        "\n",
        "\n",
        "- The probability of the occurrence of Type I errors is denoted by Alpha (α) and the probability of Type II errors is denoted\n",
        "by Beta (β).\n",
        "\n",
        "- It is indeed not possible to make both α and β zero at the same time when inferences are based on samples. However, reducing one typically increases the other, given a fixed sample size. They're usually not equal to one, and in fact, we often want both to be as small as possible.\n",
        "\n",
        "- Common choices for α include 0.05 or 0.01. To achieve a low β (and thus high power), researchers typically use large sample sizes, careful experimental design, and sometimes more sophisticated statistical techniques."
      ]
    },
    {
      "cell_type": "markdown",
      "id": "d9b6422f",
      "metadata": {
        "id": "d9b6422f"
      },
      "source": [
        "The selected value of Alpha is known as the level of significance.\n",
        "For example, when Alpha is equal to 0.05, the level of significance is 5%.\n",
        "\n",
        "![valueofalpha.PNG](https://s3.us-east-1.amazonaws.com/static2.simplilearn.com/lms/testpaper_images/ADSP/Advanced_Statistics/valueofalpha.PNG)\n",
        "\n",
        "This is a simple and effective way to estimate the outcomes of hypothesis testing."
      ]
    },
    {
      "cell_type": "markdown",
      "id": "05106410",
      "metadata": {
        "id": "05106410"
      },
      "source": [
        "### __2.3 Steps Involved in Hypothesis Testing__\n",
        "\n"
      ]
    },
    {
      "cell_type": "markdown",
      "id": "a7f479a1",
      "metadata": {
        "id": "a7f479a1"
      },
      "source": [
        "1. Create a null hypothesis and the alternative hypothesis\n",
        "\n",
        "2. Decide a level of significance, that is, alpha = 5% or 1%\n",
        "\n",
        "3. Choose the type of test you want to perform per the sample data (z-test, t-test, or chi-square)\n",
        "\n",
        "4. Calculate the test statistics (z-score, t-score) using the respective formula of test chosen\n",
        "\n",
        "5. Obtain the critical value in the sampling distribution to construct the rejection region of size alpha using z-table,\n",
        "   t-table, or chi table.\n",
        "\n",
        "6. Compare the test statistics with the critical value and locate the position of the calculated test statistics, that is, see if it is in rejection region or non-rejection region.\n",
        "\n",
        "7. *a.* If the critical value lies in the rejection region, we will reject the hypothesis, that is, sample data provides\n",
        "   sufficient evidence against the null hypothesis, and there is significant difference between hypothesized value\n",
        "   and observed value of the parameter.\n",
        "\n",
        "    *b.* If the critical value lies in the non- rejection region, we will not reject the hypothesis, that is, sample data\n",
        "    does not provide sufficient evidence against the null hypothesis, and the difference between hypothesized value and\n",
        "    observed value of the parameter is due to fluctuation of the sample.\n"
      ]
    },
    {
      "cell_type": "markdown",
      "id": "0a200f37",
      "metadata": {
        "id": "0a200f37"
      },
      "source": [
        "## __3. Confidence Interval__"
      ]
    },
    {
      "cell_type": "markdown",
      "id": "607dfaff",
      "metadata": {
        "id": "607dfaff"
      },
      "source": [
        "A Confidence Interval (CI) generally indicates the amount of uncertainty in any distribution. It is usually expressed\n",
        "as a number or a set or pair of numbers, and it can even be computed for a given distribution statistic.\n",
        "\n",
        "- CI is the probability that a particular population parameter will fall between a set of values for a certain period.\n",
        "\n",
        "- CIs can take any number of probability limits, the most common being 95%, and in some cases even 99%. When the behavior\n",
        "of a population is not known, then it is required to deduce the confidence intervals based on the sample data, using\n",
        "statistical methods like a T-Test.\n",
        "\n",
        "A confidence interval is essentially a range of values that bind the statistic's mean value, which could in turn contain\n",
        "an unknown population parameter.\n",
        "\n",
        "A typical confidence interval in a statistical distribution is as shown below:\n"
      ]
    },
    {
      "cell_type": "markdown",
      "id": "64ea5419",
      "metadata": {
        "id": "64ea5419"
      },
      "source": [
        "![CI.png](https://s3.us-east-1.amazonaws.com/static2.simplilearn.com/lms/testpaper_images/ADSP/Advanced_Statistics/CI.png)\n",
        "\n",
        "**An upper limit and a lower limit of CI are marked on either side of the distribution.**"
      ]
    },
    {
      "cell_type": "markdown",
      "id": "b69a5aad",
      "metadata": {
        "id": "b69a5aad"
      },
      "source": [
        "## __4. Margin of Error__"
      ]
    },
    {
      "cell_type": "markdown",
      "id": "cd628d5f",
      "metadata": {
        "id": "cd628d5f"
      },
      "source": [
        "\n",
        "The Margin of Error (MoE) indicates by  how many percentage points the results will differ from the real population value.\n",
        "\n",
        "<b>Consider the following statement:</b>\n",
        "\n",
        "A 95% confidence level with a 3% margin of error implies that the statistic distribution data is within 3% points\n",
        "of the real population value with 95% of the time.\n",
        "\n",
        "The MoE is thus an important part of the confidence interval, without which one can’t accept the inference from\n",
        "statistical analysis. The lower the margin of error, the better the acceptability of the population statistic.\n",
        "MoE is popularly used in pool and election surveys. A pool survey MoE must be scrutinized before accepting the\n",
        "confidence interval.\n"
      ]
    },
    {
      "cell_type": "markdown",
      "id": "e84a39f6",
      "metadata": {
        "id": "e84a39f6"
      },
      "source": [
        "<b>For Example:</b>"
      ]
    },
    {
      "cell_type": "markdown",
      "id": "7d16a0e9",
      "metadata": {
        "id": "7d16a0e9"
      },
      "source": [
        "Consider the Gallup poll survey conducted in the 2012 US Presidential elections. The survey indicated 49% voting in\n",
        "favor of Mitt Romney, and 47% in favor of Barack Obama, with 95% CI and +/- 2% MoE. However, Barack Obama polled 51%,\n",
        "while Mitt Romney got 47% in the actual election. The results were even outside the range of the Gallup poll’s\n",
        "MoE of +/-2%. This illustrates the need for statistics while taking CI, CL, and MoE into consideration."
      ]
    },
    {
      "cell_type": "markdown",
      "id": "23941b40",
      "metadata": {
        "id": "23941b40"
      },
      "source": [
        "## __5. Confidence Levels__"
      ]
    },
    {
      "cell_type": "markdown",
      "id": "d53c4e7d",
      "metadata": {
        "id": "d53c4e7d"
      },
      "source": [
        "A confidence level is the percentage of probability, or certainty, that the confidence interval would contain the\n",
        "true population parameter, when a random sample is drawn repeatedly.\n",
        "\n",
        "In statistics, confidence levels are expressed as a percentage (for example, as 99%, 95%, or 80% confidence level).\n",
        "However, for the purpose of supporting or disposing of the null hypothesis, scientists, and engineers usually work with\n",
        "a level of 95% or more. On the other hand, most governmental organizations and departments use 90% as the limit for\n",
        "confidence level.\n",
        "\n",
        "<b>A graphical representation of a confidence level of 95% is shown below: </b>\n"
      ]
    },
    {
      "cell_type": "markdown",
      "id": "b1723d03",
      "metadata": {
        "id": "b1723d03"
      },
      "source": [
        "![ConfidenceLevel.png](https://s3.us-east-1.amazonaws.com/static2.simplilearn.com/lms/testpaper_images/ADSP/Advanced_Statistics/ConfidenceLevel.png)"
      ]
    },
    {
      "cell_type": "markdown",
      "id": "b2eb8fcf",
      "metadata": {
        "id": "b2eb8fcf"
      },
      "source": [
        "A confidence level of 95% means when the experiment is repeated (or the poll survey conducted repeatedly), the survey\n",
        "results will match the results from a population 95% of the time. Confidence levels for different fields are different\n",
        "and are usually adopted in consultation with domain experts. This is done to ensure that the prediction from the\n",
        "statistic is reliable."
      ]
    },
    {
      "cell_type": "markdown",
      "id": "e523db3e-01be-4fdf-8453-ac7606dd419e",
      "metadata": {
        "id": "e523db3e-01be-4fdf-8453-ac7606dd419e"
      },
      "source": [
        "## __6. Z-Distribution (Standard Normal Distribution)__\n",
        "\n",
        "**Shape:** The Z-distribution has a bell-shaped curve, symmetric around the mean.\n",
        "\n",
        "**Characteristics:**\n",
        "\n",
        "- The mean, median, and mode of the distribution are all zero.\n",
        "- It has a standard deviation of one.\n",
        "- The total area under the curve is equal to 1.\n",
        "\n",
        "**Usage:**\n",
        "\n",
        "- It's used for hypothesis testing and confidence intervals when the sample size is large and the population standard deviation is known.\n",
        "- In standard normal distribution, any normal distribution can be transformed into it through standardization (using z-scores)."
      ]
    },
    {
      "cell_type": "code",
      "source": [
        "import numpy as np\n",
        "import matplotlib.pyplot as plt\n",
        "from scipy.stats import norm\n",
        "\n",
        "# Generate points on the x axis\n",
        "x = np.linspace(-4, 4, 1000)\n",
        "# Plot the standard normal distribution\n",
        "plt.plot(x, norm.pdf(x, 0, 1))\n",
        "plt.title('Standard Normal (Z) Distribution')\n",
        "plt.xlabel('Z-value')\n",
        "plt.ylabel('Probability Density')\n",
        "plt.show()\n"
      ],
      "metadata": {
        "colab": {
          "base_uri": "https://localhost:8080/",
          "height": 472
        },
        "id": "Lpz_gcF7QrHs",
        "outputId": "402ca331-44cf-4860-8e3a-2f66212df38f"
      },
      "id": "Lpz_gcF7QrHs",
      "execution_count": null,
      "outputs": [
        {
          "output_type": "display_data",
          "data": {
            "text/plain": [
              "<Figure size 640x480 with 1 Axes>"
            ],
            "image/png": "[encoded data removed]"
          },
          "metadata": {}
        }
      ]
    },
    {
      "cell_type": "markdown",
      "id": "c7e960d7-fbd8-4b4f-837f-46e1d3736e81",
      "metadata": {
        "id": "c7e960d7-fbd8-4b4f-837f-46e1d3736e81"
      },
      "source": [
        "## __7. T-Distribution__\n",
        "\n",
        "**Shape:** The T-distribution is similar to the Z-distribution, but it has heavier tails. This means it is more prone to producing values that fall far from its mean.\n",
        "\n",
        "**Characteristics:**\n",
        "\n",
        "- It's symmetric and bell-shaped, like the Z-distribution, but its exact shape depends on the degrees of freedom (df).\n",
        "- The mean of the T-distribution is zero, and its variance is slightly greater than 1 (and varies depending on the degrees of freedom).\n",
        "- As the degrees of freedom increase, the T-distribution approaches the Z-distribution.\n",
        "\n",
        "**Usage:**\n",
        "\n",
        "The T-distribution is used when the sample size is small and the population standard deviation is unknown.\n",
        "It's particularly useful for estimating the mean of a normally distributed population in situations where the sample size is small."
      ]
    },
    {
      "cell_type": "code",
      "source": [
        "from scipy.stats import t\n",
        "\n",
        "# Generate points on the x axis\n",
        "x = np.linspace(-4, 4, 1000)\n",
        "# Plot the t-distribution\n",
        "plt.plot(x, t.pdf(x, df=5))\n",
        "plt.title('T Distribution')\n",
        "plt.xlabel('T-value')\n",
        "plt.ylabel('Probability Density')\n",
        "plt.show()\n"
      ],
      "metadata": {
        "colab": {
          "base_uri": "https://localhost:8080/",
          "height": 472
        },
        "id": "cUBIUnKUSb2A",
        "outputId": "5740f877-1c05-4c39-d730-74fc83fd0ad0"
      },
      "id": "cUBIUnKUSb2A",
      "execution_count": null,
      "outputs": [
        {
          "output_type": "display_data",
          "data": {
            "text/plain": [
              "<Figure size 640x480 with 1 Axes>"
            ],
            "image/png": "[encoded data removed]"
          },
          "metadata": {}
        }
      ]
    },
    {
      "cell_type": "markdown",
      "id": "ec8834ce-2c32-48f1-9e13-d6b7aefe82e8",
      "metadata": {
        "id": "ec8834ce-2c32-48f1-9e13-d6b7aefe82e8"
      },
      "source": [
        "### __7.1 Plotting T -and Z-Distribution__"
      ]
    },
    {
      "cell_type": "markdown",
      "id": "b0b9ec4d-39d3-44aa-b710-1ecb79e9eafa",
      "metadata": {
        "id": "b0b9ec4d-39d3-44aa-b710-1ecb79e9eafa"
      },
      "source": [
        "The plot above illustrates the differences between the Z-distribution (standard normal distribution) and the T-distributions with different degrees of freedom:\n",
        "\n",
        "![image.png](attachment:50a81277-29ef-46ae-9354-9b86ddf825a9.png)\n",
        "\n",
        "- **Z-Distribution:** Represented by the solid line, this standard normal distribution is symmetric and bell-shaped, centering around zero with a standard deviation of one.\n",
        "\n",
        "- **T-Distribution (df=5):** The dashed line represents the T-distribution with 5 degrees of freedom. It's also symmetric and bell-shaped but has thicker tails compared to the Z-distribution. This indicates a higher likelihood of values far from the mean.\n",
        "\n",
        "- **T-Distribution (df=30):** The dotted line represents the T-distribution with 30 degrees of freedom. While it still has slightly thicker tails than the Z-distribution, it's much closer to the Z-distribution's shape than the T-distribution with fewer degrees of freedom.\n"
      ]
    },
    {
      "cell_type": "markdown",
      "id": "776805da",
      "metadata": {
        "id": "776805da"
      },
      "source": [
        "## __8. T-Test__"
      ]
    },
    {
      "cell_type": "markdown",
      "id": "e53684b6",
      "metadata": {
        "id": "e53684b6"
      },
      "source": [
        "\n",
        "\n",
        "A T-test is a statistical hypothesis testing tool that is primarily utilized when the population variance is unknown and the sample size is relatively small (n < 30). There are two main types of T-tests: one-sample and two-sample T-tests.\n",
        "\n",
        "<b>For a one-sample T-test </b>\n",
        "\n",
        "The one-sample T-test is used to compare the mean of a sample with a known population mean. This test employs the standard deviation of the sample instead of the population standard deviation due to the unknown population variance. The formula for a one-sample T-test is as follows:\n"
      ]
    },
    {
      "cell_type": "markdown",
      "id": "89b70e57",
      "metadata": {
        "id": "89b70e57"
      },
      "source": [
        "![Ttest.png](https://s3.us-east-1.amazonaws.com/static2.simplilearn.com/lms/testpaper_images/ADSP/Advanced_Statistics/Ttest.png)"
      ]
    },
    {
      "cell_type": "code",
      "source": [
        "from scipy.stats import ttest_1samp\n",
        "import numpy as np\n",
        "\n",
        "# Sample data: Heights of students\n",
        "sample_heights = np.array([168, 172, 171, 169, 173, 170, 174])\n",
        "\n",
        "# National average height\n",
        "national_avg_height = 170\n",
        "\n",
        "# Perform the one-sample t-test\n",
        "t_stat, p_value = ttest_1samp(sample_heights, national_avg_height)\n",
        "\n",
        "print(f\"T-statistic: {t_stat}, P-value: {p_value}\")\n"
      ],
      "metadata": {
        "colab": {
          "base_uri": "https://localhost:8080/"
        },
        "id": "ugW9Yi1jTyp1",
        "outputId": "7a23d271-ba6b-46fe-e74f-dc77888b95b4"
      },
      "id": "ugW9Yi1jTyp1",
      "execution_count": null,
      "outputs": [
        {
          "output_type": "stream",
          "name": "stdout",
          "text": [
            "T-statistic: 1.224744871391589, P-value: 0.266569703380069\n"
          ]
        }
      ]
    },
    {
      "cell_type": "markdown",
      "id": "0cad6372",
      "metadata": {
        "id": "0cad6372"
      },
      "source": [
        "\n",
        "Where x̄ is the sample mean, s is the standard deviation of the sample, μ is the mean of the population, and n is\n",
        "the sample size.\n",
        "\n",
        "<b>For a two-sample T-test:</b>\n",
        "\n",
        "The two-sample T-test, on the other hand, is conducted to compare the means of two different samples to determine whether the differences between these two means are statistically significant. The formula for a two-sample T-test is:"
      ]
    },
    {
      "cell_type": "markdown",
      "id": "3764ee18",
      "metadata": {
        "id": "3764ee18"
      },
      "source": [
        "![ttest2sample.png](https://s3.us-east-1.amazonaws.com/static2.simplilearn.com/lms/testpaper_images/ADSP/Advanced_Statistics/ttest2sample.png)\n",
        "\n"
      ]
    },
    {
      "cell_type": "markdown",
      "id": "8d169b3c-88c3-44d9-b9c9-2616cc5c45d1",
      "metadata": {
        "id": "8d169b3c-88c3-44d9-b9c9-2616cc5c45d1"
      },
      "source": [
        "__For a paired sample t-test:__"
      ]
    },
    {
      "cell_type": "markdown",
      "id": "cfaabe38-0388-4898-ae6c-971b911aa67a",
      "metadata": {
        "id": "cfaabe38-0388-4898-ae6c-971b911aa67a"
      },
      "source": [
        "The paired sample T-test, also known as the dependent sample T-test, is used to compare the means of two related groups to determine if there is a statistically significant difference between these means. It is typically used when the same subjects are used for each treatment (for example, before and after a treatment in a medical study). The assumption is that the paired differences are approximately normally distributed. The formula for a paired sample T-test is:\n",
        "\n",
        "![image.png](attachment:58bf57fd-eabe-4188-9a8d-fb85f3bffdb1.png)\n",
        "\n",
        "\n",
        "Where,\n",
        "\n",
        "$ \\bar{D} $ is the mean of the differences between the paired observations\n",
        "\n",
        "$𝑠_𝐷$ is the standard deviation of these differences\n",
        "\n",
        "n is the number of pairs\n",
        "\n",
        "The paired sample T-test is particularly useful for 'before and after' studies.This test accounts for the fact that the two groups are related and not independent of each other."
      ]
    },
    {
      "cell_type": "code",
      "source": [
        "from scipy.stats import ttest_ind\n",
        "\n",
        "# Sample data: Heights of two groups of students\n",
        "group1_heights = np.array([168, 172, 171, 169, 173])\n",
        "group2_heights = np.array([162, 165, 167, 163, 164])\n",
        "\n",
        "# Perform the two-sample t-test\n",
        "t_stat, p_value = ttest_ind(group1_heights, group2_heights)\n",
        "\n",
        "print(f\"T-statistic: {t_stat}, P-value: {p_value}\")\n"
      ],
      "metadata": {
        "colab": {
          "base_uri": "https://localhost:8080/"
        },
        "id": "WVTfGSizVqLI",
        "outputId": "ba37d5d3-3eda-451d-87f7-9974c81b5200"
      },
      "id": "WVTfGSizVqLI",
      "execution_count": null,
      "outputs": [
        {
          "output_type": "stream",
          "name": "stdout",
          "text": [
            "T-statistic: 5.0596442562694115, P-value: 0.000977480212391097\n"
          ]
        }
      ]
    },
    {
      "cell_type": "markdown",
      "id": "336ae43d-903a-4de8-b59c-9e557d2b191e",
      "metadata": {
        "id": "336ae43d-903a-4de8-b59c-9e557d2b191e"
      },
      "source": [
        "## __9. Z-Test__"
      ]
    },
    {
      "cell_type": "markdown",
      "id": "e0ee72a9-16c2-4d7b-9ab2-8c1f9e09e6a6",
      "metadata": {
        "id": "e0ee72a9-16c2-4d7b-9ab2-8c1f9e09e6a6"
      },
      "source": [
        "It is a statistical test used to determine whether two population means are different when the variances are known, and the sample size is large (n>30). There are two main types of Z-tests: one-sample and two-sample Z-tests.\n",
        "\n",
        "<b>For a one-sample Z-test </b>\n",
        "\n",
        "The one-sample Z-test is used to compare a population mean with the sample mean. The formula for a one-sample Z-test is as follows:\n",
        "![image.png](attachment:cd5e8985-bb43-411a-ade1-0cadad671fba.png)\n",
        "\n",
        "Where x̄ is the sample mean, σ is the standard deviation of the population, μ is the mean of the population, and n is the sample size."
      ]
    },
    {
      "cell_type": "markdown",
      "id": "63707990-1a1f-44ba-9d81-72b0d383c5be",
      "metadata": {
        "id": "63707990-1a1f-44ba-9d81-72b0d383c5be"
      },
      "source": [
        "**For a two-sample Z-test**\n",
        "\n",
        "The two-sample Z-test is used to compares the mean of two different samples. The formula for a two-sample Z-test is as follows:\n",
        "\n",
        "![image.png](attachment:2c683ffc-4d86-4eb5-a6f0-a0b63b5a1ed8.png)\n"
      ]
    },
    {
      "cell_type": "code",
      "source": [
        "# z-score\n",
        "\n",
        "from scipy.stats import zscore\n",
        "\n",
        "# Known population mean and standard deviation\n",
        "population_mean = 4\n",
        "population_std = 0.5\n",
        "\n",
        "# Sample data: Call durations\n",
        "sample_data = [3.8, 4.1, 4.0, 3.9, 4.2]  # large sample\n",
        "\n",
        "# Calculate the Z-score\n",
        "z_score = (np.mean(sample_data) - population_mean) / (population_std / np.sqrt(len(sample_data)))\n",
        "\n",
        "print(f\"Z-score: {z_score}\")\n"
      ],
      "metadata": {
        "colab": {
          "base_uri": "https://localhost:8080/"
        },
        "id": "sSjsuOZuWnsa",
        "outputId": "62e53232-373c-4d9c-b621-917051d5a26b"
      },
      "id": "sSjsuOZuWnsa",
      "execution_count": null,
      "outputs": [
        {
          "output_type": "stream",
          "name": "stdout",
          "text": [
            "Z-score: 0.0\n"
          ]
        }
      ]
    },
    {
      "cell_type": "code",
      "source": [
        "# one-sample z-test\n",
        "\n",
        "import numpy as np\n",
        "from scipy.stats import norm\n",
        "\n",
        "# Known population mean and standard deviation\n",
        "population_mean = 5  # e.g., 5GB for data usage\n",
        "population_std = 1\n",
        "\n",
        "# Sample data\n",
        "sample_data = np.random.normal(5.2, population_std, 1000)  # large sample with slightly different mean\n",
        "\n",
        "# Z-test calculation\n",
        "z_score = (np.mean(sample_data) - population_mean) / (population_std / np.sqrt(len(sample_data)))\n",
        "p_value = norm.sf(abs(z_score)) * 2  # two-tailed test\n",
        "\n",
        "print(f\"Z-score: {z_score}, P-value: {p_value}\")\n"
      ],
      "metadata": {
        "colab": {
          "base_uri": "https://localhost:8080/"
        },
        "id": "VAMsFRC3Yv77",
        "outputId": "57856593-2d43-47a0-8712-0e0b06c4b34b"
      },
      "id": "VAMsFRC3Yv77",
      "execution_count": null,
      "outputs": [
        {
          "output_type": "stream",
          "name": "stdout",
          "text": [
            "Z-score: 6.14246629731566, P-value: 8.124992100867372e-10\n"
          ]
        }
      ]
    },
    {
      "cell_type": "markdown",
      "id": "ed35e430-9f95-41f7-be44-61d7cdebfe6b",
      "metadata": {
        "id": "ed35e430-9f95-41f7-be44-61d7cdebfe6b"
      },
      "source": [
        "## __10. Choosing Between T-Test and Z-Test__\n",
        "\n",
        "\n",
        "__1. Sample Size__\n",
        "\n",
        "Z-test: Used when the sample size is large (usually, n ≥ 30). The larger the sample size, the more the sample mean's distribution will resemble a normal distribution due to the central limit theorem.\n",
        "\n",
        "T-test: Preferred for smaller sample sizes (n < 30). The T-test is more adaptable to small sample sizes since it accounts for the extra uncertainty introduced by estimating the population standard deviation.\n",
        "\n",
        "__2. Population Standard Deviation__\n",
        "\n",
        "Z-test: Requires that the population standard deviation is known. This is less common in real-world scenarios, as having the population standard deviation usually means having access to the entire population data.\n",
        "\n",
        "T-test: Used when the population standard deviation is unknown and is estimated using the sample standard deviation. The T-test adjusts for the fact that the sample standard deviation varies between samples.\n",
        "\n",
        "__3. Distribution of the Data__\n",
        "\n",
        "Z-test: Assumes that the data follows a normal distribution. This assumption is less of a concern with large sample sizes due to the central limit theorem.\n",
        "\n",
        "T-test: More suitable when you are unsure if the data is normally distributed, especially with smaller sample sizes."
      ]
    },
    {
      "cell_type": "markdown",
      "id": "e54be902",
      "metadata": {
        "id": "e54be902"
      },
      "source": [
        "## __11. P-Value__"
      ]
    },
    {
      "cell_type": "markdown",
      "id": "3369ae32",
      "metadata": {
        "id": "3369ae32"
      },
      "source": [
        "The p-value is a crucial component in statistical hypothesis testing. It is the smallest level of significance at which we can reject a null hypothesis. Since p-value offers more information than the critical value, it is generally recommended in many statistical tests.\n",
        "\n",
        "Definition and interpretation of the p-value is essentially a measure of the probability that the observed data would be at least as extreme as the current results, given that the null hypothesis is true.\n",
        "\n",
        "The application and interpretation of the p-value depend on the nature of the hypothesis test being conducted. Here's how it applies in different types of tests:\n",
        "\n",
        "**Right-Tailed Test:**\n",
        "\n",
        "In a right-tailed test, the right end (larger values) of the distribution. The p-value in this case is calculated as:\n",
        "\n",
        "P-Value = P[Test statistics >= observed value of the test statistic]\n",
        "\n",
        "**Left-Tailed Test:**\n",
        "\n",
        "In a left-tailed test, the left end (smaller values) of the distribution. The p-value is then calculated as:\n",
        "\n",
        "P-Value = P[Test statistics <= observed value of the test statistic]\n",
        "\n",
        "**Two-Tailed Test:**\n",
        "\n",
        "A two-tailed test is used in differences in either direction (larger or smaller). The p-value in a two-tailed test is calculated as:\n",
        "\n",
        "P-Value = 2 * P[Test statistics >= observed value of the test statistic]\n",
        "\n",
        "**Note:** Remember that a smaller p-value provides stronger evidence against the null hypothesis."
      ]
    },
    {
      "cell_type": "markdown",
      "id": "de230739",
      "metadata": {
        "id": "de230739"
      },
      "source": [
        "### __11.1 Decision-Making Using  P-Value__"
      ]
    },
    {
      "cell_type": "markdown",
      "id": "2682f847",
      "metadata": {
        "id": "2682f847"
      },
      "source": [
        "The p-value is compared to the significance level (alpha) for decision-making on null hypothesis"
      ]
    },
    {
      "cell_type": "markdown",
      "id": "03499e8f",
      "metadata": {
        "id": "03499e8f"
      },
      "source": [
        "1. If p-value is greater than alpha, we do not reject the null hypothesis.\n",
        "\n",
        "2. If p-value is smaller than alpha, we reject the null hypothesis."
      ]
    },
    {
      "cell_type": "markdown",
      "id": "bc3bbc05",
      "metadata": {
        "id": "bc3bbc05"
      },
      "source": [
        "### __One-Sample T-Test: Example__"
      ]
    },
    {
      "cell_type": "markdown",
      "id": "98e4f10e",
      "metadata": {
        "id": "98e4f10e"
      },
      "source": [
        "For a particular organization, the average age of the employees was claimed 30 years.\n",
        "The authorities collected a random sample of 10 employees' age data to check the claim made by the organization.\n",
        "Construct a hypothesis test to validate the hypothesis at a significance level of 0.05."
      ]
    },
    {
      "cell_type": "markdown",
      "id": "81881737",
      "metadata": {
        "id": "81881737"
      },
      "source": [
        "Ho = mean = 30\n",
        "\n",
        "Ha = mean $\\neq$ 30"
      ]
    },
    {
      "cell_type": "code",
      "execution_count": null,
      "id": "fee7c1d8",
      "metadata": {
        "id": "fee7c1d8",
        "outputId": "5e9f8f7f-7dd3-4813-da3a-283817e3d442"
      },
      "outputs": [
        {
          "name": "stdout",
          "output_type": "stream",
          "text": [
            "ages    43.75\n",
            "dtype: float64\n",
            "p-values [0.01012962]\n",
            " we are rejecting null hypothesis\n"
          ]
        },
        {
          "name": "stderr",
          "output_type": "stream",
          "text": [
            "/usr/local/lib/python3.10/site-packages/numpy/core/fromnumeric.py:3430: FutureWarning: In a future version, DataFrame.mean(axis=None) will return a scalar mean over the entire DataFrame. To retain the old behavior, use 'frame.mean(axis=0)' or just 'frame.mean()'\n",
            "  return mean(axis=axis, dtype=dtype, out=out, **kwargs)\n"
          ]
        }
      ],
      "source": [
        "# Import the Ages.csv dataset\n",
        "from scipy.stats import ttest_1samp\n",
        "import pandas as pd\n",
        "import numpy as np\n",
        "ages = pd.read_csv(\"Ages.csv\")\n",
        "ages_mean = np.mean(ages)\n",
        "print(ages_mean)\n",
        "tset, pval = ttest_1samp(ages, 30)\n",
        "print(\"p-values\",pval)\n",
        "if pval < 0.05:    # alpha value is 0.05 or 5%\n",
        "   print(\" we are rejecting null hypothesis\")\n",
        "else:\n",
        "  print(\"we are accepting null hypothesis\")"
      ]
    },
    {
      "cell_type": "markdown",
      "id": "7174c220",
      "metadata": {
        "id": "7174c220"
      },
      "source": [
        "### __Paired Sample T-Test: Example__"
      ]
    },
    {
      "cell_type": "markdown",
      "id": "d9864bbb",
      "metadata": {
        "id": "d9864bbb"
      },
      "source": [
        "For a particular hospital, it is advertised that a particular chemotherapy session does not affect the patient's health\n",
        "based on blood pressure.\n",
        "It is to be checked if the blood pressure before the treatment is equivalent to the blood pressure after the treatment.\n",
        "Perform a statistical test at aplha 0.05 level to help validate the claim."
      ]
    },
    {
      "cell_type": "markdown",
      "id": "abf601e9",
      "metadata": {
        "id": "abf601e9"
      },
      "source": [
        "$H_0$ = mean difference between two sample is 0\n",
        "\n",
        "$H_1$ = mean difference between two sample is not 0"
      ]
    },
    {
      "cell_type": "code",
      "execution_count": null,
      "id": "56cb59ed",
      "metadata": {
        "id": "56cb59ed",
        "outputId": "6845b456-fee8-4aca-bef8-215056b7efa2"
      },
      "outputs": [
        {
          "data": {
            "text/html": [
              "<div>\n",
              "<style scoped>\n",
              "    .dataframe tbody tr th:only-of-type {\n",
              "        vertical-align: middle;\n",
              "    }\n",
              "\n",
              "    .dataframe tbody tr th {\n",
              "        vertical-align: top;\n",
              "    }\n",
              "\n",
              "    .dataframe thead th {\n",
              "        text-align: right;\n",
              "    }\n",
              "</style>\n",
              "<table border=\"1\" class=\"dataframe\">\n",
              "  <thead>\n",
              "    <tr style=\"text-align: right;\">\n",
              "      <th></th>\n",
              "      <th>patient</th>\n",
              "      <th>sex</th>\n",
              "      <th>agegrp</th>\n",
              "      <th>bp_before</th>\n",
              "      <th>bp_after</th>\n",
              "    </tr>\n",
              "  </thead>\n",
              "  <tbody>\n",
              "    <tr>\n",
              "      <th>0</th>\n",
              "      <td>1</td>\n",
              "      <td>Male</td>\n",
              "      <td>30-45</td>\n",
              "      <td>143</td>\n",
              "      <td>153</td>\n",
              "    </tr>\n",
              "    <tr>\n",
              "      <th>1</th>\n",
              "      <td>2</td>\n",
              "      <td>Male</td>\n",
              "      <td>30-45</td>\n",
              "      <td>163</td>\n",
              "      <td>170</td>\n",
              "    </tr>\n",
              "    <tr>\n",
              "      <th>2</th>\n",
              "      <td>3</td>\n",
              "      <td>Male</td>\n",
              "      <td>30-45</td>\n",
              "      <td>153</td>\n",
              "      <td>168</td>\n",
              "    </tr>\n",
              "    <tr>\n",
              "      <th>3</th>\n",
              "      <td>4</td>\n",
              "      <td>Male</td>\n",
              "      <td>30-45</td>\n",
              "      <td>153</td>\n",
              "      <td>142</td>\n",
              "    </tr>\n",
              "    <tr>\n",
              "      <th>4</th>\n",
              "      <td>5</td>\n",
              "      <td>Male</td>\n",
              "      <td>30-45</td>\n",
              "      <td>146</td>\n",
              "      <td>141</td>\n",
              "    </tr>\n",
              "  </tbody>\n",
              "</table>\n",
              "</div>"
            ],
            "text/plain": [
              "   patient   sex agegrp  bp_before  bp_after\n",
              "0        1  Male  30-45        143       153\n",
              "1        2  Male  30-45        163       170\n",
              "2        3  Male  30-45        153       168\n",
              "3        4  Male  30-45        153       142\n",
              "4        5  Male  30-45        146       141"
            ]
          },
          "execution_count": 2,
          "metadata": {},
          "output_type": "execute_result"
        }
      ],
      "source": [
        "import pandas as pd\n",
        "from scipy import stats\n",
        "df = pd.read_csv(\"blood_pressure.csv\")\n",
        "df.head()"
      ]
    },
    {
      "cell_type": "code",
      "execution_count": null,
      "id": "2812b657",
      "metadata": {
        "id": "2812b657",
        "outputId": "ee80a929-17df-4c9e-8ee9-00311ebcd00d"
      },
      "outputs": [
        {
          "name": "stdout",
          "output_type": "stream",
          "text": [
            "0.0011297914644840823\n",
            "reject null hypothesis\n"
          ]
        }
      ],
      "source": [
        "df[['bp_before','bp_after']].describe()\n",
        "ttest,pval = stats.ttest_rel(df['bp_before'], df['bp_after'])\n",
        "print(pval)\n",
        "if pval<0.05:\n",
        "    print(\"reject null hypothesis\")\n",
        "else:\n",
        "    print(\"accept null hypothesis\")"
      ]
    },
    {
      "cell_type": "markdown",
      "id": "27acfdd7-f40d-4cbc-9cbf-4088988520f7",
      "metadata": {
        "id": "27acfdd7-f40d-4cbc-9cbf-4088988520f7"
      },
      "source": [
        "### __Two-Sample T-Test: Example__"
      ]
    },
    {
      "cell_type": "markdown",
      "id": "5e808b97-8dca-47fe-8f9b-5a628952d6f3",
      "metadata": {
        "id": "5e808b97-8dca-47fe-8f9b-5a628952d6f3"
      },
      "source": [
        "Employee satisfaction is a crucial factor that can influence the productivity and success of a company. The Human Resources department wants to assess whether the satisfaction levels are consistent across different departments. For this analysis, we will focus on two key departments: Sales and Marketing\n",
        "\n",
        "**Objective:** To determine if there is a statistically significant difference in the average employee satisfaction scores between the sales and marketing departments."
      ]
    },
    {
      "cell_type": "markdown",
      "id": "2833468d-4c19-41c3-a7be-13c8c1c759d5",
      "metadata": {
        "id": "2833468d-4c19-41c3-a7be-13c8c1c759d5"
      },
      "source": [
        "Null Hypothesis ($H_0$): There is no significant difference in the average satisfaction scores between employees in the Sales department and those in the Marketing department. (Mean_Sales = Mean_Marketing)\n",
        "\n",
        "Alternative Hypothesis ($H_1$): There is a significant difference in the average satisfaction scores between employees in the Sales department and those in the Marketing department. (Mean_Sales ≠ Mean_Marketing)"
      ]
    },
    {
      "cell_type": "code",
      "execution_count": null,
      "id": "40dd6fb3-0626-4f22-88ac-331730bebcee",
      "metadata": {
        "id": "40dd6fb3-0626-4f22-88ac-331730bebcee",
        "outputId": "0407f762-723d-4e09-d5ae-1590823134c8"
      },
      "outputs": [
        {
          "name": "stdout",
          "output_type": "stream",
          "text": [
            "P-value: 0.9000441794923967\n",
            "Fail to reject the null hypothesis - no significant difference in satisfaction scores between departments\n"
          ]
        }
      ],
      "source": [
        "import pandas as pd\n",
        "from scipy import stats\n",
        "\n",
        "# Load the dataset\n",
        "data = pd.read_csv('employee_satisfaction.csv')\n",
        "\n",
        "# Separate the satisfaction scores for each department\n",
        "sales_scores = data[data['Department'] == 'Sales']['Satisfaction_Score']\n",
        "marketing_scores = data[data['Department'] == 'Marketing']['Satisfaction_Score']\n",
        "\n",
        "# Perform the independent two-sample t-test\n",
        "t_stat, p_val = stats.ttest_ind(sales_scores, marketing_scores, equal_var=False)\n",
        "print(f\"P-value: {p_val}\")\n",
        "\n",
        "# Interpretation\n",
        "alpha = 0.05\n",
        "if p_val < alpha:\n",
        "    print(\"Reject the null hypothesis - there is a significant difference in satisfaction scores between departments\")\n",
        "else:\n",
        "    print(\"Fail to reject the null hypothesis - no significant difference in satisfaction scores between departments\")"
      ]
    },
    {
      "cell_type": "markdown",
      "id": "4dccfe51",
      "metadata": {
        "id": "4dccfe51"
      },
      "source": [
        "### __Z-Test Example:__"
      ]
    },
    {
      "cell_type": "markdown",
      "id": "30c2c5cd",
      "metadata": {
        "id": "30c2c5cd"
      },
      "source": [
        "A school principal claims that the students in their school are more intelligent than those of other schools. A random sample of 50 students' IQ scores has a mean score of 110. The mean population IQ is 100 with a standard deviation of 15. State whether the claim of the principal is right or not at a 5% significance level."
      ]
    },
    {
      "cell_type": "markdown",
      "id": "5b910a85",
      "metadata": {
        "id": "5b910a85"
      },
      "source": [
        "$H_0$ = average population IQ score is 100\n",
        "\n",
        "$H_a$ = average population IQ score is above 100"
      ]
    },
    {
      "cell_type": "code",
      "execution_count": null,
      "id": "e079eb91",
      "metadata": {
        "id": "e079eb91",
        "outputId": "b9f1688e-2b93-4848-be91-3daa440279bf"
      },
      "outputs": [
        {
          "name": "stdout",
          "output_type": "stream",
          "text": [
            "mean=109.57 stdv=1.82\n",
            "Reject Null Hypothesis\n"
          ]
        }
      ],
      "source": [
        "# import the libraries\n",
        "import math\n",
        "import numpy as np\n",
        "from numpy.random import randn\n",
        "from statsmodels.stats.weightstats import ztest\n",
        "\n",
        "# Generate a random array of 50 numbers having mean 110 and standard deviation of 15\n",
        "# similar to the IQ scores data\n",
        "mean_iq = 110\n",
        "sd_iq = 15/math.sqrt(50)\n",
        "alpha =0.05\n",
        "null_mean =100\n",
        "data = sd_iq*randn(50)+mean_iq\n",
        "# Print mean and SD\n",
        "print('mean=%.2f stdv=%.2f' % (np.mean(data), np.std(data)))\n",
        "\n",
        "# Now we perform the test, and in this function, we passed data in the value parameter\n",
        "# We passed mean value in the null hypothesis and will check if the mean is larger in the\n",
        "# alternative hypothesis\n",
        "\n",
        "ztest_Score, p_value= ztest(data,value = null_mean, alternative='larger')\n",
        "# The function outputs a p_value and z-score corresponding to that value, we compare the\n",
        "# p-value with alpha, and if it is greater than alpha, then we do accept the null hypothesis else we reject it.\n",
        "\n",
        "alpha = 0.05\n",
        "if(p_value < alpha):\n",
        "    print(\"Reject Null Hypothesis\")\n",
        "else:\n",
        "    print(\"Fail to Reject NUll Hypothesis\")\n"
      ]
    },
    {
      "cell_type": "markdown",
      "id": "1a206bee",
      "metadata": {
        "id": "1a206bee"
      },
      "source": [
        "## __12. Chi-Square Distribution__"
      ]
    },
    {
      "cell_type": "markdown",
      "id": "c5005901",
      "metadata": {
        "id": "c5005901"
      },
      "source": [
        "A chi-square distribution, pronounced ‘khai squared’, is a continuous probability distribution widely used in statistical\n",
        "inference. The Greek letter χ is often used, and χ2 is termed as chi-square.\n",
        "\n",
        "The χ2 distribution and the standard normal distribution are related. If a random variable Z has a standard normal\n",
        "distribution, then Z2 has the χ2 distribution with one degree of freedom.\n",
        "\n",
        "\n",
        "\n"
      ]
    },
    {
      "cell_type": "markdown",
      "id": "df7855bb",
      "metadata": {
        "id": "df7855bb"
      },
      "source": [
        "![Normal_chi.png](https://s3.us-east-1.amazonaws.com/static2.simplilearn.com/lms/testpaper_images/ADSP/Advanced_Statistics/Normal_chi.png)"
      ]
    },
    {
      "cell_type": "markdown",
      "id": "c4e5f7cc",
      "metadata": {
        "id": "c4e5f7cc"
      },
      "source": [
        "Multiple standard random variables are possible. Mathematically, for k variables,\n",
        "\n",
        "$Z_1^2 + Z_2^2$ has 2 degrees of freedom.\n",
        "\n",
        "$Z_1^2 + Z_2^2 + Z_3^2 + Z_4^2 + Z_5^2 + Z_6^2$ has 6 degrees of freedom.\n",
        "\n",
        "$Z_1^2 + Z_2^2 + Z_3^2 + Z_4^2 + Z_5^2 + Z_6^2 + \\ldots + Z_k^2$; has a $\\chi^2$ distribution of k degrees of freedom.\n",
        "\n",
        "\n",
        "The equation for the probability density function (PDF) of the χ2 distribution with k degrees of freedom is:\n"
      ]
    },
    {
      "cell_type": "markdown",
      "id": "73842b55",
      "metadata": {
        "id": "73842b55"
      },
      "source": [
        "![dof.png](https://s3.us-east-1.amazonaws.com/static2.simplilearn.com/lms/testpaper_images/ADSP/Advanced_Statistics/dof.png)"
      ]
    },
    {
      "cell_type": "markdown",
      "id": "0bf6418f",
      "metadata": {
        "id": "0bf6418f"
      },
      "source": [
        "The function is valid for all positive values of x, and k is the number of degrees of freedom. As the PDF has the gamma\n",
        "function Γ, the χ2 distribution of k degrees of freedom is also a gamma function.\n",
        "\n",
        "The χ2 distribution of k degrees of freedom is:\n",
        "\n"
      ]
    },
    {
      "cell_type": "markdown",
      "id": "41b7386f",
      "metadata": {
        "id": "41b7386f"
      },
      "source": [
        "![dof_new.png](https://s3.us-east-1.amazonaws.com/static2.simplilearn.com/lms/testpaper_images/ADSP/Advanced_Statistics/dof_new.png)"
      ]
    },
    {
      "cell_type": "markdown",
      "id": "d9411ae1",
      "metadata": {
        "id": "d9411ae1"
      },
      "source": [
        "With increasing degrees of freedom, the shape of the χ2 distribution varies. For k = 1, the PDF is infinity, when χ2 = 0.\n",
        "For k = 2, PDF is 0.5 for χ2 = 0. For higher values of k (3 or more), the χ2 distribution changes to a positively skewed\n",
        "standard normal distribution, and with higher degrees of freedom, the skewness and the kurtosis of the χ2 distribution\n",
        "changes, with the distribution becoming increasingly symmetric.\n",
        "\n",
        "**Note:** In any χ2 distribution, the mean (μ) is k, the number of degrees of freedom, and the variance is 2k.\n",
        "    \n",
        "<b>For example, for k = 3 in the diagram, μ = 3, while the variance is 2 x k, or 6. </b>"
      ]
    },
    {
      "cell_type": "markdown",
      "id": "ff7fe0f0",
      "metadata": {
        "id": "ff7fe0f0"
      },
      "source": [
        "### __Chi-Square Distribution Using Python__"
      ]
    },
    {
      "cell_type": "code",
      "execution_count": null,
      "id": "da3f62e7",
      "metadata": {
        "id": "da3f62e7",
        "outputId": "10360eb1-1ba1-4061-e78d-1c9d7e77bfa9"
      },
      "outputs": [
        {
          "name": "stdout",
          "output_type": "stream",
          "text": [
            "[1.70642909 0.01136986 0.14873816 0.41916299 1.70622159 0.76891321\n",
            " 0.06302306 2.05480067 0.06679361 0.02150408]\n"
          ]
        }
      ],
      "source": [
        "# Create chi-square distribution of varying degrees of freedom\n",
        "data1 = np.random.chisquare(df = 1,size = 1000)\n",
        "data2 = np.random.chisquare(df = 2,size = 1000)\n",
        "data3 = np.random.chisquare(df = 3,size = 1000)\n",
        "print(data1[:10])"
      ]
    },
    {
      "cell_type": "code",
      "execution_count": null,
      "id": "2bfcfd96",
      "metadata": {
        "id": "2bfcfd96",
        "outputId": "c722f064-d817-443c-c972-b367a1a8c2cc"
      },
      "outputs": [
        {
          "data": {
            "image/png": "[encoded data removed]",
            "text/plain": [
              "<Figure size 432x288 with 1 Axes>"
            ]
          },
          "metadata": {
            "needs_background": "light"
          },
          "output_type": "display_data"
        }
      ],
      "source": [
        "import matplotlib.pyplot as plt\n",
        "import seaborn as sns\n",
        "# Set the style of seaborn\n",
        "sns.set_style('whitegrid')\n",
        "\n",
        "# Plot the distributions using kdeplot\n",
        "sns.kdeplot(data1, label='dof 1')\n",
        "sns.kdeplot(data2, label='dof 2')\n",
        "sns.kdeplot(data3, label='dof 3')\n",
        "\n",
        "# Show the legend\n",
        "plt.legend()\n",
        "\n",
        "# Show the plot\n",
        "plt.show()"
      ]
    },
    {
      "cell_type": "code",
      "execution_count": null,
      "id": "f8561fbd",
      "metadata": {
        "id": "f8561fbd"
      },
      "outputs": [],
      "source": [
        "from scipy.stats import chi2_contingency"
      ]
    },
    {
      "cell_type": "code",
      "execution_count": null,
      "id": "d6ab89c4",
      "metadata": {
        "id": "d6ab89c4"
      },
      "outputs": [],
      "source": [
        "data = [[10,20,30],[6,9,17]]"
      ]
    },
    {
      "cell_type": "code",
      "execution_count": null,
      "id": "31c72bce",
      "metadata": {
        "id": "31c72bce"
      },
      "outputs": [],
      "source": [
        "stat, p_value, dof, chi_array = chi2_contingency(data)"
      ]
    },
    {
      "cell_type": "code",
      "execution_count": null,
      "id": "95451af1",
      "metadata": {
        "id": "95451af1",
        "outputId": "469236ec-b3f0-47e9-a23e-7fdb8299f600"
      },
      "outputs": [
        {
          "data": {
            "text/plain": [
              "0.873028283380073"
            ]
          },
          "execution_count": 11,
          "metadata": {},
          "output_type": "execute_result"
        }
      ],
      "source": [
        "p_value"
      ]
    },
    {
      "cell_type": "markdown",
      "id": "6c823ff7",
      "metadata": {
        "id": "6c823ff7"
      },
      "source": [
        "p-value > 0.05, reject null hypothesis as there is relationship between the two groups."
      ]
    },
    {
      "cell_type": "code",
      "execution_count": null,
      "id": "c583feca",
      "metadata": {
        "id": "c583feca"
      },
      "outputs": [],
      "source": [
        "data = [[10,20,30],[9,1,8]]"
      ]
    },
    {
      "cell_type": "code",
      "execution_count": null,
      "id": "662724e4",
      "metadata": {
        "id": "662724e4"
      },
      "outputs": [],
      "source": [
        "stat, p_value, dof, chi_array = chi2_contingency(data)"
      ]
    },
    {
      "cell_type": "code",
      "execution_count": null,
      "id": "5262a8e2",
      "metadata": {
        "id": "5262a8e2",
        "outputId": "b901ee31-3a19-4f00-d9dc-9772f6980c9b"
      },
      "outputs": [
        {
          "data": {
            "text/plain": [
              "0.005595003173072842"
            ]
          },
          "execution_count": 14,
          "metadata": {},
          "output_type": "execute_result"
        }
      ],
      "source": [
        "p_value"
      ]
    },
    {
      "cell_type": "markdown",
      "id": "86618f81",
      "metadata": {
        "id": "86618f81"
      },
      "source": [
        "### __12.1 Chi-Square Test and Independence Test__"
      ]
    },
    {
      "cell_type": "markdown",
      "id": "affb857c",
      "metadata": {
        "id": "affb857c"
      },
      "source": [
        "Statistical methods are often employed to understand the patterns and relationships in data. One such method is the chi-square test, which is used in two different but related scenarios - as a goodness-of-fit test and as a test for independence.\n"
      ]
    },
    {
      "cell_type": "markdown",
      "id": "4c02933f",
      "metadata": {
        "id": "4c02933f"
      },
      "source": [
        "<b>Chi-Square Test as a Test for Independence</b>\n",
        "A chi-square test for independence is used to determine whether there's a significant association between two categorical variables in a sample. It's non-parametric, meaning it does not assume any specific distribution for the variables involved.\n",
        "\n"
      ]
    },
    {
      "cell_type": "markdown",
      "id": "33ad7ec4",
      "metadata": {
        "id": "33ad7ec4"
      },
      "source": [
        "### __Steps for Chi-Square Test__"
      ]
    },
    {
      "cell_type": "markdown",
      "id": "85617fdb",
      "metadata": {
        "id": "85617fdb"
      },
      "source": [
        "1. Define the Null and Alternative hypotheses based on the data. $H_0$ implies that the data met the expected distribution,\n",
        "   while $H_1$ implies that it did not\n",
        "    \n",
        "2. State the alpha value as mentioned earlier, we usually work with a value of 0.05\n",
        "\n",
        "3. Calculate the degrees of freedom, k. It depends on the number of categories or groups, and is usually K – 1, where\n",
        "   K is the number of frequencies\n",
        "    \n",
        "4. State the decision rule. Calculate the ‘decision value’ based on the alpha value and degrees of freedom. Based on this\n",
        "   value, either reject $H_0$ or reject $H_1$\n",
        "\n",
        "5. Calculate the test statistic for χ2 using the formula:\n"
      ]
    },
    {
      "cell_type": "markdown",
      "id": "dacd357f",
      "metadata": {
        "id": "dacd357f"
      },
      "source": [
        "![Chi_test+formula.png](https://s3.us-east-1.amazonaws.com/static2.simplilearn.com/lms/testpaper_images/ADSP/Advanced_Statistics/Chi_test%2Bformula.png)"
      ]
    },
    {
      "cell_type": "markdown",
      "id": "6eecc2ad",
      "metadata": {
        "id": "6eecc2ad"
      },
      "source": [
        "   - Here, O is the observed value and E is the expected value from the sample. K is the degree of freedom.\n",
        "\n",
        "6. Finally, compare the decision value computed in step 4 with that of step 5 to either accept or reject the null hypothesis\n",
        "\n",
        "7. Based on step 6, conclude the domain observation\n"
      ]
    },
    {
      "cell_type": "markdown",
      "id": "bd6a1bea",
      "metadata": {
        "id": "bd6a1bea"
      },
      "source": [
        "### __Example:__"
      ]
    },
    {
      "cell_type": "markdown",
      "id": "983d7c84",
      "metadata": {
        "id": "983d7c84"
      },
      "source": [
        "In a study about the election survey, voters might be classified by gender (male or female) and voting preference\n",
        "(democrat, republican, or independent).\n",
        "\n",
        "Using alpha = 0.05, perform a chi-square test for independence to determine whether gender is related to voting\n",
        "preference."
      ]
    },
    {
      "cell_type": "code",
      "execution_count": null,
      "id": "ac4ff3f9",
      "metadata": {
        "id": "ac4ff3f9",
        "outputId": "dbcf88ce-ec73-462c-a85f-ac8b6ba1e9d7"
      },
      "outputs": [
        {
          "name": "stdout",
          "output_type": "stream",
          "text": [
            "contingency_table :-\n",
            " Shopping  No  Yes\n",
            "Gender           \n",
            "Female     2    3\n",
            "Male       2    2\n",
            "Observed Values :-\n",
            " [[2 3]\n",
            " [2 2]]\n",
            "Expected Values :-\n",
            " [[2.22222222 2.77777778]\n",
            " [1.77777778 2.22222222]]\n",
            "Degree of Freedom:- 1\n",
            "chi-square statistic:- 0.09000000000000008\n",
            "critical_value: 3.841458820694124\n",
            "p-value: 0.7641771556220945\n",
            "Significance level:  0.05\n",
            "Degree of Freedom:  1\n",
            "chi-square statistic: 0.09000000000000008\n",
            "critical_value: 3.841458820694124\n",
            "p-value: 0.7641771556220945\n",
            "Retain $H_0$,There is no relationship between 2 categorical variables\n",
            "Retain $H_0$,There is no relationship between 2 categorical variables\n"
          ]
        }
      ],
      "source": [
        "from scipy.stats import chi2_contingency\n",
        "import pandas as pd\n",
        "# Load the chi-test.csv file\n",
        "df_chi = pd.read_csv('chi-test.csv')\n",
        "contingency_table=pd.crosstab(df_chi[\"Gender\"],df_chi[\"Shopping\"])\n",
        "print('contingency_table :-\\n',contingency_table)\n",
        "# Observed Values\n",
        "Observed_Values = contingency_table.values\n",
        "print(\"Observed Values :-\\n\",Observed_Values)\n",
        "b=stats.chi2_contingency(contingency_table)\n",
        "Expected_Values = b[3]\n",
        "print(\"Expected Values :-\\n\",Expected_Values)\n",
        "no_of_rows=len(contingency_table.iloc[0:2,0])\n",
        "no_of_columns=len(contingency_table.iloc[0,0:2])\n",
        "ddof=(no_of_rows-1)*(no_of_columns-1)\n",
        "print(\"Degree of Freedom:-\",ddof)\n",
        "alpha = 0.05\n",
        "from scipy.stats import chi2\n",
        "chi_square=sum([(o-e)**2./e for o,e in zip(Observed_Values,Expected_Values)])\n",
        "chi_square_statistic=chi_square[0]+chi_square[1]\n",
        "print(\"chi-square statistic:-\",chi_square_statistic)\n",
        "critical_value=chi2.ppf(q=1-alpha,df=ddof)\n",
        "print('critical_value:',critical_value)\n",
        "# P-value\n",
        "p_value=1-chi2.cdf(x=chi_square_statistic,df=ddof)\n",
        "print('p-value:',p_value)\n",
        "print('Significance level: ',alpha)\n",
        "print('Degree of Freedom: ',ddof)\n",
        "print('chi-square statistic:',chi_square_statistic)\n",
        "print('critical_value:',critical_value)\n",
        "print('p-value:',p_value)\n",
        "if chi_square_statistic>=critical_value:\n",
        "    print(\"Reject $H_0$,There is a relationship between 2 categorical variables\")\n",
        "else:\n",
        "    print(\"Retain $H_0$,There is no relationship between 2 categorical variables\")\n",
        "\n",
        "if p_value<=alpha:\n",
        "    print(\"Reject $H_0$,There is a relationship between 2 categorical variables\")\n",
        "else:\n",
        "    print(\"Retain $H_0$,There is no relationship between 2 categorical variables\")"
      ]
    },
    {
      "cell_type": "markdown",
      "id": "mRZu68Dc4ggy",
      "metadata": {
        "id": "mRZu68Dc4ggy"
      },
      "source": [
        "**Observation**:\n",
        "The output suggests that the chi-square statistic is not greater than the critical value, and the p-value is higher than the significance level. Therefore, we retain the null hypothesis, concluding that there is no significant relationship between gender and shopping preference according to the chi-square test for independence."
      ]
    },
    {
      "cell_type": "markdown",
      "id": "e100b4fb",
      "metadata": {
        "id": "e100b4fb"
      },
      "source": [
        "## __13. Analysis of Variance or ANOVA__"
      ]
    },
    {
      "cell_type": "markdown",
      "id": "e6d312dd",
      "metadata": {
        "id": "e6d312dd"
      },
      "source": [
        "ANOVA, or Analysis of Variance, is a collection of statistical models and their associated estimation procedures used\n",
        "to analyze the differences among means. It was developed by the statistician, Ronald Fisher in 1918. Please note that\n",
        "the term ‘variance’ is used to indicate the ‘variation’ or the ‘dispersion’ and must not be confused with the common\n",
        "statistical term ‘variance’.\n",
        "\n",
        "The ANOVA test extends the T and the Z-test, as they are constrained to allowing the nominal level variable to have\n",
        "only two categories. ANOVA is also called the Fisher analysis of variance and is suitable for performing simultaneous\n",
        "tests on sets of data drawn from different populations."
      ]
    },
    {
      "cell_type": "markdown",
      "id": "695c23b0",
      "metadata": {
        "id": "695c23b0"
      },
      "source": [
        "![ANOVA.png](https://s3.us-east-1.amazonaws.com/static2.simplilearn.com/lms/testpaper_images/ADSP/Advanced_Statistics/ANOVA.png)"
      ]
    },
    {
      "cell_type": "markdown",
      "id": "a237177a",
      "metadata": {
        "id": "a237177a"
      },
      "source": [
        "As you can see on the screen, there are four groups: A, B, C, and D, and their sample distributions are compared.\n",
        "\n"
      ]
    },
    {
      "cell_type": "markdown",
      "id": "ca8fe1c0",
      "metadata": {
        "id": "ca8fe1c0"
      },
      "source": [
        "### __13.1 How Does ANOVA Work?__"
      ]
    },
    {
      "cell_type": "markdown",
      "id": "d8848824",
      "metadata": {
        "id": "d8848824"
      },
      "source": [
        "Statistical tests such as T-Test, Z-Test are good for univariate situations. On the other hand,\n",
        "the ANOVA test compares the means of different groups and reveals any statistical differences between them.\n",
        "\n",
        "ANOVA is used in the analysis of complex multivariate situations, and most of the bio-chemical, pharmaceutical, and\n",
        "science researchers depend heavily on ANOVA for studying the effect on the dependent variable by multiple independent\n",
        "variables.\n",
        "\n",
        "<b>To understand how ANOVA works, let’s consider a medical experiment example:</b>\n",
        "    \n",
        "To study the effectiveness of different hypertension medicines, scientists usually plan and conduct experiments to\n",
        "understand the relationship between the type of medicine and the resulting blood pressure. The sample population is,\n",
        "obviously, a set of people or patients. The scientists generally divide the sample population into multiple groups,\n",
        "and each group is administered a particular medicine for a trial period.\n",
        "\n",
        "In the end, hypertension levels are measured for each of the individual patients. For each group, the mean hypertension\n",
        "level is calculated. ANOVA then helps in comparing these group ‘means’ to find out if they are statistically varying or\n",
        "similar.\n"
      ]
    },
    {
      "cell_type": "markdown",
      "id": "53f8bc00",
      "metadata": {
        "id": "53f8bc00"
      },
      "source": [
        "### __13.2 ANOVA Terminologies__"
      ]
    },
    {
      "cell_type": "markdown",
      "id": "28f3837f",
      "metadata": {
        "id": "28f3837f"
      },
      "source": [
        "ANOVA uses many concepts and compares and produces the outcomes.\n",
        "\n",
        "* <b>Sample and Grand Means:</b> A sample mean is the average value for a specific group. The grand mean, on the\n",
        "    other hand, is the average of the sample means from various samples.\n",
        "    \n",
        "\n",
        "* <b>Dependent Variable:</b> It is the item or subject under investigation that is supposed to be influenced by many\n",
        "    other independent variables.\n",
        "    \n",
        "\n",
        "* <b>Independent Variables:</b> There are many of them. Each of them could have an impact on or influence the\n",
        "    dependent variable.\n",
        "    \n",
        "\n",
        "* <b>Factor:</b> Independent variables are frequently referred to as factors.\n",
        "\n",
        "\n",
        "* <b>Levels:</b> It denotes the different values of factors that are used in any typical experiment. For example, the\n",
        "    different medicines cited in the previous section.\n",
        "\n",
        "\n",
        "* <b>F-Statistic:</b> It is also known as F-Ratio. This is the outcome of ANOVA.\n",
        "\n",
        "\n",
        "* <b>Fixed-factor Model:</b> In this model, experiments use only a discrete set of levels of factors.\n",
        "\n",
        "\n",
        "* <b>Random-factor Model:</b> In this model, a random value of level is drawn from multiple possible values of the factor.\n",
        "\n"
      ]
    },
    {
      "cell_type": "markdown",
      "id": "9db8d6b0",
      "metadata": {
        "id": "9db8d6b0"
      },
      "source": [
        "### __13.3 ANOVA Outcome__"
      ]
    },
    {
      "cell_type": "markdown",
      "id": "bbc204d5",
      "metadata": {
        "id": "bbc204d5"
      },
      "source": [
        "\n",
        "ANOVA's outcome is known as the ‘F-statistic’. This is a ratio that shows the difference between the variation in\n",
        "the inter-group and the intra-group. With the help of this ratio, one can conclude whether the Null Hypothesis is\n",
        "true and either accept it or reject it.\n"
      ]
    },
    {
      "cell_type": "markdown",
      "id": "4083a77b",
      "metadata": {
        "id": "4083a77b"
      },
      "source": [
        "### __13.4 Assumptions and Types of ANOVA__\n",
        "\n",
        "\n"
      ]
    },
    {
      "cell_type": "markdown",
      "id": "15ca6883",
      "metadata": {
        "id": "15ca6883"
      },
      "source": [
        "<b>Purpose and Procedure of ANOVA: </b>\n",
        "ANOVA is an omnibus test statistic. The null hypothesis for ANOVA is that there is no significant difference in the\n",
        "‘mean’ values among the groups. The alternative hypothesis, on the other hand, concludes that there are at least some\n",
        "significant differences.\n",
        "\n",
        "ANOVA makes the following assumptions about the probability distribution of the responses:\n",
        "\n",
        "1. Independence of observations\n",
        "\n",
        "2. Normalcy\n",
        "\n",
        "3. Equality of variances\n",
        "\n",
        "\n",
        "The first one is obvious and needs no further description. The normalcy indicates that the distribution of the\n",
        "'residuals' is normal. The equality of variances essentially means that the variance of data in the groups should be\n",
        "the same.\n",
        "\n",
        "<b>Note:</b> Assumptions also depend on the types of ANOVA used.\n",
        "\n"
      ]
    },
    {
      "cell_type": "markdown",
      "id": "a576c028",
      "metadata": {
        "id": "a576c028"
      },
      "source": [
        "### __13.5 Types of ANOVA__"
      ]
    },
    {
      "cell_type": "markdown",
      "id": "d67f573e",
      "metadata": {
        "id": "d67f573e"
      },
      "source": [
        "There are two types of ANOVA:\n",
        "\n",
        "1. One-way ANOVA\n",
        "\n",
        "\n",
        "2. Two-way ANOVA\n",
        "\n",
        "These are also referred to as one-factor ANOVA and two-factor ANOVA respectively.\n",
        "\n"
      ]
    },
    {
      "cell_type": "markdown",
      "id": "e41f7bcf",
      "metadata": {
        "id": "e41f7bcf"
      },
      "source": [
        "### __One-Way ANOVA__"
      ]
    },
    {
      "cell_type": "markdown",
      "id": "b08d3e4c",
      "metadata": {
        "id": "b08d3e4c"
      },
      "source": [
        "One-way ANOVA, also known as simple ANOVA or just ANOVA, is suitable for experiments with only one factor\n",
        "(independent variable) with two or more levels. A one-way ANOVA assumes the following:\n",
        "\n",
        "* Independence\n",
        "\n",
        "\n",
        "* Normalcy\n",
        "\n",
        "\n",
        "* Variance\n",
        "\n",
        "\n",
        "* Continuous data\n",
        "\n",
        "The one-way ANOVA needs to operate on continuous data.\n",
        "\n"
      ]
    },
    {
      "cell_type": "markdown",
      "id": "5caa02a6",
      "metadata": {
        "id": "5caa02a6"
      },
      "source": [
        "### __Example:__"
      ]
    },
    {
      "cell_type": "markdown",
      "id": "5a98c7fa",
      "metadata": {
        "id": "5a98c7fa"
      },
      "source": [
        "\n",
        "\n",
        "Three different categories of plants can be differentiated on the basis of their weights. A dataset with various plants and\n",
        "their weights are given. Construct a hypothetical test to determine the category of a plant at a significance level of 0.05."
      ]
    },
    {
      "cell_type": "code",
      "execution_count": null,
      "id": "b8f96c15",
      "metadata": {
        "id": "b8f96c15"
      },
      "outputs": [],
      "source": [
        "import pandas as pd\n",
        "from scipy import stats\n",
        "from statsmodels.stats import weightstats as stests\n",
        "df = pd.read_csv('plant.csv')\n"
      ]
    },
    {
      "cell_type": "code",
      "execution_count": null,
      "id": "5eea840f",
      "metadata": {
        "id": "5eea840f",
        "outputId": "7cf7ed12-3d0a-49c5-fa01-2f1ce531e041"
      },
      "outputs": [
        {
          "name": "stdout",
          "output_type": "stream",
          "text": [
            "p-value for significance is:  0.0159099583256229\n",
            "reject null hypothesis\n"
          ]
        }
      ],
      "source": [
        "df = df[['weight','group']]\n",
        "groups = pd.unique(df.group.values)\n",
        "data = {grp:df['weight'][df.group == grp] for grp in groups}\n",
        "\n",
        "F, p = stats.f_oneway(data['ctrl'], data['trt1'], data['trt2'])\n",
        "print(\"p-value for significance is: \", p)\n",
        "if p<0.05:\n",
        "    print(\"reject null hypothesis\")\n",
        "else:\n",
        "    print(\"accept null hypothesis\")"
      ]
    },
    {
      "cell_type": "markdown",
      "id": "291691d1",
      "metadata": {
        "id": "291691d1"
      },
      "source": [
        "### __Two-Way ANOVA__"
      ]
    },
    {
      "cell_type": "markdown",
      "id": "dcf4f55a",
      "metadata": {
        "id": "dcf4f55a"
      },
      "source": [
        "The two-way ANOVA is used when there are two or more independent variables. It is also known as full factorial ANOVA or\n",
        "two-factor ANOVA. This test assumes importance when every possible permutation of factors and their levels are used.\n",
        "It is based on the following assumptions:\n",
        "\n",
        "* Independence\n",
        "\n",
        "\n",
        "* Normalcy\n",
        "\n",
        "\n",
        "* Variance\n",
        "\n",
        "\n",
        "* Continuous data\n",
        "\n",
        "\n",
        "* Categories\n",
        "\n",
        "For two-way ANOVA, the independent variables should be in separate groups or categories.\n",
        "\n"
      ]
    },
    {
      "cell_type": "markdown",
      "id": "c9cee631",
      "metadata": {
        "id": "c9cee631"
      },
      "source": [
        "N-Way ANOVA\n",
        "\n",
        "With increasing independent variables, ANOVA moves into a more complex category of problems which are tackled by N-Way\n",
        "ANOVA or MANOVA. The term MANOVA stands for multivariate analysis of variance.\n",
        "\n",
        "<b>For example:</b>\n",
        "    \n",
        "Analysis of voter preferences based on gender, age, ethnicity, and other such parameters can be studied using MANOVA\n",
        "\n"
      ]
    },
    {
      "cell_type": "markdown",
      "id": "456b687b",
      "metadata": {
        "id": "456b687b"
      },
      "source": [
        "### __Example:__"
      ]
    },
    {
      "cell_type": "markdown",
      "id": "8efc2237",
      "metadata": {
        "id": "8efc2237"
      },
      "source": [
        "\n",
        "The yield of crops depends on factors like fertilizers and water usage. A researcher wants to find conditions for\n",
        "a higher crop yield by each factor as well as with the factors grouped together."
      ]
    },
    {
      "cell_type": "code",
      "execution_count": null,
      "id": "71f317ce",
      "metadata": {
        "id": "71f317ce",
        "outputId": "eff8fb9a-94c4-4709-fef9-9308672bf633"
      },
      "outputs": [
        {
          "name": "stdout",
          "output_type": "stream",
          "text": [
            "Overall model F( 3, 16) =  4.112, p =  0.0243\n",
            "                   sum_sq    df         F    PR(>F)\n",
            "C(Fert)            69.192   1.0  5.766000  0.028847\n",
            "C(Water)           63.368   1.0  5.280667  0.035386\n",
            "C(Fert):C(Water)   15.488   1.0  1.290667  0.272656\n",
            "Residual          192.000  16.0       NaN       NaN\n"
          ]
        }
      ],
      "source": [
        "# Import the necessary libraries\n",
        "import statsmodels.api as sm\n",
        "from statsmodels.formula.api import ols\n",
        "\n",
        "# Load the crop_yield.csv dataset\n",
        "df_anova2 = pd.read_csv(\"crop_yield.csv\")\n",
        "\n",
        "# Fit the model\n",
        "model = ols('Yield ~ C(Fert)*C(Water)', df_anova2).fit()\n",
        "\n",
        "# Print the overall model\n",
        "print(f\"Overall model F({model.df_model: .0f},{model.df_resid: .0f}) = {model.fvalue: .3f}, p = {model.f_pvalue: .4f}\")\n",
        "\n",
        "# Perform ANOVA and print the table\n",
        "res = sm.stats.anova_lm(model, typ= 2)\n",
        "print(res)"
      ]
    },
    {
      "cell_type": "markdown",
      "id": "LVQIzu0FqyTh",
      "metadata": {
        "id": "LVQIzu0FqyTh"
      },
      "source": [
        "**Observation:**\n",
        "\n",
        "The overall model result, `F(3, 16) = 4.112, p = 0.0243`, tells you about the fit of the entire model, including all the predictors (Fert, Water, and the interaction term). An F-statistic of 4.112 and p-value of 0.0243 (which is less than the usual significance level of 0.05) indicates that the model as a whole is statistically significant, meaning there is evidence that at least one of the predictors has a non-zero effect.\n",
        "\n",
        "The ANOVA table provides results for each of the main effects and the interaction:\n",
        "\n",
        "1. **Fertilizer (Fert):** The p-value for Fert is 0.028847, which is less than 0.05. This indicates that there is a statistically significant difference in crop yield between the different types of fertilizer.\n",
        "\n",
        "2. **Water (Water):** The p-value for Water is 0.035386, which is also less than 0.05. This indicates that there is a statistically significant difference in crop yield between different water levels.\n",
        "\n",
        "3. **Interaction between Fertilizer and Water (Fert:Water):** The p-value for the interaction is 0.272656, which is greater than 0.05. This suggests that there is not a statistically significant interaction between Fert and Water. In other words, the effect of the type of fertilizer on crop yield does not depend on the level of water, and vice versa.\n",
        "\n",
        "4. **Residual:** The Residual row provides the sum of squares of the residuals, which are the differences between the observed and predicted values. This row does not provide an F-statistic or p-value.\n",
        "\n",
        "These results suggest that both types of fertilizer and water levels have a significant effect on crop yield when considered individually, but there's no evidence to suggest that the effect of one depends on the level of the other."
      ]
    },
    {
      "cell_type": "markdown",
      "id": "7c779a50-22ae-4b6a-905f-47957975563a",
      "metadata": {
        "id": "7c779a50-22ae-4b6a-905f-47957975563a"
      },
      "source": [
        "## __14. F-Distribution__"
      ]
    },
    {
      "cell_type": "markdown",
      "id": "c337bc10-ad4e-4040-963c-2134dc4cf181",
      "metadata": {
        "id": "c337bc10-ad4e-4040-963c-2134dc4cf181"
      },
      "source": [
        "The F-distribution is similar to and related to χ2 distribution. the F-distribution or F-ratio, also known as Snedecor's\n",
        "F-distribution or the Fisher–Snedecor distribution.\n",
        "\n",
        "F-distribution is essentially a continuous probability distribution that arises frequently as the null distribution of a\n",
        "test statistic, most notably in the analysis of variance (ANOVA) and other  F-test.\n",
        "\n",
        "Unlike the chi-square distribution, F-distribution deals with multiple random variables.\n",
        "\n",
        "Consider a situation of two independent random variables, R1 and R2 that have an χ2 distribution with Degrees of\n",
        "Freedom (DOF) d1 and d2 respectively. The F-distribution or the F-ratio for this situation is expressed as below:\n",
        "\n",
        "F = (R1/d1)/(R2/d2)"
      ]
    },
    {
      "cell_type": "markdown",
      "id": "0cd337c4-57ab-40ba-8040-ee5568ec5c3a",
      "metadata": {
        "id": "0cd337c4-57ab-40ba-8040-ee5568ec5c3a"
      },
      "source": [
        "### __14.1 The Probability Density Function of F-Distribution__"
      ]
    },
    {
      "cell_type": "markdown",
      "id": "bb1f401d-fc11-4c53-9de7-551ab31103eb",
      "metadata": {
        "id": "bb1f401d-fc11-4c53-9de7-551ab31103eb"
      },
      "source": [
        "The probability density function for F-distribution can be computed using the below formula:\n",
        "\n",
        "![PD_of_F.png](https://s3.us-east-1.amazonaws.com/static2.simplilearn.com/lms/testpaper_images/ADSP/Advanced_Statistics/PD_of_F.png)\n",
        "\n",
        "The formula is valid for all positive values of x and the Degree of Freedom, d1 and d2. The ‘B’ in the formula represents the ‘beta function’."
      ]
    },
    {
      "cell_type": "markdown",
      "id": "7f7903ab-9dda-4513-8b7a-dc7e5e93806b",
      "metadata": {
        "id": "7f7903ab-9dda-4513-8b7a-dc7e5e93806b"
      },
      "source": [
        "### __14.2 Graph of F-Distribution’s PDF__"
      ]
    },
    {
      "cell_type": "markdown",
      "id": "5e7a6f91-58f5-411e-ac41-72627251a86c",
      "metadata": {
        "id": "5e7a6f91-58f5-411e-ac41-72627251a86c"
      },
      "source": [
        "A typical PDF of F-distribution is shown below:\n",
        "\n",
        "![F_image.png](https://s3.us-east-1.amazonaws.com/static2.simplilearn.com/lms/testpaper_images/ADSP/Advanced_Statistics/F_image.png)\n",
        "\n",
        "The figure suggests that the shape of the F-distribution curve depends on the two Degrees of Freedom, d1 and d2."
      ]
    },
    {
      "cell_type": "markdown",
      "id": "978e5310-4059-49bd-b1a1-79ad4fdde6a7",
      "metadata": {
        "id": "978e5310-4059-49bd-b1a1-79ad4fdde6a7"
      },
      "source": [
        "### __14.3 Description of F-distribution__"
      ]
    },
    {
      "cell_type": "markdown",
      "id": "0e373167-eb6c-4842-911c-a6ae30adff4d",
      "metadata": {
        "id": "0e373167-eb6c-4842-911c-a6ae30adff4d"
      },
      "source": [
        "F-distribution is always described by stating the number of DOFs associated with the standard deviation in the\n",
        "numerator of the f-statistic first.\n",
        "\n",
        "Thus, f(6, 8) refers to an F-distribution with $d_1 = 6 $ and $d_2 = 8$ Degrees of Freedom. Likewise, f(8, 6) also refers\n",
        "to an F-distribution with $d_1 = 8$ and $d_2 = 6$ degrees of freedom.\n",
        "\n",
        "<b>Note:</b> The curves represented by f(6, 8) and f(8, 6) are different from each other.\n"
      ]
    },
    {
      "cell_type": "markdown",
      "id": "50533235-0325-45b9-8cc3-8226532d50a8",
      "metadata": {
        "id": "50533235-0325-45b9-8cc3-8226532d50a8"
      },
      "source": [
        "### __F-Distribution Using Python__"
      ]
    },
    {
      "cell_type": "markdown",
      "id": "408168a4-14d3-46c2-8802-2254aef436bc",
      "metadata": {
        "id": "408168a4-14d3-46c2-8802-2254aef436bc"
      },
      "source": [
        "A random variable\n",
        "\n",
        "$ F \\sim \\frac {\\chi_1^2/v1}{\\chi_2^2/v2} $"
      ]
    },
    {
      "cell_type": "code",
      "execution_count": null,
      "id": "2fc61aa9-a569-4a48-8c49-f11d73cc4fbf",
      "metadata": {
        "id": "2fc61aa9-a569-4a48-8c49-f11d73cc4fbf",
        "outputId": "dcfd885a-a723-4d72-e423-2afe8ffe7e82"
      },
      "outputs": [
        {
          "data": {
            "text/plain": [
              "<matplotlib.legend.Legend at 0x7f744281af50>"
            ]
          },
          "execution_count": 19,
          "metadata": {},
          "output_type": "execute_result"
        },
        {
          "data": {
            "image/png": "[encoded data removed]",
            "text/plain": [
              "<Figure size 1800x900 with 1 Axes>"
            ]
          },
          "metadata": {
            "needs_background": "light"
          },
          "output_type": "display_data"
        }
      ],
      "source": [
        "# Code for F-distribution\n",
        "import matplotlib.pyplot as plt\n",
        "import numpy as np\n",
        "from scipy.stats import f\n",
        "x = np.linspace(0, 4.5, 1000)\n",
        "data_1 = f(1, 1, 0)\n",
        "data_2 = f(5,8, 0)\n",
        "data_3 = f(4, 4, 0)\n",
        "data_4 = f(100, 200, 0)\n",
        "plt.figure(figsize=(12, 6),dpi = 150)\n",
        "plt.plot(x,data_1.pdf(x), label = '1,1')\n",
        "plt.plot(x, data_2.pdf(x), label = '5,8')\n",
        "plt.plot(x, data_3.pdf(x), label = '4,4')\n",
        "plt.plot(x, data_4.pdf(x), label = '100,200')\n",
        "plt.legend()"
      ]
    },
    {
      "cell_type": "markdown",
      "id": "43bdc916-203c-4505-b10d-ff36cf09de60",
      "metadata": {
        "id": "43bdc916-203c-4505-b10d-ff36cf09de60"
      },
      "source": [
        "$ H_0 : \\sigma_1^2 = \\sigma_2^2 $ <br>\n",
        "$ H_1 : \\sigma_1^2 \\ne \\sigma_2^2 $"
      ]
    },
    {
      "cell_type": "code",
      "execution_count": null,
      "id": "4d3a7e53-424b-4add-8af4-177a5be6e4c6",
      "metadata": {
        "id": "4d3a7e53-424b-4add-8af4-177a5be6e4c6",
        "outputId": "0b6fe65a-6670-4312-8ec4-2ddebb894d3b"
      },
      "outputs": [
        {
          "data": {
            "text/plain": [
              "0.027388728443720423"
            ]
          },
          "execution_count": 20,
          "metadata": {},
          "output_type": "execute_result"
        }
      ],
      "source": [
        "import random\n",
        "random.seed(20)\n",
        "\n",
        "# Generate data with same std\n",
        "x = np.array([random.gauss(100,15) for x in range(20)])\n",
        "y = np.array([random.gauss(100,15) for x in range(20)])\n",
        "\n",
        "# Calculate f_test_statistic\n",
        "f_test_stat = np.var(x,ddof=1) / np.var(y,ddof = 1)\n",
        "\n",
        "dfn = x.size - 1\n",
        "dfd = y.size - 1\n",
        "\n",
        "# Calculate p value\n",
        "p_value = 1 - f.cdf(f_test_stat,dfn,dfd)\n",
        "\n",
        "p_value"
      ]
    },
    {
      "cell_type": "markdown",
      "id": "944a486e-0489-4897-af55-39a2be220f3b",
      "metadata": {
        "id": "944a486e-0489-4897-af55-39a2be220f3b"
      },
      "source": [
        "p_value < 0.05 | Reject the Null Hypothesis | Variance is same"
      ]
    },
    {
      "cell_type": "code",
      "execution_count": null,
      "id": "fd540871-4fa5-476f-9893-3ab823f5ecea",
      "metadata": {
        "id": "fd540871-4fa5-476f-9893-3ab823f5ecea",
        "outputId": "51351536-b9db-484a-9007-facb9f43a658"
      },
      "outputs": [
        {
          "data": {
            "text/plain": [
              "0.6890214865041783"
            ]
          },
          "execution_count": 21,
          "metadata": {},
          "output_type": "execute_result"
        }
      ],
      "source": [
        "x = np.array([random.gauss(100,15) for x in range(20)])\n",
        "y = np.array([random.gauss(200,15) for x in range(20)])\n",
        "\n",
        "f_test_stat = np.var(x,ddof=1) / np.var(y,ddof = 1)\n",
        "dfn = x.size - 1\n",
        "dfd = y.size - 1\n",
        "p_value = 1 - f.cdf(f_test_stat,dfn,dfd)\n",
        "\n",
        "p_value"
      ]
    },
    {
      "cell_type": "markdown",
      "id": "f20e5d92-41e6-421b-a60c-20d3f8c7bfca",
      "metadata": {
        "id": "f20e5d92-41e6-421b-a60c-20d3f8c7bfca"
      },
      "source": [
        "p_value > 0.05 | Accept Null Hypothesis | Variance is not same"
      ]
    },
    {
      "cell_type": "markdown",
      "id": "49506ba9-4f56-4a36-9515-36fba18d5ff4",
      "metadata": {
        "id": "49506ba9-4f56-4a36-9515-36fba18d5ff4"
      },
      "source": [
        "## __15. F-Test__"
      ]
    },
    {
      "cell_type": "markdown",
      "id": "668c1fbb-d96d-4581-945b-4a2869e176f0",
      "metadata": {
        "id": "668c1fbb-d96d-4581-945b-4a2869e176f0"
      },
      "source": [
        "The F-test is a statistical test that is used to compare the variances of two populations. It is often used in the context of analysis of variance (ANOVA) and regression analysis.\n",
        "\n",
        "F-test is any statistical test where the test statistic has an F-distribution under the null hypothesis. It is mostly used when comparing statistical models fitted to a data set and identifying the model that best fits the population from which the data were sampled.\n",
        "\n",
        "F-test always implies the comparison of two variances. It resembles ANOVA."
      ]
    },
    {
      "cell_type": "markdown",
      "id": "1f8545df-6af1-4222-b1ca-c2cfae84288b",
      "metadata": {
        "id": "1f8545df-6af1-4222-b1ca-c2cfae84288b"
      },
      "source": [
        "### __15.1 Comparing Two Variances__"
      ]
    },
    {
      "cell_type": "markdown",
      "id": "e1e26ea3-1c1d-4015-aaba-c30821507d64",
      "metadata": {
        "id": "e1e26ea3-1c1d-4015-aaba-c30821507d64"
      },
      "source": [
        "The F-test compares two variances, $s_1$ and $s_2$, by calculating their ratio. The result is always positive, as\n",
        "variances are always positive.\n",
        "\n",
        "The equation for the F-test is shown below:\n",
        "\\begin{gather*}\n",
        "F = {s_1}^2 / {s_2}^2\n",
        "\\end{gather*}\n",
        "\n",
        "When the variances are equal, their ratio is 1."
      ]
    },
    {
      "cell_type": "markdown",
      "id": "3f3b9f34-b16f-4c04-a372-c170a8c7ae23",
      "metadata": {
        "id": "3f3b9f34-b16f-4c04-a372-c170a8c7ae23"
      },
      "source": [
        "<b>Example:</b>\n",
        "\n",
        "If two datasets are available with sample 1 (variance of 8) and sample 2 (variance of 8), the ratio would be 10/10 = 1.\n",
        "\n",
        "As a thumb rule, it is required to test whether the population variances are equal when running an F-test. In other words,\n",
        "if the samples are from the same population, the variances are 1. Then the null hypothesis will always be that the\n",
        "variances are equal."
      ]
    },
    {
      "cell_type": "markdown",
      "id": "e0744f5c-10b8-431b-8b1e-4aa99253f1c0",
      "metadata": {
        "id": "e0744f5c-10b8-431b-8b1e-4aa99253f1c0"
      },
      "source": [
        "### __15.2 Assumptions for F-Test__"
      ]
    },
    {
      "cell_type": "markdown",
      "id": "b25d18e5-0714-4d62-94fc-5c6ee60af48c",
      "metadata": {
        "id": "b25d18e5-0714-4d62-94fc-5c6ee60af48c"
      },
      "source": [
        "1. The population distribution must be approximately fitting to the normal distribution (It should resemble a bell curve.).\n",
        "\n",
        "2. The samples must be independent of each other.\n",
        "\n",
        "3. The larger variance is always in the numerator to force the test into a right-tailed test. Right-tailed tests\n",
        "   are easier to compute.\n",
        "    \n",
        "4. For two-tailed tests, alpha is to be taken at half-of-its value before finding the right critical value.\n",
        "\n",
        "5. If the standard deviations are available, square them to get the value of variances.\n",
        "\n",
        "6. If the degrees of freedom aren’t available in the F table, use the larger critical value to avoid Type I errors."
      ]
    },
    {
      "cell_type": "markdown",
      "id": "f9f00d12-ae01-4598-ab41-457e50a4dc01",
      "metadata": {
        "id": "f9f00d12-ae01-4598-ab41-457e50a4dc01"
      },
      "source": [
        "### __15.3 Steps to Perform F-Test__"
      ]
    },
    {
      "cell_type": "markdown",
      "id": "bbe97657-41d8-4327-bcd2-c52abb6709af",
      "metadata": {
        "id": "bbe97657-41d8-4327-bcd2-c52abb6709af"
      },
      "source": [
        "There are four simple steps for performing an F-test:\n",
        "\n",
        "\n",
        "Step 1. State the Null Hypothesis and Alternative Hypothesis\n",
        "\n",
        "Step 2. Compute the F-value using the residual sum of squares, number of restrictions(m), and number of independent variables(k)\n",
        "\n",
        "<center><b>Formula: F = (SSE_1 – SSE_2 / m) / (SSE_2 / n-k)</b></center>\n",
        "\n",
        "Step 3. Find the F-statistic and the critical value\n",
        "\n",
        "<center><b>F-statistic = (variance  of  the  group  means) / (mean  of  the  within  group  variances)</b></center>\n",
        "\n",
        "Step 4. Based on the results, support or reject the null hypothesis"
      ]
    },
    {
      "cell_type": "markdown",
      "id": "322ba3cb-2a07-4637-ae23-157264271207",
      "metadata": {
        "id": "322ba3cb-2a07-4637-ae23-157264271207"
      },
      "source": [
        "**Note:** F-critical is calculated using the F-table, degree of freedoms and Significance level. If observed value of F is greater than the F-critical value, then we reject the null hypothesis."
      ]
    },
    {
      "cell_type": "markdown",
      "id": "46d69124",
      "metadata": {
        "id": "46d69124"
      },
      "source": [
        "## __Exercise: Determine the Percentage of Defective User Data__"
      ]
    },
    {
      "cell_type": "markdown",
      "id": "04bbd85b",
      "metadata": {
        "id": "04bbd85b"
      },
      "source": [
        "### __Problem Statement:__"
      ]
    },
    {
      "cell_type": "markdown",
      "id": "fda7e56f",
      "metadata": {
        "id": "fda7e56f"
      },
      "source": [
        "TeleCall uses four centers around the globe to process customer order forms. They audit a certain percentage of the\n",
        "customer order forms. Any error in order form renders it defective and has to be reworked before processing. The manager\n",
        "wants to check whether the defective percentage varies by center. Analyze the data at 5% significance level and help\n",
        "the manager draw appropriate inferences"
      ]
    },
    {
      "cell_type": "markdown",
      "id": "95367d1b",
      "metadata": {
        "id": "95367d1b"
      },
      "source": [
        "### __Dataset:__  `Customer+OrderForm.csv`"
      ]
    },
    {
      "cell_type": "markdown",
      "id": "5a45e7da",
      "metadata": {
        "id": "5a45e7da"
      },
      "source": [
        "**Dimensions:**\n",
        "* 4 variables\n",
        "* 300 observations\n"
      ]
    },
    {
      "cell_type": "markdown",
      "id": "8b66fe0a",
      "metadata": {
        "id": "8b66fe0a"
      },
      "source": [
        "#### __Attribute Information:__"
      ]
    },
    {
      "cell_type": "markdown",
      "id": "419377da",
      "metadata": {
        "id": "419377da"
      },
      "source": [
        "The dataset contains data from four different locations of accurate and erroneous user data."
      ]
    },
    {
      "cell_type": "code",
      "execution_count": null,
      "id": "8d4c66f1",
      "metadata": {
        "id": "8d4c66f1"
      },
      "outputs": [],
      "source": [
        "customer = pd.read_csv('Customer+OrderForm.csv')\n",
        "customer.head()\n",
        "import scipy as sp"
      ]
    },
    {
      "cell_type": "code",
      "execution_count": null,
      "id": "4f816399",
      "metadata": {
        "id": "4f816399",
        "outputId": "f4ed7470-afbf-46f0-ca71-1ab6d6e171d1"
      },
      "outputs": [
        {
          "data": {
            "text/html": [
              "<div>\n",
              "<style scoped>\n",
              "    .dataframe tbody tr th:only-of-type {\n",
              "        vertical-align: middle;\n",
              "    }\n",
              "\n",
              "    .dataframe tbody tr th {\n",
              "        vertical-align: top;\n",
              "    }\n",
              "\n",
              "    .dataframe thead th {\n",
              "        text-align: right;\n",
              "    }\n",
              "</style>\n",
              "<table border=\"1\" class=\"dataframe\">\n",
              "  <thead>\n",
              "    <tr style=\"text-align: right;\">\n",
              "      <th></th>\n",
              "      <th>Phillippines</th>\n",
              "      <th>Indonesia</th>\n",
              "      <th>Malta</th>\n",
              "      <th>India</th>\n",
              "    </tr>\n",
              "  </thead>\n",
              "  <tbody>\n",
              "    <tr>\n",
              "      <th>count</th>\n",
              "      <td>300</td>\n",
              "      <td>300</td>\n",
              "      <td>300</td>\n",
              "      <td>300</td>\n",
              "    </tr>\n",
              "    <tr>\n",
              "      <th>unique</th>\n",
              "      <td>2</td>\n",
              "      <td>2</td>\n",
              "      <td>2</td>\n",
              "      <td>2</td>\n",
              "    </tr>\n",
              "    <tr>\n",
              "      <th>top</th>\n",
              "      <td>Error Free</td>\n",
              "      <td>Error Free</td>\n",
              "      <td>Error Free</td>\n",
              "      <td>Error Free</td>\n",
              "    </tr>\n",
              "    <tr>\n",
              "      <th>freq</th>\n",
              "      <td>271</td>\n",
              "      <td>267</td>\n",
              "      <td>269</td>\n",
              "      <td>280</td>\n",
              "    </tr>\n",
              "  </tbody>\n",
              "</table>\n",
              "</div>"
            ],
            "text/plain": [
              "       Phillippines   Indonesia       Malta       India\n",
              "count           300         300         300         300\n",
              "unique            2           2           2           2\n",
              "top      Error Free  Error Free  Error Free  Error Free\n",
              "freq            271         267         269         280"
            ]
          },
          "execution_count": 23,
          "metadata": {},
          "output_type": "execute_result"
        }
      ],
      "source": [
        "customer.describe()"
      ]
    },
    {
      "cell_type": "code",
      "execution_count": null,
      "id": "32cf3be0",
      "metadata": {
        "id": "32cf3be0",
        "outputId": "c623d105-44cb-40fd-a53f-bd7706086fa0"
      },
      "outputs": [
        {
          "name": "stdout",
          "output_type": "stream",
          "text": [
            "Error Free    271\n",
            "Defective      29\n",
            "Name: Phillippines, dtype: int64\n",
            "Error Free    267\n",
            "Defective      33\n",
            "Name: Indonesia, dtype: int64\n",
            "Error Free    269\n",
            "Defective      31\n",
            "Name: Malta, dtype: int64\n",
            "Error Free    280\n",
            "Defective      20\n",
            "Name: India, dtype: int64\n"
          ]
        }
      ],
      "source": [
        "Phillippines_value=customer['Phillippines'].value_counts()\n",
        "Indonesia_value=customer['Indonesia'].value_counts()\n",
        "Malta_value=customer['Malta'].value_counts()\n",
        "India_value=customer['India'].value_counts()\n",
        "print(Phillippines_value)\n",
        "print(Indonesia_value)\n",
        "print(Malta_value)\n",
        "print(India_value)"
      ]
    },
    {
      "cell_type": "markdown",
      "id": "9474b958",
      "metadata": {
        "id": "9474b958"
      },
      "source": [
        "Based on the error free value and defective value, we will use chi-square test"
      ]
    },
    {
      "cell_type": "code",
      "execution_count": null,
      "id": "c2b365b2",
      "metadata": {
        "id": "c2b365b2",
        "outputId": "f2416c82-5687-48fb-c66e-726bc063f949"
      },
      "outputs": [
        {
          "name": "stdout",
          "output_type": "stream",
          "text": [
            "T value is:  3.858960685820355\n",
            "P value is:  0.2771020991233135\n"
          ]
        }
      ],
      "source": [
        "chiStats = sp.stats.chi2_contingency([[271,267,269,280],[29,33,31,20]])\n",
        "print('T value is: ',chiStats[0])\n",
        "print('P value is: ',chiStats[1])"
      ]
    },
    {
      "cell_type": "code",
      "execution_count": null,
      "id": "8defaac5",
      "metadata": {
        "id": "8defaac5",
        "outputId": "52e74328-2f02-45a4-fde6-1c577a39f972"
      },
      "outputs": [
        {
          "name": "stdout",
          "output_type": "stream",
          "text": [
            "We accept Null Hypothesis\n"
          ]
        }
      ],
      "source": [
        "if chiStats[1] < 0.05:\n",
        "    print('We reject Null Hypothesis')\n",
        "else:\n",
        "    print('We accept Null Hypothesis')"
      ]
    },
    {
      "cell_type": "markdown",
      "id": "2a67f310",
      "metadata": {
        "id": "2a67f310"
      },
      "source": [
        "Since variables are not rejected, we cannot reject null hypothesis.\n",
        "Also, the proportion of defective percentage across the TeleCall center is same."
      ]
    },
    {
      "cell_type": "markdown",
      "id": "e4db129b-7388-424b-8d2f-e8876125593d",
      "metadata": {
        "id": "e4db129b-7388-424b-8d2f-e8876125593d"
      },
      "source": [
        "## __Assisted Practice__"
      ]
    },
    {
      "cell_type": "markdown",
      "id": "a8c42098-d386-43e3-99a5-df0b517df7d9",
      "metadata": {
        "id": "a8c42098-d386-43e3-99a5-df0b517df7d9"
      },
      "source": [
        "### __Problem Statement: Determine the Diameter of Two Units__\n",
        "\n",
        "An administrator wants to determine whether there is any significant difference in the diameter of cutlets between two units. A randomly selected sample of cutlets was collected from both units and measured. Analyze the data and draw inferences at a 5% significance level.\n",
        "\n",
        "$H_o$: $µ_A$ = $µ_B$ (The mean diameter of cutlets from both units is the same.)\n",
        "\n",
        "$H_a$: $µ_A$ ≠ $µ_B$ (The mean diameter of cutlets from the two units is different.)\n",
        "\n",
        "#### __Dataset:__\n",
        "\n",
        "Use `cutlets.csv` dataset\n",
        "\n",
        "Unit defines the diameter of cutlet.\n",
        "\n",
        "The dataset consists of two columns, that is Unit A and Unit B, with 35 values."
      ]
    },
    {
      "cell_type": "code",
      "execution_count": null,
      "id": "d2602255-46df-4d20-b500-40b39b00beaf",
      "metadata": {
        "id": "d2602255-46df-4d20-b500-40b39b00beaf"
      },
      "outputs": [],
      "source": []
    }
  ],
  "metadata": {
    "colab": {
      "provenance": [],
      "toc_visible": true,
      "include_colab_link": true
    },
    "kernelspec": {
      "display_name": "Python 3 [3.10]",
      "language": "python",
      "name": "python3"
    },
    "language_info": {
      "codemirror_mode": {
        "name": "ipython",
        "version": 3
      },
      "file_extension": ".py",
      "mimetype": "text/x-python",
      "name": "python",
      "nbconvert_exporter": "python",
      "pygments_lexer": "ipython3",
      "version": "3.10.2"
    }
  },
  "nbformat": 4,
  "nbformat_minor": 5
}